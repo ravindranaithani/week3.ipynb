{
  "cells": [
    {
      "cell_type": "markdown",
      "metadata": {
        "id": "view-in-github",
        "colab_type": "text"
      },
      "source": [
        "<a href=\"https://colab.research.google.com/github/ravindranaithani/week3.ipynb/blob/main/MLP_Week_4_LinearRegressionDemo.ipynb\" target=\"_parent\"><img src=\"https://colab.research.google.com/assets/colab-badge.svg\" alt=\"Open In Colab\"/></a>"
      ]
    },
    {
      "cell_type": "markdown",
      "metadata": {
        "id": "QSZK0t1nZued"
      },
      "source": [
        "# Linear Regression for house price prediction\n",
        "In this colab, we will build different linear regression models for california house price prediction:\n",
        "\n",
        "1. Linear regression (with normal equation and iterative optimization)\n",
        "2. Polynomial regression\n",
        "3. Regularized regression models - ridge and lasso.\n",
        "\n",
        "We will set regularization rate and polynomial degree with hyper-parameter tuning and cross validation.\n",
        "\n",
        "We will compare different models in terms of their parameter vectors and mean absolute error on train, devel and test sets."
      ]
    },
    {
      "cell_type": "markdown",
      "metadata": {
        "id": "LGfMQr8kaffZ"
      },
      "source": [
        "# Imports"
      ]
    },
    {
      "cell_type": "markdown",
      "metadata": {
        "id": "5LUzZUJ2jmcr"
      },
      "source": [
        "For regression problem, we need to import classes and utilities from `sklearn.linear_model`.  \n",
        "*  This module has implementations for different regression models like `LinearRegression`, `SGDRegressor`, `Ridge`, `Lasso`, `RidgeCV`, and `LassoCV`.  \n",
        "\n",
        "We also need to import a bunch of model selection utilities from `sklearn.model_selection` module and metrics from `sklearn.metrics` module.\n",
        "\n",
        "The data preprocessing utilities are imported from `sklearn.preprocessing` modules.\n",
        "\n"
      ]
    },
    {
      "cell_type": "code",
      "execution_count": null,
      "metadata": {
        "id": "OlMnPchu1ohk"
      },
      "outputs": [],
      "source": [
        "import numpy as np\n",
        "import pandas as pd\n",
        "import matplotlib.pyplot as plt\n",
        "import seaborn as sns\n",
        "\n",
        "from scipy.stats import loguniform\n",
        "from scipy.stats import uniform\n",
        "\n",
        "from sklearn.datasets import fetch_california_housing\n",
        "from sklearn.dummy import DummyRegressor\n",
        "from sklearn.linear_model import LinearRegression\n",
        "from sklearn.linear_model import Lasso\n",
        "from sklearn.linear_model import LassoCV\n",
        "from sklearn.linear_model import RidgeCV\n",
        "from sklearn.linear_model import Ridge\n",
        "from sklearn.linear_model import SGDRegressor\n",
        "from sklearn.metrics import mean_squared_error\n",
        "from sklearn.metrics import mean_absolute_error\n",
        "from sklearn.metrics import mean_absolute_percentage_error\n",
        "from sklearn.model_selection import cross_validate\n",
        "from sklearn.model_selection import cross_val_score\n",
        "from sklearn.model_selection import train_test_split\n",
        "from sklearn.model_selection import ShuffleSplit\n",
        "from sklearn.model_selection import validation_curve\n",
        "from sklearn.model_selection import GridSearchCV\n",
        "from sklearn.model_selection import RandomizedSearchCV\n",
        "from sklearn.preprocessing import PolynomialFeatures\n",
        "from sklearn.preprocessing import StandardScaler\n",
        "from sklearn.pipeline import Pipeline"
      ]
    },
    {
      "cell_type": "markdown",
      "metadata": {
        "id": "Q9EuwDArkg8k"
      },
      "source": [
        "# Common set up"
      ]
    },
    {
      "cell_type": "markdown",
      "metadata": {
        "id": "XSkteY7U1BT6"
      },
      "source": [
        "Set up random seed to a number of your choice."
      ]
    },
    {
      "cell_type": "code",
      "execution_count": null,
      "metadata": {
        "id": "eVUWq3KGcHf7"
      },
      "outputs": [],
      "source": [
        "np.random.seed(306)"
      ]
    },
    {
      "cell_type": "markdown",
      "metadata": {
        "id": "Vdy9vjAAcKqc"
      },
      "source": [
        "Let's use `ShuffleSplit` as cv with 10 splits and 20% examples set aside as test examples."
      ]
    },
    {
      "cell_type": "code",
      "execution_count": null,
      "metadata": {
        "id": "n4qBLpbmcOA7"
      },
      "outputs": [],
      "source": [
        "cv = ShuffleSplit(n_splits=10, test_size=0.2, random_state=42)"
      ]
    },
    {
      "cell_type": "markdown",
      "metadata": {
        "id": "jvVYo3bZkcIq"
      },
      "source": [
        "# Data Loading and splitting"
      ]
    },
    {
      "cell_type": "markdown",
      "metadata": {
        "id": "xSCTQ8Ujcb4s"
      },
      "source": [
        "We use california housing dataset for this demo.  We will load this dataset with `fetch_california_housing` API as a dataframe.\n",
        "\n",
        "We will load the data and split it into three parts - train, dev and test.  Train+Dev will be used for cross validation and test will be used for evaluating the trained models."
      ]
    },
    {
      "cell_type": "code",
      "execution_count": null,
      "metadata": {
        "id": "kaqKP1lXcuD-"
      },
      "outputs": [],
      "source": [
        "# fetch dataset\n",
        "features, labels = fetch_california_housing(as_frame=True, return_X_y=True)\n",
        "\n",
        "# train-test split\n",
        "com_train_features, test_features, com_train_labels, test_labels = train_test_split(\n",
        "    features, labels, random_state=42)\n",
        "\n",
        "# train --> train + dev split\n",
        "train_features, dev_features, train_labels, dev_labels = train_test_split(\n",
        "    com_train_features, com_train_labels, random_state=42)"
      ]
    },
    {
      "cell_type": "code",
      "execution_count": null,
      "metadata": {
        "id": "M7kDMpkKPZOb"
      },
      "outputs": [],
      "source": [
        "?ShuffleSplit()"
      ]
    },
    {
      "cell_type": "markdown",
      "metadata": {
        "id": "eo9vFbjyahOx"
      },
      "source": [
        "# Linear regression with normal equation"
      ]
    },
    {
      "cell_type": "markdown",
      "metadata": {
        "id": "3b1OIS2K09fX"
      },
      "source": [
        "Let's use normal equation method to train linear regression model.\n",
        "\n",
        "We set up pipeline with two stages:\n",
        "* Feature scaling to scale features and\n",
        "* Linear regression on the transformed feature matrix.\n",
        "\n",
        "Throughout this colab, we will have the following pattern for each estimator:\n",
        "* We will be using `Pipeline` for combining data preprocessing and modeling steps.\n",
        "* `cross_validate` for training the model with `ShuffleSplit` cross validation and `neg_mean_absolute_error` as a scoring metric.\n",
        "*  Convert the scores to error and report mean absolute errors on the dev set.\n"
      ]
    },
    {
      "cell_type": "code",
      "execution_count": null,
      "metadata": {
        "colab": {
          "base_uri": "https://localhost:8080/"
        },
        "id": "jtfZaixic3en",
        "outputId": "13b316bb-991b-4527-9063-f9e3736fb566"
      },
      "outputs": [
        {
          "name": "stdout",
          "output_type": "stream",
          "text": [
            "Mean absolute error of linear regression model on the train set:\n",
            "0.530 +/- 0.002\n",
            "Mean absolute error of linear regression model on the test set:\n",
            "0.527 +/- 0.008\n"
          ]
        }
      ],
      "source": [
        "lin_reg_pipeline = Pipeline([(\"feature_scaling\", StandardScaler()),\n",
        "                             (\"lin_reg\", LinearRegression())])\n",
        "lin_reg_cv_results = cross_validate(lin_reg_pipeline,\n",
        "                                    com_train_features,\n",
        "                                    com_train_labels,\n",
        "                                    cv=cv,\n",
        "                                    scoring=\"neg_mean_absolute_error\",\n",
        "                                    return_train_score=True,\n",
        "                                    return_estimator=True)\n",
        "\n",
        "lin_reg_train_error = -1 * lin_reg_cv_results['train_score']\n",
        "lin_reg_test_error = -1 * lin_reg_cv_results['test_score']\n",
        "\n",
        "print(f\"Mean absolute error of linear regression model on the train set:\\n\"\n",
        "      f\"{lin_reg_train_error.mean():.3f} +/- {lin_reg_train_error.std():.3f}\")\n",
        "print(f\"Mean absolute error of linear regression model on the test set:\\n\"\n",
        "      f\"{lin_reg_test_error.mean():.3f} +/- {lin_reg_test_error.std():.3f}\")"
      ]
    },
    {
      "cell_type": "markdown",
      "metadata": {
        "id": "MuSjVQgw4SnO"
      },
      "source": [
        "Both the errors are close, but are not low.  This points to underfitting.  We can address it by adding more feature through polynomial regression."
      ]
    },
    {
      "cell_type": "markdown",
      "metadata": {
        "id": "YoG0_bYHalty"
      },
      "source": [
        "# Linear regression with SGD\n",
        "\n",
        "Let's use iterative optimization method to train linear regression model.\n",
        "\n",
        "We set up pipeline with two stages:\n",
        "* Feature scaling to scale features and\n",
        "* SGD regression on the transformed feature matrix.\n"
      ]
    },
    {
      "cell_type": "code",
      "execution_count": null,
      "metadata": {
        "colab": {
          "base_uri": "https://localhost:8080/",
          "height": 738
        },
        "id": "QPHwN3f3eQSI",
        "outputId": "d76fd56e-062e-4339-848f-d7d502a1a7dc"
      },
      "outputs": [
        {
          "ename": "ValueError",
          "evalue": "ignored",
          "output_type": "error",
          "traceback": [
            "\u001b[0;31m---------------------------------------------------------------------------\u001b[0m",
            "\u001b[0;31mValueError\u001b[0m                                Traceback (most recent call last)",
            "\u001b[0;32m<ipython-input-13-7aa43187f6ce>\u001b[0m in \u001b[0;36m<cell line: 14>\u001b[0;34m()\u001b[0m\n\u001b[1;32m     12\u001b[0m                                  random_state=42))])\n\u001b[1;32m     13\u001b[0m \u001b[0;34m\u001b[0m\u001b[0m\n\u001b[0;32m---> 14\u001b[0;31m sgd_reg_cv_results = cross_validate(sgd_reg_pipeline,\n\u001b[0m\u001b[1;32m     15\u001b[0m                                     \u001b[0mcom_train_features\u001b[0m\u001b[0;34m,\u001b[0m\u001b[0;34m\u001b[0m\u001b[0;34m\u001b[0m\u001b[0m\n\u001b[1;32m     16\u001b[0m                                     \u001b[0mcom_train_labels\u001b[0m\u001b[0;34m,\u001b[0m\u001b[0;34m\u001b[0m\u001b[0;34m\u001b[0m\u001b[0m\n",
            "\u001b[0;32m/usr/local/lib/python3.10/dist-packages/sklearn/model_selection/_validation.py\u001b[0m in \u001b[0;36mcross_validate\u001b[0;34m(estimator, X, y, groups, scoring, cv, n_jobs, verbose, fit_params, pre_dispatch, return_train_score, return_estimator, error_score)\u001b[0m\n\u001b[1;32m    283\u001b[0m     )\n\u001b[1;32m    284\u001b[0m \u001b[0;34m\u001b[0m\u001b[0m\n\u001b[0;32m--> 285\u001b[0;31m     \u001b[0m_warn_or_raise_about_fit_failures\u001b[0m\u001b[0;34m(\u001b[0m\u001b[0mresults\u001b[0m\u001b[0;34m,\u001b[0m \u001b[0merror_score\u001b[0m\u001b[0;34m)\u001b[0m\u001b[0;34m\u001b[0m\u001b[0;34m\u001b[0m\u001b[0m\n\u001b[0m\u001b[1;32m    286\u001b[0m \u001b[0;34m\u001b[0m\u001b[0m\n\u001b[1;32m    287\u001b[0m     \u001b[0;31m# For callabe scoring, the return type is only know after calling. If the\u001b[0m\u001b[0;34m\u001b[0m\u001b[0;34m\u001b[0m\u001b[0m\n",
            "\u001b[0;32m/usr/local/lib/python3.10/dist-packages/sklearn/model_selection/_validation.py\u001b[0m in \u001b[0;36m_warn_or_raise_about_fit_failures\u001b[0;34m(results, error_score)\u001b[0m\n\u001b[1;32m    365\u001b[0m                 \u001b[0;34mf\"Below are more details about the failures:\\n{fit_errors_summary}\"\u001b[0m\u001b[0;34m\u001b[0m\u001b[0;34m\u001b[0m\u001b[0m\n\u001b[1;32m    366\u001b[0m             )\n\u001b[0;32m--> 367\u001b[0;31m             \u001b[0;32mraise\u001b[0m \u001b[0mValueError\u001b[0m\u001b[0;34m(\u001b[0m\u001b[0mall_fits_failed_message\u001b[0m\u001b[0;34m)\u001b[0m\u001b[0;34m\u001b[0m\u001b[0;34m\u001b[0m\u001b[0m\n\u001b[0m\u001b[1;32m    368\u001b[0m \u001b[0;34m\u001b[0m\u001b[0m\n\u001b[1;32m    369\u001b[0m         \u001b[0;32melse\u001b[0m\u001b[0;34m:\u001b[0m\u001b[0;34m\u001b[0m\u001b[0;34m\u001b[0m\u001b[0m\n",
            "\u001b[0;31mValueError\u001b[0m: \nAll the 10 fits failed.\nIt is very likely that your model is misconfigured.\nYou can try to debug the error by setting error_score='raise'.\n\nBelow are more details about the failures:\n--------------------------------------------------------------------------------\n10 fits failed with the following error:\nTraceback (most recent call last):\n  File \"/usr/local/lib/python3.10/dist-packages/sklearn/model_selection/_validation.py\", line 686, in _fit_and_score\n    estimator.fit(X_train, y_train, **fit_params)\n  File \"/usr/local/lib/python3.10/dist-packages/sklearn/pipeline.py\", line 405, in fit\n    self._final_estimator.fit(Xt, y, **fit_params_last_step)\n  File \"/usr/local/lib/python3.10/dist-packages/sklearn/linear_model/_stochastic_gradient.py\", line 1582, in fit\n    self._validate_params()\n  File \"/usr/local/lib/python3.10/dist-packages/sklearn/base.py\", line 600, in _validate_params\n    validate_parameter_constraints(\n  File \"/usr/local/lib/python3.10/dist-packages/sklearn/utils/_param_validation.py\", line 97, in validate_parameter_constraints\n    raise InvalidParameterError(\nsklearn.utils._param_validation.InvalidParameterError: The 'max_iter' parameter of SGDRegressor must be an int in the range [1, inf). Got 65.0 instead.\n"
          ]
        }
      ],
      "source": [
        "sgd_reg_pipeline = Pipeline([(\"feature_scaling\", StandardScaler()),\n",
        "                             (\"sgd_reg\", SGDRegressor(\n",
        "                                 max_iter=np.ceil(\n",
        "                                    1e6/com_train_features.shape[0]),\n",
        "                                 early_stopping=True,\n",
        "                                 eta0=1e-4,\n",
        "                                 learning_rate='constant',\n",
        "                                 tol=1e-5,\n",
        "                                 validation_fraction=0.1,\n",
        "                                 n_iter_no_change=5,\n",
        "                                 average=10,\n",
        "                                 random_state=42))])\n",
        "\n",
        "sgd_reg_cv_results = cross_validate(sgd_reg_pipeline,\n",
        "                                    com_train_features,\n",
        "                                    com_train_labels,\n",
        "                                    cv=cv,\n",
        "                                    scoring=\"neg_mean_absolute_error\",\n",
        "                                    return_train_score=True,\n",
        "                                    return_estimator=True)\n",
        "\n",
        "sgd_train_error = -1 * sgd_reg_cv_results['train_score']\n",
        "sgd_test_error = -1 * sgd_reg_cv_results['test_score']\n",
        "\n",
        "print(f\"Mean absolute error of SGD regression model on the train set:\\n\"\n",
        "      f\"{sgd_train_error.mean():.3f} +/- {sgd_train_error.std():.3f}\")\n",
        "print(f\"Mean absolute error of SGD regression model on the test set:\\n\"\n",
        "      f\"{sgd_test_error.mean():.3f} +/- {sgd_test_error.std():.3f}\")"
      ]
    },
    {
      "cell_type": "markdown",
      "metadata": {
        "id": "k2tQBRPSaoSG"
      },
      "source": [
        "# Polynomial regression\n",
        "\n",
        "We will train a polynomial model with degree 2 and later we will use `validation_curve` to find out right degree to use for polynomial models.\n",
        "\n",
        "`PolynomialFeatures` transforms the features to the user specified degrees (here it is 2).  We perform feature scaling on the transformed features before using them for training the regression model."
      ]
    },
    {
      "cell_type": "code",
      "execution_count": null,
      "metadata": {
        "colab": {
          "base_uri": "https://localhost:8080/"
        },
        "id": "h2wyAXqyfQua",
        "outputId": "5008b96d-7f8a-4801-dfd7-481bf9905d13"
      },
      "outputs": [
        {
          "name": "stdout",
          "output_type": "stream",
          "text": [
            "Mean absolute error of linear regression model on the train set:\n",
            "0.461 +/- 0.003\n",
            "Mean absolute error of linear regression model on the test set:\n",
            "0.485 +/- 0.030\n"
          ]
        }
      ],
      "source": [
        "poly_reg_pipeline = Pipeline([(\"poly\", PolynomialFeatures(degree=2)),\n",
        "                              (\"feature_scaling\", StandardScaler()),\n",
        "                              (\"lin_reg\", LinearRegression())])\n",
        "poly_reg_cv_results = cross_validate(poly_reg_pipeline,\n",
        "                                    com_train_features,\n",
        "                                    com_train_labels,\n",
        "                                    cv=cv,\n",
        "                                    scoring=\"neg_mean_absolute_error\",\n",
        "                                    return_train_score=True,\n",
        "                                    return_estimator=True)\n",
        "\n",
        "poly_reg_train_error = -1 * poly_reg_cv_results['train_score']\n",
        "poly_reg_test_error = -1 * poly_reg_cv_results['test_score']\n",
        "\n",
        "print(f\"Mean absolute error of linear regression model on the train set:\\n\"\n",
        "      f\"{poly_reg_train_error.mean():.3f} +/- {poly_reg_train_error.std():.3f}\")\n",
        "print(f\"Mean absolute error of linear regression model on the test set:\\n\"\n",
        "      f\"{poly_reg_test_error.mean():.3f} +/- {poly_reg_test_error.std():.3f}\")"
      ]
    },
    {
      "cell_type": "markdown",
      "metadata": {
        "id": "N6HyJkj48CNt"
      },
      "source": [
        "Notice that the training and validation errors have reduced after using the second order polynomial features to represent the model."
      ]
    },
    {
      "cell_type": "markdown",
      "metadata": {
        "id": "98iS5U-Sf7vb"
      },
      "source": [
        "Instead of using all polynomial feature, we use only interaction feature terms in polynomial model and train the linear regression model."
      ]
    },
    {
      "cell_type": "code",
      "execution_count": null,
      "metadata": {
        "colab": {
          "background_save": true,
          "base_uri": "https://localhost:8080/"
        },
        "id": "2tHmESi3fswD",
        "outputId": "652301c4-1979-4696-bb3d-3ec4bf30ae81"
      },
      "outputs": [
        {
          "name": "stdout",
          "output_type": "stream",
          "text": [
            "Mean absolute error of polynomial regression model of degree 2 on the train set:\n",
            "0.478 +/- 0.003\n",
            "Mean absolute error of polynomial regression model of degree 2 on the test set:\n",
            "0.497 +/- 0.024\n"
          ]
        }
      ],
      "source": [
        "poly_reg_pipeline = Pipeline([(\"poly\", PolynomialFeatures(degree=2, interaction_only=True)),\n",
        "                              (\"feature_scaling\", StandardScaler()),\n",
        "                              (\"lin_reg\", LinearRegression())])\n",
        "poly_reg_cv_results = cross_validate(poly_reg_pipeline,\n",
        "                                    com_train_features,\n",
        "                                    com_train_labels,\n",
        "                                    cv=cv,\n",
        "                                    scoring=\"neg_mean_absolute_error\",\n",
        "                                    return_train_score=True,\n",
        "                                    return_estimator=True)\n",
        "\n",
        "poly_reg_train_error = -1 * poly_reg_cv_results['train_score']\n",
        "poly_reg_test_error = -1 * poly_reg_cv_results['test_score']\n",
        "\n",
        "print(f\"Mean absolute error of polynomial regression model of degree 2 on the train set:\\n\"\n",
        "      f\"{poly_reg_train_error.mean():.3f} +/- {poly_reg_train_error.std():.3f}\")\n",
        "print(f\"Mean absolute error of polynomial regression model of degree 2 on the test set:\\n\"\n",
        "      f\"{poly_reg_test_error.mean():.3f} +/- {poly_reg_test_error.std():.3f}\")"
      ]
    },
    {
      "cell_type": "markdown",
      "metadata": {
        "id": "1eyb1TKA4oXr"
      },
      "source": [
        "Let's figure out which degree polynomial is better suited for the regression problem at our hand. For that we will use `validation_curve`, which can be considered as a manual hyperparameter tuning.\n",
        "\n",
        "Here we specify a list of values that we want to try for polynomial degree and specify it as a parameter in `validation_curve`."
      ]
    },
    {
      "cell_type": "code",
      "execution_count": null,
      "metadata": {
        "colab": {
          "background_save": true,
          "base_uri": "https://localhost:8080/"
        },
        "id": "wTMk1vZbhE2K",
        "outputId": "716fd555-315d-4013-e08f-b25681dfae40"
      },
      "outputs": [
        {
          "data": {
            "image/png": "[encoded data removed]",
            "text/plain": [
              "<Figure size 640x480 with 1 Axes>"
            ]
          },
          "metadata": {},
          "output_type": "display_data"
        }
      ],
      "source": [
        "degree = [1, 2, 3, 4, 5]\n",
        "train_scores, test_scores = validation_curve(\n",
        "    poly_reg_pipeline, com_train_features, com_train_labels, param_name=\"poly__degree\",\n",
        "    param_range=degree, cv=cv, scoring=\"neg_mean_absolute_error\",\n",
        "    n_jobs=2)\n",
        "\n",
        "train_errors, test_errors = -train_scores, -test_scores\n",
        "plt.plot(degree, train_errors.mean(axis=1), 'b-x', label=\"Training error\")\n",
        "plt.plot(degree, test_errors.mean(axis=1), 'r-x', label=\"Test error\")\n",
        "plt.legend()\n",
        "\n",
        "plt.xlabel(\"degree\")\n",
        "plt.ylabel(\"Mean absolute error (k$)\")\n",
        "_ = plt.title(\"Validation curve for polynomial regression\")"
      ]
    },
    {
      "cell_type": "markdown",
      "metadata": {
        "id": "6bUC61D6IDHy"
      },
      "source": [
        "We would select a degree for which the mean absolute error is the least.  In this case, it is degree=2 that yields the least mean absolute error and that would be selected as an optimal degree for polynomial regression."
      ]
    },
    {
      "cell_type": "markdown",
      "metadata": {
        "id": "zRSFZtlGaqeh"
      },
      "source": [
        "# Ridge regression"
      ]
    },
    {
      "cell_type": "markdown",
      "metadata": {
        "id": "_95SCUT14qBJ"
      },
      "source": [
        "The polynomial models have a tendency to overfit - if we use higher order polynomial features. We will use `Ridge` regression - which penalizes for excessive model complexity in the polynomial regression by adding a regularization term.  Here we specify the regularization rate `alpha` as 0.5 and train the regression model.  Later we will launch hyperparameter search for the right value of `alpha` such that it leads to the least cross validation errors."
      ]
    },
    {
      "cell_type": "code",
      "execution_count": null,
      "metadata": {
        "colab": {
          "background_save": true,
          "base_uri": "https://localhost:8080/"
        },
        "id": "kf1S02nwiFQi",
        "outputId": "01b4c518-11e4-4462-c97a-8d654138662a"
      },
      "outputs": [
        {
          "name": "stdout",
          "output_type": "stream",
          "text": [
            "Mean absolute error of ridge regression model (alpha=0.5) on the train set:\n",
            "0.481 +/- 0.003\n",
            "Mean absolute error of ridge regression model (alpha=0.5) on the test set:\n",
            "0.487 +/- 0.006\n"
          ]
        }
      ],
      "source": [
        "ridge_reg_pipeline = Pipeline([(\"poly\", PolynomialFeatures(degree=2)),\n",
        "                              (\"feature_scaling\", StandardScaler()),\n",
        "                              (\"ridge\", Ridge(alpha=0.5))])\n",
        "ridge_reg_cv_results = cross_validate(ridge_reg_pipeline,\n",
        "                                    com_train_features,\n",
        "                                    com_train_labels,\n",
        "                                    cv=cv,\n",
        "                                    scoring=\"neg_mean_absolute_error\",\n",
        "                                    return_train_score=True,\n",
        "                                    return_estimator=True)\n",
        "\n",
        "ridge_reg_train_error = -1 * ridge_reg_cv_results['train_score']\n",
        "ridge_reg_test_error = -1 * ridge_reg_cv_results['test_score']\n",
        "\n",
        "print(f\"Mean absolute error of ridge regression model (alpha=0.5) on the train set:\\n\"\n",
        "      f\"{ridge_reg_train_error.mean():.3f} +/- {ridge_reg_train_error.std():.3f}\")\n",
        "print(f\"Mean absolute error of ridge regression model (alpha=0.5) on the test set:\\n\"\n",
        "      f\"{ridge_reg_test_error.mean():.3f} +/- {ridge_reg_test_error.std():.3f}\")"
      ]
    },
    {
      "cell_type": "markdown",
      "metadata": {
        "id": "lD6SAla8avD6"
      },
      "source": [
        "# HPT for ridge regularization rate"
      ]
    },
    {
      "cell_type": "code",
      "execution_count": null,
      "metadata": {
        "id": "N-ANEpLSwpBi"
      },
      "outputs": [],
      "source": [
        "alpha_list = np.logspace(-4, 0, num=20)\n",
        "ridge_reg_pipeline = Pipeline([(\"poly\", PolynomialFeatures(degree=2)),\n",
        "                              (\"feature_scaling\", StandardScaler()),\n",
        "                              (\"ridge_cv\", RidgeCV(alphas=alpha_list,\n",
        "                                                   cv=cv,\n",
        "                                                   scoring=\"neg_mean_absolute_error\"))])\n",
        "ridge_reg_cv_results = ridge_reg_pipeline.fit(com_train_features, com_train_labels)"
      ]
    },
    {
      "cell_type": "code",
      "execution_count": null,
      "metadata": {
        "colab": {
          "base_uri": "https://localhost:8080/"
        },
        "id": "E8YIJth2xIgN",
        "outputId": "e917b7b7-7a17-4358-ce3c-c3423d333067"
      },
      "outputs": [
        {
          "name": "stdout",
          "output_type": "stream",
          "text": [
            "The score with the best alpha is: -0.473\n",
            "The error with the best alpha is: 0.473\n"
          ]
        }
      ],
      "source": [
        "print (\"The score with the best alpha is:\",\n",
        "       f\"{ridge_reg_cv_results[-1].best_score_:.3f}\")\n",
        "print (\"The error with the best alpha is:\",\n",
        "       f\"{-ridge_reg_cv_results[-1].best_score_:.3f}\")"
      ]
    },
    {
      "cell_type": "code",
      "execution_count": null,
      "metadata": {
        "colab": {
          "base_uri": "https://localhost:8080/"
        },
        "id": "mM53z1IlySLz",
        "outputId": "aa256956-dd60-4ca8-9514-f56cf16ebf8a"
      },
      "outputs": [
        {
          "name": "stdout",
          "output_type": "stream",
          "text": [
            "The best value for alpha: 0.007847599703514606\n"
          ]
        }
      ],
      "source": [
        "print (\"The best value for alpha:\", ridge_reg_cv_results[-1].alpha_)"
      ]
    },
    {
      "cell_type": "markdown",
      "metadata": {
        "id": "KuLywz9Owk96"
      },
      "source": [
        "## `RidgeCV` with cross validation"
      ]
    },
    {
      "cell_type": "markdown",
      "metadata": {
        "id": "LO2RmAEI4q5-"
      },
      "source": [
        "Let's search for right value of regularization rate through `RidgeCV`, where we specify the regularization rates to be tried."
      ]
    },
    {
      "cell_type": "code",
      "execution_count": null,
      "metadata": {
        "colab": {
          "base_uri": "https://localhost:8080/"
        },
        "id": "rFqwhY09jdQg",
        "outputId": "a6fbd209-030c-4699-e4c3-8bbf5005ce64"
      },
      "outputs": [
        {
          "name": "stdout",
          "output_type": "stream",
          "text": [
            "Mean absolute error of ridge regression model on the train set:\n",
            "0.470 +/- 0.011\n",
            "Mean absolute error of ridge regression model on the test set:\n",
            "0.474 +/- 0.011\n"
          ]
        }
      ],
      "source": [
        "alpha_list = np.logspace(-4, 0, num=20)\n",
        "ridge_reg_pipeline = Pipeline([(\"poly\", PolynomialFeatures(degree=2)),\n",
        "                              (\"feature_scaling\", StandardScaler()),\n",
        "                              (\"ridge_cv\", RidgeCV(alphas=alpha_list,\n",
        "                                                   store_cv_values=True))])\n",
        "ridge_reg_cv_results = cross_validate(ridge_reg_pipeline,\n",
        "                                    com_train_features,\n",
        "                                    com_train_labels,\n",
        "                                    cv=cv,\n",
        "                                    scoring=\"neg_mean_absolute_error\",\n",
        "                                    return_train_score=True,\n",
        "                                    return_estimator=True)\n",
        "\n",
        "ridge_reg_train_error = -1 * ridge_reg_cv_results['train_score']\n",
        "ridge_reg_test_error = -1 * ridge_reg_cv_results['test_score']\n",
        "\n",
        "print(f\"Mean absolute error of ridge regression model on the train set:\\n\"\n",
        "      f\"{ridge_reg_train_error.mean():.3f} +/- {ridge_reg_train_error.std():.3f}\")\n",
        "print(f\"Mean absolute error of ridge regression model on the test set:\\n\"\n",
        "      f\"{ridge_reg_test_error.mean():.3f} +/- {ridge_reg_test_error.std():.3f}\")"
      ]
    },
    {
      "cell_type": "markdown",
      "metadata": {
        "id": "A-fUUtvLVLNG"
      },
      "source": [
        "Let's look at the mean of mean absolute errors at different values of regularization rate across different cross validation folds."
      ]
    },
    {
      "cell_type": "code",
      "execution_count": null,
      "metadata": {
        "colab": {
          "base_uri": "https://localhost:8080/"
        },
        "id": "enLMgwUvXVbM",
        "outputId": "e75842d3-00f7-4cfc-c85e-aa11efe45e38"
      },
      "outputs": [
        {
          "data": {
            "text/html": [
              "\n",
              "  <div id=\"df-bc737403-ddc2-498b-9b3a-a1de2c86babc\">\n",
              "    <div class=\"colab-df-container\">\n",
              "      <div>\n",
              "<style scoped>\n",
              "    .dataframe tbody tr th:only-of-type {\n",
              "        vertical-align: middle;\n",
              "    }\n",
              "\n",
              "    .dataframe tbody tr th {\n",
              "        vertical-align: top;\n",
              "    }\n",
              "\n",
              "    .dataframe thead th {\n",
              "        text-align: right;\n",
              "    }\n",
              "</style>\n",
              "<table border=\"1\" class=\"dataframe\">\n",
              "  <thead>\n",
              "    <tr style=\"text-align: right;\">\n",
              "      <th></th>\n",
              "      <th>0.000100</th>\n",
              "      <th>0.000162</th>\n",
              "      <th>0.000264</th>\n",
              "      <th>0.000428</th>\n",
              "      <th>0.000695</th>\n",
              "      <th>0.001129</th>\n",
              "      <th>0.001833</th>\n",
              "      <th>0.002976</th>\n",
              "      <th>0.004833</th>\n",
              "      <th>0.007848</th>\n",
              "      <th>0.012743</th>\n",
              "      <th>0.020691</th>\n",
              "      <th>0.033598</th>\n",
              "      <th>0.054556</th>\n",
              "      <th>0.088587</th>\n",
              "      <th>0.143845</th>\n",
              "      <th>0.233572</th>\n",
              "      <th>0.379269</th>\n",
              "      <th>0.615848</th>\n",
              "      <th>1.000000</th>\n",
              "    </tr>\n",
              "  </thead>\n",
              "  <tbody>\n",
              "    <tr>\n",
              "      <th>0</th>\n",
              "      <td>79.825105</td>\n",
              "      <td>83.556979</td>\n",
              "      <td>89.052274</td>\n",
              "      <td>96.713331</td>\n",
              "      <td>106.577419</td>\n",
              "      <td>117.958587</td>\n",
              "      <td>129.309233</td>\n",
              "      <td>138.553544</td>\n",
              "      <td>143.696595</td>\n",
              "      <td>143.239843</td>\n",
              "      <td>136.323827</td>\n",
              "      <td>122.943609</td>\n",
              "      <td>104.328753</td>\n",
              "      <td>82.970054</td>\n",
              "      <td>61.840053</td>\n",
              "      <td>43.298869</td>\n",
              "      <td>28.559398</td>\n",
              "      <td>17.803633</td>\n",
              "      <td>10.526486</td>\n",
              "      <td>5.909713</td>\n",
              "    </tr>\n",
              "    <tr>\n",
              "      <th>1</th>\n",
              "      <td>14.065799</td>\n",
              "      <td>13.742714</td>\n",
              "      <td>13.245802</td>\n",
              "      <td>12.504952</td>\n",
              "      <td>11.450787</td>\n",
              "      <td>10.048351</td>\n",
              "      <td>8.345884</td>\n",
              "      <td>6.505474</td>\n",
              "      <td>4.765508</td>\n",
              "      <td>3.333758</td>\n",
              "      <td>2.295126</td>\n",
              "      <td>1.610844</td>\n",
              "      <td>1.183945</td>\n",
              "      <td>0.919624</td>\n",
              "      <td>0.750990</td>\n",
              "      <td>0.641272</td>\n",
              "      <td>0.577008</td>\n",
              "      <td>0.556458</td>\n",
              "      <td>0.575055</td>\n",
              "      <td>0.616682</td>\n",
              "    </tr>\n",
              "    <tr>\n",
              "      <th>2</th>\n",
              "      <td>5.267710</td>\n",
              "      <td>5.272331</td>\n",
              "      <td>5.279626</td>\n",
              "      <td>5.290956</td>\n",
              "      <td>5.308105</td>\n",
              "      <td>5.333104</td>\n",
              "      <td>5.367714</td>\n",
              "      <td>5.412616</td>\n",
              "      <td>5.466685</td>\n",
              "      <td>5.526801</td>\n",
              "      <td>5.588436</td>\n",
              "      <td>5.647108</td>\n",
              "      <td>5.700570</td>\n",
              "      <td>5.751087</td>\n",
              "      <td>5.806722</td>\n",
              "      <td>5.879665</td>\n",
              "      <td>5.978467</td>\n",
              "      <td>6.094229</td>\n",
              "      <td>6.190664</td>\n",
              "      <td>6.210415</td>\n",
              "    </tr>\n",
              "    <tr>\n",
              "      <th>3</th>\n",
              "      <td>5.853085</td>\n",
              "      <td>5.867043</td>\n",
              "      <td>5.888945</td>\n",
              "      <td>5.922643</td>\n",
              "      <td>5.972982</td>\n",
              "      <td>6.045051</td>\n",
              "      <td>6.142429</td>\n",
              "      <td>6.264704</td>\n",
              "      <td>6.405584</td>\n",
              "      <td>6.553176</td>\n",
              "      <td>6.692444</td>\n",
              "      <td>6.808469</td>\n",
              "      <td>6.889793</td>\n",
              "      <td>6.931979</td>\n",
              "      <td>6.940661</td>\n",
              "      <td>6.931633</td>\n",
              "      <td>6.923902</td>\n",
              "      <td>6.924670</td>\n",
              "      <td>6.915607</td>\n",
              "      <td>6.852967</td>\n",
              "    </tr>\n",
              "    <tr>\n",
              "      <th>4</th>\n",
              "      <td>8.134646</td>\n",
              "      <td>7.993974</td>\n",
              "      <td>7.781172</td>\n",
              "      <td>7.471108</td>\n",
              "      <td>7.042443</td>\n",
              "      <td>6.489075</td>\n",
              "      <td>5.830605</td>\n",
              "      <td>5.110992</td>\n",
              "      <td>4.379774</td>\n",
              "      <td>3.666586</td>\n",
              "      <td>2.970194</td>\n",
              "      <td>2.275449</td>\n",
              "      <td>1.595598</td>\n",
              "      <td>1.021163</td>\n",
              "      <td>0.731173</td>\n",
              "      <td>0.912456</td>\n",
              "      <td>1.609059</td>\n",
              "      <td>2.646320</td>\n",
              "      <td>3.729320</td>\n",
              "      <td>4.609697</td>\n",
              "    </tr>\n",
              "    <tr>\n",
              "      <th>5</th>\n",
              "      <td>66.100008</td>\n",
              "      <td>60.047159</td>\n",
              "      <td>52.002193</td>\n",
              "      <td>42.279138</td>\n",
              "      <td>31.879141</td>\n",
              "      <td>22.232981</td>\n",
              "      <td>14.513912</td>\n",
              "      <td>9.100108</td>\n",
              "      <td>5.651189</td>\n",
              "      <td>3.553748</td>\n",
              "      <td>2.267632</td>\n",
              "      <td>1.438728</td>\n",
              "      <td>0.884846</td>\n",
              "      <td>0.552525</td>\n",
              "      <td>0.464962</td>\n",
              "      <td>0.651161</td>\n",
              "      <td>1.080903</td>\n",
              "      <td>1.657819</td>\n",
              "      <td>2.268932</td>\n",
              "      <td>2.827886</td>\n",
              "    </tr>\n",
              "    <tr>\n",
              "      <th>6</th>\n",
              "      <td>2.309882</td>\n",
              "      <td>2.253722</td>\n",
              "      <td>2.168544</td>\n",
              "      <td>2.044094</td>\n",
              "      <td>1.871808</td>\n",
              "      <td>1.650275</td>\n",
              "      <td>1.391207</td>\n",
              "      <td>1.120910</td>\n",
              "      <td>0.873056</td>\n",
              "      <td>0.675781</td>\n",
              "      <td>0.543603</td>\n",
              "      <td>0.482411</td>\n",
              "      <td>0.504610</td>\n",
              "      <td>0.643451</td>\n",
              "      <td>0.952959</td>\n",
              "      <td>1.480223</td>\n",
              "      <td>2.215475</td>\n",
              "      <td>3.063332</td>\n",
              "      <td>3.875894</td>\n",
              "      <td>4.520391</td>\n",
              "    </tr>\n",
              "    <tr>\n",
              "      <th>7</th>\n",
              "      <td>19.019937</td>\n",
              "      <td>20.494095</td>\n",
              "      <td>22.742542</td>\n",
              "      <td>26.033396</td>\n",
              "      <td>30.548208</td>\n",
              "      <td>36.182667</td>\n",
              "      <td>42.368884</td>\n",
              "      <td>48.126041</td>\n",
              "      <td>52.384040</td>\n",
              "      <td>54.327657</td>\n",
              "      <td>53.538865</td>\n",
              "      <td>50.004599</td>\n",
              "      <td>44.134732</td>\n",
              "      <td>36.750467</td>\n",
              "      <td>28.898463</td>\n",
              "      <td>21.529074</td>\n",
              "      <td>15.270441</td>\n",
              "      <td>10.392246</td>\n",
              "      <td>6.862006</td>\n",
              "      <td>4.445108</td>\n",
              "    </tr>\n",
              "    <tr>\n",
              "      <th>8</th>\n",
              "      <td>4.351827</td>\n",
              "      <td>4.345297</td>\n",
              "      <td>4.335085</td>\n",
              "      <td>4.319448</td>\n",
              "      <td>4.296236</td>\n",
              "      <td>4.263277</td>\n",
              "      <td>4.219299</td>\n",
              "      <td>4.165380</td>\n",
              "      <td>4.106281</td>\n",
              "      <td>4.050251</td>\n",
              "      <td>4.006641</td>\n",
              "      <td>3.983150</td>\n",
              "      <td>3.985501</td>\n",
              "      <td>4.019862</td>\n",
              "      <td>4.095335</td>\n",
              "      <td>4.222623</td>\n",
              "      <td>4.405521</td>\n",
              "      <td>4.627181</td>\n",
              "      <td>4.842507</td>\n",
              "      <td>4.987779</td>\n",
              "    </tr>\n",
              "    <tr>\n",
              "      <th>9</th>\n",
              "      <td>3.963850</td>\n",
              "      <td>3.952362</td>\n",
              "      <td>3.934504</td>\n",
              "      <td>3.907436</td>\n",
              "      <td>3.867958</td>\n",
              "      <td>3.813571</td>\n",
              "      <td>3.744526</td>\n",
              "      <td>3.666285</td>\n",
              "      <td>3.590431</td>\n",
              "      <td>3.532157</td>\n",
              "      <td>3.505531</td>\n",
              "      <td>3.520803</td>\n",
              "      <td>3.586362</td>\n",
              "      <td>3.713344</td>\n",
              "      <td>3.917635</td>\n",
              "      <td>4.213494</td>\n",
              "      <td>4.596544</td>\n",
              "      <td>5.025147</td>\n",
              "      <td>5.419899</td>\n",
              "      <td>5.688782</td>\n",
              "    </tr>\n",
              "  </tbody>\n",
              "</table>\n",
              "</div>\n",
              "      <button class=\"colab-df-convert\" onclick=\"convertToInteractive('df-bc737403-ddc2-498b-9b3a-a1de2c86babc')\"\n",
              "              title=\"Convert this dataframe to an interactive table.\"\n",
              "              style=\"display:none;\">\n",
              "        \n",
              "  <svg xmlns=\"http://www.w3.org/2000/svg\" height=\"24px\"viewBox=\"0 0 24 24\"\n",
              "       width=\"24px\">\n",
              "    <path d=\"M0 0h24v24H0V0z\" fill=\"none\"/>\n",
              "    <path d=\"M18.56 5.44l.94 2.06.94-2.06 2.06-.94-2.06-.94-.94-2.06-.94 2.06-2.06.94zm-11 1L8.5 8.5l.94-2.06 2.06-.94-2.06-.94L8.5 2.5l-.94 2.06-2.06.94zm10 10l.94 2.06.94-2.06 2.06-.94-2.06-.94-.94-2.06-.94 2.06-2.06.94z\"/><path d=\"M17.41 7.96l-1.37-1.37c-.4-.4-.92-.59-1.43-.59-.52 0-1.04.2-1.43.59L10.3 9.45l-7.72 7.72c-.78.78-.78 2.05 0 2.83L4 21.41c.39.39.9.59 1.41.59.51 0 1.02-.2 1.41-.59l7.78-7.78 2.81-2.81c.8-.78.8-2.07 0-2.86zM5.41 20L4 18.59l7.72-7.72 1.47 1.35L5.41 20z\"/>\n",
              "  </svg>\n",
              "      </button>\n",
              "      \n",
              "  <style>\n",
              "    .colab-df-container {\n",
              "      display:flex;\n",
              "      flex-wrap:wrap;\n",
              "      gap: 12px;\n",
              "    }\n",
              "\n",
              "    .colab-df-convert {\n",
              "      background-color: #E8F0FE;\n",
              "      border: none;\n",
              "      border-radius: 50%;\n",
              "      cursor: pointer;\n",
              "      display: none;\n",
              "      fill: #1967D2;\n",
              "      height: 32px;\n",
              "      padding: 0 0 0 0;\n",
              "      width: 32px;\n",
              "    }\n",
              "\n",
              "    .colab-df-convert:hover {\n",
              "      background-color: #E2EBFA;\n",
              "      box-shadow: 0px 1px 2px rgba(60, 64, 67, 0.3), 0px 1px 3px 1px rgba(60, 64, 67, 0.15);\n",
              "      fill: #174EA6;\n",
              "    }\n",
              "\n",
              "    [theme=dark] .colab-df-convert {\n",
              "      background-color: #3B4455;\n",
              "      fill: #D2E3FC;\n",
              "    }\n",
              "\n",
              "    [theme=dark] .colab-df-convert:hover {\n",
              "      background-color: #434B5C;\n",
              "      box-shadow: 0px 1px 3px 1px rgba(0, 0, 0, 0.15);\n",
              "      filter: drop-shadow(0px 1px 2px rgba(0, 0, 0, 0.3));\n",
              "      fill: #FFFFFF;\n",
              "    }\n",
              "  </style>\n",
              "\n",
              "      <script>\n",
              "        const buttonEl =\n",
              "          document.querySelector('#df-bc737403-ddc2-498b-9b3a-a1de2c86babc button.colab-df-convert');\n",
              "        buttonEl.style.display =\n",
              "          google.colab.kernel.accessAllowed ? 'block' : 'none';\n",
              "\n",
              "        async function convertToInteractive(key) {\n",
              "          const element = document.querySelector('#df-bc737403-ddc2-498b-9b3a-a1de2c86babc');\n",
              "          const dataTable =\n",
              "            await google.colab.kernel.invokeFunction('convertToInteractive',\n",
              "                                                     [key], {});\n",
              "          if (!dataTable) return;\n",
              "\n",
              "          const docLinkHtml = 'Like what you see? Visit the ' +\n",
              "            '<a target=\"_blank\" href=https://colab.research.google.com/notebooks/data_table.ipynb>data table notebook</a>'\n",
              "            + ' to learn more about interactive tables.';\n",
              "          element.innerHTML = '';\n",
              "          dataTable['output_type'] = 'display_data';\n",
              "          await google.colab.output.renderOutput(dataTable, element);\n",
              "          const docLink = document.createElement('div');\n",
              "          docLink.innerHTML = docLinkHtml;\n",
              "          element.appendChild(docLink);\n",
              "        }\n",
              "      </script>\n",
              "    </div>\n",
              "  </div>\n",
              "  "
            ],
            "text/plain": [
              "    0.000100   0.000162   0.000264  ...   0.379269   0.615848  1.000000\n",
              "0  79.825105  83.556979  89.052274  ...  17.803633  10.526486  5.909713\n",
              "1  14.065799  13.742714  13.245802  ...   0.556458   0.575055  0.616682\n",
              "2   5.267710   5.272331   5.279626  ...   6.094229   6.190664  6.210415\n",
              "3   5.853085   5.867043   5.888945  ...   6.924670   6.915607  6.852967\n",
              "4   8.134646   7.993974   7.781172  ...   2.646320   3.729320  4.609697\n",
              "5  66.100008  60.047159  52.002193  ...   1.657819   2.268932  2.827886\n",
              "6   2.309882   2.253722   2.168544  ...   3.063332   3.875894  4.520391\n",
              "7  19.019937  20.494095  22.742542  ...  10.392246   6.862006  4.445108\n",
              "8   4.351827   4.345297   4.335085  ...   4.627181   4.842507  4.987779\n",
              "9   3.963850   3.952362   3.934504  ...   5.025147   5.419899  5.688782\n",
              "\n",
              "[10 rows x 20 columns]"
            ]
          },
          "execution_count": 15,
          "metadata": {},
          "output_type": "execute_result"
        }
      ],
      "source": [
        "mse_alphas = [est[-1].cv_values_.mean(axis=0)\n",
        "              for est in ridge_reg_cv_results[\"estimator\"]]\n",
        "cv_alphas = pd.DataFrame(mse_alphas, columns=alpha_list)\n",
        "cv_alphas"
      ]
    },
    {
      "cell_type": "code",
      "execution_count": null,
      "metadata": {
        "colab": {
          "base_uri": "https://localhost:8080/"
        },
        "id": "v1qW2QV3ZAvc",
        "outputId": "0cb878be-f1e2-4f57-e917-beea3bf93325"
      },
      "outputs": [
        {
          "data": {
            "image/png": "[encoded data removed]",
            "text/plain": [
              "<Figure size 432x288 with 1 Axes>"
            ]
          },
          "metadata": {},
          "output_type": "display_data"
        }
      ],
      "source": [
        "cv_alphas.mean(axis=0).plot(marker=\"+\")\n",
        "plt.ylabel(\"Mean squared error\\n (lower is better)\")\n",
        "plt.xlabel(\"alpha\")\n",
        "_ = plt.title(\"Error obtained by cross-validation\")"
      ]
    },
    {
      "cell_type": "code",
      "execution_count": null,
      "metadata": {
        "colab": {
          "base_uri": "https://localhost:8080/"
        },
        "id": "i8ZwMFGeZQbt",
        "outputId": "78584cee-5f9a-451f-87bc-affad05aca49"
      },
      "outputs": [
        {
          "data": {
            "text/plain": [
              "[1.0,\n",
              " 0.3792690190732246,\n",
              " 0.0001,\n",
              " 0.0001,\n",
              " 0.08858667904100823,\n",
              " 0.08858667904100823,\n",
              " 0.0206913808111479,\n",
              " 1.0,\n",
              " 0.0206913808111479,\n",
              " 0.012742749857031334]"
            ]
          },
          "execution_count": 17,
          "metadata": {},
          "output_type": "execute_result"
        }
      ],
      "source": [
        "best_alphas = [est[-1].alpha_ for est in ridge_reg_cv_results[\"estimator\"]]\n",
        "best_alphas"
      ]
    },
    {
      "cell_type": "markdown",
      "metadata": {
        "id": "PHCUWofoasIq"
      },
      "source": [
        "The optimal regularization strength is not necessarily the same on all cross-validation iterations. But since we expect each cross-validation resampling to stem from the same data distribution, it is common practice to use the average value of the best alpha found on different cross-validation folds as our final estimate for the tuned alpha."
      ]
    },
    {
      "cell_type": "code",
      "execution_count": null,
      "metadata": {
        "colab": {
          "base_uri": "https://localhost:8080/"
        },
        "id": "4YFFtJ-nXf3q",
        "outputId": "0e4e090b-6ac6-498d-d7ba-c56bd0a5413a"
      },
      "outputs": [
        {
          "name": "stdout",
          "output_type": "stream",
          "text": [
            "The mean optimal alpha leading to the best generalization performance is:\n",
            "0.26 +/- 0.38\n"
          ]
        }
      ],
      "source": [
        "print(f\"The mean optimal alpha leading to the best generalization performance is:\\n\"\n",
        "      f\"{np.mean(best_alphas):.2f} +/- {np.std(best_alphas):.2f}\")"
      ]
    },
    {
      "cell_type": "markdown",
      "metadata": {
        "id": "8YAH3IvvqIHq"
      },
      "source": [
        "\n",
        "\n",
        "## Ridge HPT through `GridSearchCV`"
      ]
    },
    {
      "cell_type": "code",
      "execution_count": null,
      "metadata": {
        "colab": {
          "base_uri": "https://localhost:8080/"
        },
        "id": "RGLBF7RgqNMy",
        "outputId": "401173a3-90bd-4e72-c89b-74542d6140ba"
      },
      "outputs": [
        {
          "data": {
            "text/plain": [
              "GridSearchCV(cv=ShuffleSplit(n_splits=10, random_state=42, test_size=0.2, train_size=None),\n",
              "             estimator=Pipeline(steps=[('poly', PolynomialFeatures()),\n",
              "                                       ('feature_scaling', StandardScaler()),\n",
              "                                       ('ridge', Ridge())]),\n",
              "             n_jobs=2,\n",
              "             param_grid={'poly__degree': (1, 2, 3),\n",
              "                         'ridge__alpha': array([1.00000000e-04, 1.62377674e-04, 2.63665090e-04, 4.28133240e-04,\n",
              "       6.95192796e-04, 1.12883789e-03, 1.83298071e-03, 2.97635144e-03,\n",
              "       4.83293024e-03, 7.84759970e-03, 1.27427499e-02, 2.06913808e-02,\n",
              "       3.35981829e-02, 5.45559478e-02, 8.85866790e-02, 1.43844989e-01,\n",
              "       2.33572147e-01, 3.79269019e-01, 6.15848211e-01, 1.00000000e+00])},\n",
              "             return_train_score=True, scoring='neg_mean_absolute_error')"
            ]
          },
          "execution_count": 19,
          "metadata": {},
          "output_type": "execute_result"
        }
      ],
      "source": [
        "ridge_grid_pipeline = Pipeline([(\"poly\", PolynomialFeatures(degree=2)),\n",
        "                              (\"feature_scaling\", StandardScaler()),\n",
        "                              (\"ridge\", Ridge())])\n",
        "\n",
        "param_grid = {'poly__degree': (1, 2, 3),\n",
        "              'ridge__alpha': np.logspace(-4, 0, num=20)}\n",
        "ridge_grid_search = GridSearchCV(ridge_grid_pipeline,\n",
        "                                 param_grid=param_grid,\n",
        "                                 n_jobs=2,\n",
        "                                 cv=cv,\n",
        "                                 scoring=\"neg_mean_absolute_error\",\n",
        "                                 return_train_score=True)\n",
        "ridge_grid_search.fit(com_train_features, com_train_labels)"
      ]
    },
    {
      "cell_type": "markdown",
      "metadata": {
        "id": "EbDIsbTFtwI7"
      },
      "source": [
        "`ridge_grid_search.best_index_` gives us the index of the best parameter in the list."
      ]
    },
    {
      "cell_type": "code",
      "execution_count": null,
      "metadata": {
        "colab": {
          "base_uri": "https://localhost:8080/"
        },
        "id": "GHpodjhJsovn",
        "outputId": "cc1ea664-bf62-4a9a-f573-9e46b17ef6b6"
      },
      "outputs": [
        {
          "name": "stdout",
          "output_type": "stream",
          "text": [
            "Best Mean absolute error of polynomial ridge regression model on the train set:\n",
            "0.463 +/- 0.004\n",
            "Mean absolute error of polynomial ridge regression model on the test set:\n",
            "0.474 +/- 0.004\n"
          ]
        }
      ],
      "source": [
        "mean_train_error = -1 * ridge_grid_search.cv_results_['mean_train_score'][ridge_grid_search.best_index_]\n",
        "mean_test_error = -1 * ridge_grid_search.cv_results_['mean_test_score'][ridge_grid_search.best_index_]\n",
        "std_train_error = ridge_grid_search.cv_results_['std_train_score'][ridge_grid_search.best_index_]\n",
        "std_test_error = ridge_grid_search.cv_results_['std_train_score'][ridge_grid_search.best_index_]\n",
        "\n",
        "print(f\"Best Mean absolute error of polynomial ridge regression model on the train set:\\n\"\n",
        "      f\"{mean_train_error:.3f} +/- {std_train_error:.3f}\")\n",
        "print(f\"Mean absolute error of polynomial ridge regression model on the test set:\\n\"\n",
        "      f\"{mean_test_error:.3f} +/- {std_test_error:.3f}\")"
      ]
    },
    {
      "cell_type": "code",
      "execution_count": null,
      "metadata": {
        "colab": {
          "base_uri": "https://localhost:8080/"
        },
        "id": "avX5nDWTrf_k",
        "outputId": "7d7db81e-8085-4566-fc56-bb73f3454d08"
      },
      "outputs": [
        {
          "name": "stdout",
          "output_type": "stream",
          "text": [
            "Mean cross validated score of the best estimator is:  -0.47386511769919126\n",
            "Mean cross validated error of the best estimator is:  0.47386511769919126\n"
          ]
        }
      ],
      "source": [
        "print (\"Mean cross validated score of the best estimator is: \", ridge_grid_search.best_score_)\n",
        "print (\"Mean cross validated error of the best estimator is: \", -ridge_grid_search.best_score_)"
      ]
    },
    {
      "cell_type": "markdown",
      "metadata": {
        "id": "bWrzv1sovdSi"
      },
      "source": [
        "Note that this is same as `RidgeCV` that we carried out earlier."
      ]
    },
    {
      "cell_type": "code",
      "execution_count": null,
      "metadata": {
        "colab": {
          "base_uri": "https://localhost:8080/"
        },
        "id": "piQ0CmtIwC6P",
        "outputId": "2348871d-6ba4-4ed9-9ff6-78fc2732da40"
      },
      "outputs": [
        {
          "name": "stdout",
          "output_type": "stream",
          "text": [
            "The best parameter value is: {'poly__degree': 2, 'ridge__alpha': 0.007847599703514606}\n"
          ]
        }
      ],
      "source": [
        "print (\"The best parameter value is:\", ridge_grid_search.best_params_)"
      ]
    },
    {
      "cell_type": "markdown",
      "metadata": {
        "id": "2hp6PykGatKC"
      },
      "source": [
        "# Lasso regression"
      ]
    },
    {
      "cell_type": "markdown",
      "metadata": {
        "id": "Q_8BqfUq9wkR"
      },
      "source": [
        "## Baseline model with fixed learning rate"
      ]
    },
    {
      "cell_type": "code",
      "execution_count": null,
      "metadata": {
        "colab": {
          "background_save": true,
          "base_uri": "https://localhost:8080/"
        },
        "id": "Lp-J4TWOXAJC",
        "outputId": "932cbb24-319e-49a0-d810-d725f2487670"
      },
      "outputs": [
        {
          "name": "stderr",
          "output_type": "stream",
          "text": [
            "/usr/local/lib/python3.10/dist-packages/sklearn/linear_model/_coordinate_descent.py:631: ConvergenceWarning: Objective did not converge. You might want to increase the number of iterations, check the scale of the features or consider increasing regularisation. Duality gap: 2.986e+01, tolerance: 1.654e+00\n",
            "  model = cd_fast.enet_coordinate_descent(\n",
            "/usr/local/lib/python3.10/dist-packages/sklearn/linear_model/_coordinate_descent.py:631: ConvergenceWarning: Objective did not converge. You might want to increase the number of iterations, check the scale of the features or consider increasing regularisation. Duality gap: 3.109e+01, tolerance: 1.669e+00\n",
            "  model = cd_fast.enet_coordinate_descent(\n",
            "/usr/local/lib/python3.10/dist-packages/sklearn/linear_model/_coordinate_descent.py:631: ConvergenceWarning: Objective did not converge. You might want to increase the number of iterations, check the scale of the features or consider increasing regularisation. Duality gap: 1.849e+01, tolerance: 1.658e+00\n",
            "  model = cd_fast.enet_coordinate_descent(\n",
            "/usr/local/lib/python3.10/dist-packages/sklearn/linear_model/_coordinate_descent.py:631: ConvergenceWarning: Objective did not converge. You might want to increase the number of iterations, check the scale of the features or consider increasing regularisation. Duality gap: 9.202e+00, tolerance: 1.640e+00\n",
            "  model = cd_fast.enet_coordinate_descent(\n",
            "/usr/local/lib/python3.10/dist-packages/sklearn/linear_model/_coordinate_descent.py:631: ConvergenceWarning: Objective did not converge. You might want to increase the number of iterations, check the scale of the features or consider increasing regularisation. Duality gap: 2.669e+01, tolerance: 1.642e+00\n",
            "  model = cd_fast.enet_coordinate_descent(\n",
            "/usr/local/lib/python3.10/dist-packages/sklearn/linear_model/_coordinate_descent.py:631: ConvergenceWarning: Objective did not converge. You might want to increase the number of iterations, check the scale of the features or consider increasing regularisation. Duality gap: 1.359e+01, tolerance: 1.663e+00\n",
            "  model = cd_fast.enet_coordinate_descent(\n",
            "/usr/local/lib/python3.10/dist-packages/sklearn/linear_model/_coordinate_descent.py:631: ConvergenceWarning: Objective did not converge. You might want to increase the number of iterations, check the scale of the features or consider increasing regularisation. Duality gap: 2.914e+01, tolerance: 1.648e+00\n",
            "  model = cd_fast.enet_coordinate_descent(\n",
            "/usr/local/lib/python3.10/dist-packages/sklearn/linear_model/_coordinate_descent.py:631: ConvergenceWarning: Objective did not converge. You might want to increase the number of iterations, check the scale of the features or consider increasing regularisation. Duality gap: 1.584e+01, tolerance: 1.655e+00\n",
            "  model = cd_fast.enet_coordinate_descent(\n",
            "/usr/local/lib/python3.10/dist-packages/sklearn/linear_model/_coordinate_descent.py:631: ConvergenceWarning: Objective did not converge. You might want to increase the number of iterations, check the scale of the features or consider increasing regularisation. Duality gap: 9.074e+00, tolerance: 1.643e+00\n",
            "  model = cd_fast.enet_coordinate_descent(\n"
          ]
        },
        {
          "name": "stdout",
          "output_type": "stream",
          "text": [
            "Mean absolute error of linear regression model on the train set:\n",
            "0.529 +/- 0.011\n",
            "Mean absolute error of linear regression model on the test set:\n",
            "0.528 +/- 0.011\n"
          ]
        },
        {
          "name": "stderr",
          "output_type": "stream",
          "text": [
            "/usr/local/lib/python3.10/dist-packages/sklearn/linear_model/_coordinate_descent.py:631: ConvergenceWarning: Objective did not converge. You might want to increase the number of iterations, check the scale of the features or consider increasing regularisation. Duality gap: 1.255e+01, tolerance: 1.658e+00\n",
            "  model = cd_fast.enet_coordinate_descent(\n"
          ]
        }
      ],
      "source": [
        "lasso_reg_pipeline = Pipeline([(\"poly\", PolynomialFeatures(degree=2)),\n",
        "                              (\"feature_scaling\", StandardScaler()),\n",
        "                              (\"lasso\", Lasso(alpha=0.01))])\n",
        "lasso_reg_cv_results = cross_validate(lasso_reg_pipeline,\n",
        "                                    com_train_features,\n",
        "                                    com_train_labels,\n",
        "                                    cv=cv,\n",
        "                                    scoring=\"neg_mean_absolute_error\",\n",
        "                                    return_train_score=True,\n",
        "                                    return_estimator=True)\n",
        "\n",
        "lasso_reg_train_error = -1 * lasso_reg_cv_results['train_score']\n",
        "lasso_reg_test_error = -1 * lasso_reg_cv_results['test_score']\n",
        "\n",
        "print(f\"Mean absolute error of linear regression model on the train set:\\n\"\n",
        "      f\"{lasso_reg_train_error.mean():.3f} +/- {ridge_reg_train_error.std():.3f}\")\n",
        "print(f\"Mean absolute error of linear regression model on the test set:\\n\"\n",
        "      f\"{lasso_reg_test_error.mean():.3f} +/- {ridge_reg_test_error.std():.3f}\")"
      ]
    },
    {
      "cell_type": "markdown",
      "metadata": {
        "id": "hsvyZOaga031"
      },
      "source": [
        "# HPT for lasso regularization rate"
      ]
    },
    {
      "cell_type": "markdown",
      "metadata": {
        "id": "s3RnOUe388vf"
      },
      "source": [
        "## With cross validation"
      ]
    },
    {
      "cell_type": "code",
      "execution_count": null,
      "metadata": {
        "id": "BoTsOgt9j2hT"
      },
      "outputs": [],
      "source": [
        "alpha_list = np.logspace(-6, 0, num=20)\n",
        "lasso_reg_pipeline = Pipeline([(\"poly\", PolynomialFeatures(degree=2)),\n",
        "                              (\"feature_scaling\", StandardScaler()),\n",
        "                              (\"lasso_cv\", LassoCV(alphas=alpha_list, cv=cv))])\n",
        "lasso_reg_cv_results = cross_validate(lasso_reg_pipeline,\n",
        "                                    com_train_features,\n",
        "                                    com_train_labels,\n",
        "                                    cv=cv,\n",
        "                                    scoring=\"neg_mean_absolute_error\",\n",
        "                                    return_train_score=True,\n",
        "                                    return_estimator=True)\n",
        "\n",
        "lasso_reg_train_error = -1 * lasso_reg_cv_results['train_score']\n",
        "lasso_reg_test_error = -1 * lasso_reg_cv_results['test_score']\n",
        "\n",
        "print(f\"Mean absolute error of linear regression model on the train set:\\n\"\n",
        "      f\"{lasso_reg_train_error.mean():.3f} +/- {lasso_reg_train_error.std():.3f}\")\n",
        "print(f\"Mean absolute error of linear regression model on the test set:\\n\"\n",
        "      f\"{lasso_reg_test_error.mean():.3f} +/- {lasso_reg_test_error.std():.3f}\")"
      ]
    },
    {
      "cell_type": "code",
      "execution_count": null,
      "metadata": {
        "colab": {
          "base_uri": "https://localhost:8080/"
        },
        "id": "uVIi0jTVYa2h",
        "outputId": "d1a34600-4cd8-44bd-8d7f-f0236ec6fe9b"
      },
      "outputs": [
        {
          "data": {
            "text/plain": [
              "[0.012742749857031322,\n",
              " 0.012742749857031322,\n",
              " 0.00615848211066026,\n",
              " 0.00615848211066026,\n",
              " 0.00615848211066026,\n",
              " 1e-06,\n",
              " 0.012742749857031322,\n",
              " 0.0003359818286283781,\n",
              " 0.00615848211066026,\n",
              " 0.026366508987303555]"
            ]
          },
          "execution_count": 25,
          "metadata": {},
          "output_type": "execute_result"
        }
      ],
      "source": [
        "best_alphas = [est[-1].alpha_ for est in lasso_reg_cv_results[\"estimator\"]]\n",
        "best_alphas"
      ]
    },
    {
      "cell_type": "code",
      "execution_count": null,
      "metadata": {
        "colab": {
          "base_uri": "https://localhost:8080/"
        },
        "id": "n42IoD8eanng",
        "outputId": "9bf848f6-2c09-4984-8fb8-e6f146f7b350"
      },
      "outputs": [
        {
          "name": "stdout",
          "output_type": "stream",
          "text": [
            "The mean optimal alpha leading to the best generalization performance is:\n",
            "0.01 +/- 0.01\n"
          ]
        }
      ],
      "source": [
        "print(f\"The mean optimal alpha leading to the best generalization performance is:\\n\"\n",
        "      f\"{np.mean(best_alphas):.2f} +/- {np.std(best_alphas):.2f}\")"
      ]
    },
    {
      "cell_type": "code",
      "execution_count": null,
      "metadata": {
        "colab": {
          "base_uri": "https://localhost:8080/"
        },
        "id": "E5r9kn8IbEhu",
        "outputId": "791531d4-ba4c-4e8d-c22b-9aa699dd7b9b"
      },
      "outputs": [
        {
          "name": "stdout",
          "output_type": "stream",
          "text": [
            "Mean absolute error of Lasso CV model on the train set: 0.5291330037868303\n"
          ]
        },
        {
          "name": "stderr",
          "output_type": "stream",
          "text": [
            "/usr/local/lib/python3.7/dist-packages/sklearn/linear_model/_coordinate_descent.py:648: ConvergenceWarning: Objective did not converge. You might want to increase the number of iterations, check the scale of the features or consider increasing regularisation. Duality gap: 3.759e+01, tolerance: 2.066e+00\n",
            "  coef_, l1_reg, l2_reg, X, y, max_iter, tol, rng, random, positive\n"
          ]
        }
      ],
      "source": [
        "lasso_reg_pipeline = Pipeline([(\"poly\", PolynomialFeatures(degree=2)),\n",
        "                              (\"feature_scaling\", StandardScaler()),\n",
        "                              (\"lasso\", Lasso(alpha=0.01))])\n",
        "lasso_reg_pipeline.fit(com_train_features, com_train_labels)\n",
        "train_error = mean_absolute_error(com_train_labels,\n",
        "                                 lasso_reg_pipeline.predict(com_train_features))\n",
        "\n",
        "print(f\"Mean absolute error of Lasso CV model on the train set:\", train_error)"
      ]
    },
    {
      "cell_type": "markdown",
      "metadata": {
        "id": "a75cQ6fT9LrG"
      },
      "source": [
        "## with `GridSearchCV`"
      ]
    },
    {
      "cell_type": "code",
      "execution_count": null,
      "metadata": {
        "colab": {
          "base_uri": "https://localhost:8080/"
        },
        "id": "ZYclCQzk9Vx_",
        "outputId": "b025293b-a97a-4e0d-c503-f9261f03d4c8"
      },
      "outputs": [
        {
          "name": "stderr",
          "output_type": "stream",
          "text": [
            "/usr/local/lib/python3.7/dist-packages/sklearn/linear_model/_coordinate_descent.py:648: ConvergenceWarning: Objective did not converge. You might want to increase the number of iterations, check the scale of the features or consider increasing regularisation. Duality gap: 2.638e+03, tolerance: 2.066e+00\n",
            "  coef_, l1_reg, l2_reg, X, y, max_iter, tol, rng, random, positive\n"
          ]
        },
        {
          "data": {
            "text/plain": [
              "GridSearchCV(cv=ShuffleSplit(n_splits=10, random_state=42, test_size=0.2, train_size=None),\n",
              "             estimator=Pipeline(steps=[('poly', PolynomialFeatures()),\n",
              "                                       ('feature_scaling', StandardScaler()),\n",
              "                                       ('lasso', Lasso())]),\n",
              "             n_jobs=2,\n",
              "             param_grid={'lasso__alpha': array([1.00000000e-04, 1.62377674e-04, 2.63665090e-04, 4.28133240e-04,\n",
              "       6.95192796e-04, 1.12883789e-03, 1.83298071e-03, 2.97635144e-03,\n",
              "       4.83293024e-03, 7.84759970e-03, 1.27427499e-02, 2.06913808e-02,\n",
              "       3.35981829e-02, 5.45559478e-02, 8.85866790e-02, 1.43844989e-01,\n",
              "       2.33572147e-01, 3.79269019e-01, 6.15848211e-01, 1.00000000e+00]),\n",
              "                         'poly__degree': (1, 2, 3)},\n",
              "             return_train_score=True, scoring='neg_mean_absolute_error')"
            ]
          },
          "execution_count": 28,
          "metadata": {},
          "output_type": "execute_result"
        }
      ],
      "source": [
        "lasso_grid_pipeline = Pipeline([(\"poly\", PolynomialFeatures()),\n",
        "                              (\"feature_scaling\", StandardScaler()),\n",
        "                              (\"lasso\", Lasso())])\n",
        "\n",
        "param_grid = {'poly__degree': (1, 2, 3),\n",
        "              'lasso__alpha': np.logspace(-4, 0, num=20)}\n",
        "lasso_grid_search = GridSearchCV(lasso_grid_pipeline,\n",
        "                                 param_grid=param_grid,\n",
        "                                 n_jobs=2,\n",
        "                                 cv=cv,\n",
        "                                 scoring=\"neg_mean_absolute_error\",\n",
        "                                 return_train_score=True)\n",
        "lasso_grid_search.fit(com_train_features, com_train_labels)"
      ]
    },
    {
      "cell_type": "code",
      "execution_count": null,
      "metadata": {
        "colab": {
          "base_uri": "https://localhost:8080/"
        },
        "id": "gX4zjHe396xY",
        "outputId": "729e6487-6e21-4dd7-96d9-77d936bd7123"
      },
      "outputs": [
        {
          "name": "stdout",
          "output_type": "stream",
          "text": [
            "Best Mean absolute error of polynomial ridge regression model on the train set:\n",
            "0.462 +/- 0.003\n",
            "Mean absolute error of polynomial ridge regression model on the test set:\n",
            "0.488 +/- 0.003\n"
          ]
        }
      ],
      "source": [
        "mean_train_error = -1 * lasso_grid_search.cv_results_['mean_train_score'][lasso_grid_search.best_index_]\n",
        "mean_test_error = -1 * lasso_grid_search.cv_results_['mean_test_score'][lasso_grid_search.best_index_]\n",
        "std_train_error = lasso_grid_search.cv_results_['std_train_score'][lasso_grid_search.best_index_]\n",
        "std_test_error = lasso_grid_search.cv_results_['std_train_score'][lasso_grid_search.best_index_]\n",
        "\n",
        "print(f\"Best Mean absolute error of polynomial ridge regression model on the train set:\\n\"\n",
        "      f\"{mean_train_error:.3f} +/- {std_train_error:.3f}\")\n",
        "print(f\"Mean absolute error of polynomial ridge regression model on the test set:\\n\"\n",
        "      f\"{mean_test_error:.3f} +/- {std_test_error:.3f}\")"
      ]
    },
    {
      "cell_type": "code",
      "execution_count": null,
      "metadata": {
        "colab": {
          "base_uri": "https://localhost:8080/"
        },
        "id": "Fj6OAmtC9_bM",
        "outputId": "274a2b4a-e06c-4192-bd59-0e648b3fec2d"
      },
      "outputs": [
        {
          "name": "stdout",
          "output_type": "stream",
          "text": [
            "Mean cross validated score of the best estimator is:  -0.48798304453391356\n"
          ]
        }
      ],
      "source": [
        "print (\"Mean cross validated score of the best estimator is: \", lasso_grid_search.best_score_)"
      ]
    },
    {
      "cell_type": "code",
      "execution_count": null,
      "metadata": {
        "colab": {
          "base_uri": "https://localhost:8080/"
        },
        "id": "fujXIDRk-AYm",
        "outputId": "a53d0f7a-0e71-46e7-8dd4-e1123bbc1fad"
      },
      "outputs": [
        {
          "name": "stdout",
          "output_type": "stream",
          "text": [
            "The best parameter value is: {'lasso__alpha': 0.0001, 'poly__degree': 3}\n"
          ]
        }
      ],
      "source": [
        "print (\"The best parameter value is:\", lasso_grid_search.best_params_)"
      ]
    },
    {
      "cell_type": "markdown",
      "metadata": {
        "id": "r41GImz9lQ1y"
      },
      "source": [
        "# SGD: Regularization and HPT\n",
        "We can also perform regularization with SGD. `SGDRegressor` has many hyperparameters that require careful tuning to achieve the same performance as with `LinearRegression`."
      ]
    },
    {
      "cell_type": "code",
      "execution_count": null,
      "metadata": {
        "colab": {
          "base_uri": "https://localhost:8080/"
        },
        "id": "-kTB40LqlXBR",
        "outputId": "51b957d2-1173-4d74-a98c-ccbd18d0bd8b"
      },
      "outputs": [
        {
          "name": "stdout",
          "output_type": "stream",
          "text": [
            "Mean absolute error of linear regression model on the train set:\n",
            "10824283052.546 +/- 4423288211.832\n",
            "Mean absolute error of linear regression model on the test set:\n",
            "10946788540.250 +/- 5396536227.703\n"
          ]
        }
      ],
      "source": [
        "poly_sgd_pipeline = Pipeline([(\"poly\", PolynomialFeatures()),\n",
        "                              (\"feature_scaling\", StandardScaler()),\n",
        "                              (\"sgd_reg\", SGDRegressor(\n",
        "                                 penalty='elasticnet',\n",
        "                                 random_state=42))])\n",
        "poly_sgd_cv_results = cross_validate(poly_sgd_pipeline,\n",
        "                                    com_train_features,\n",
        "                                    com_train_labels,\n",
        "                                    cv=cv,\n",
        "                                    scoring=\"neg_mean_absolute_error\",\n",
        "                                    return_train_score=True,\n",
        "                                    return_estimator=True)\n",
        "\n",
        "poly_sgd_train_error = -1 * poly_sgd_cv_results['train_score']\n",
        "poly_sgd_test_error = -1 * poly_sgd_cv_results['test_score']\n",
        "\n",
        "print(f\"Mean absolute error of linear regression model on the train set:\\n\"\n",
        "      f\"{poly_sgd_train_error.mean():.3f} +/- {poly_sgd_train_error.std():.3f}\")\n",
        "print(f\"Mean absolute error of linear regression model on the test set:\\n\"\n",
        "      f\"{poly_sgd_test_error.mean():.3f} +/- {poly_sgd_test_error.std():.3f}\")"
      ]
    },
    {
      "cell_type": "markdown",
      "metadata": {
        "id": "07Jj3KF7mxfq"
      },
      "source": [
        "Let's search for the best set of parameters for polynomial + SGD pipeline with `RandomizedSearchCV`.\n",
        "\n",
        "> Remember in `RandomizedSearchCV`, we need to specify distributions for hyperparameters."
      ]
    },
    {
      "cell_type": "code",
      "execution_count": null,
      "metadata": {
        "id": "kmudrxD7mxLx"
      },
      "outputs": [],
      "source": [
        "class uniform_int:\n",
        "    \"\"\"Integer valued version of the uniform distribution\"\"\"\n",
        "    def __init__(self, a, b):\n",
        "        self._distribution = uniform(a, b)\n",
        "\n",
        "    def rvs(self, *args, **kwargs):\n",
        "        \"\"\"Random variable sample\"\"\"\n",
        "        return self._distribution.rvs(*args, **kwargs).astype(int)"
      ]
    },
    {
      "cell_type": "markdown",
      "metadata": {
        "id": "qv4ekfu8nWL5"
      },
      "source": [
        "Let's specify `RandomizedSearchCV` set up."
      ]
    },
    {
      "cell_type": "code",
      "execution_count": null,
      "metadata": {
        "colab": {
          "base_uri": "https://localhost:8080/"
        },
        "id": "5D7kln4Vnbeb",
        "outputId": "35088859-8ca5-40ce-ad42-98f2e7281a68"
      },
      "outputs": [
        {
          "name": "stdout",
          "output_type": "stream",
          "text": [
            "Fitting 10 folds for each of 10 candidates, totalling 100 fits\n"
          ]
        },
        {
          "name": "stderr",
          "output_type": "stream",
          "text": [
            "/usr/local/lib/python3.7/dist-packages/sklearn/linear_model/_stochastic_gradient.py:1507: ConvergenceWarning: Maximum number of iteration reached before convergence. Consider increasing max_iter to improve the fit.\n",
            "  ConvergenceWarning,\n",
            "/usr/local/lib/python3.7/dist-packages/sklearn/linear_model/_stochastic_gradient.py:1507: ConvergenceWarning: Maximum number of iteration reached before convergence. Consider increasing max_iter to improve the fit.\n",
            "  ConvergenceWarning,\n"
          ]
        },
        {
          "data": {
            "text/plain": [
              "RandomizedSearchCV(cv=ShuffleSplit(n_splits=10, random_state=42, test_size=0.2, train_size=None),\n",
              "                   estimator=Pipeline(steps=[('poly', PolynomialFeatures()),\n",
              "                                             ('feature_scaling',\n",
              "                                              StandardScaler()),\n",
              "                                             ('sgd_reg',\n",
              "                                              SGDRegressor(penalty='elasticnet',\n",
              "                                                           random_state=42))]),\n",
              "                   param_distributions={'poly__degree': [1, 2, 3],\n",
              "                                        'sgd_reg__eta0': <scipy.stats._distn_infrastructure.rv_frozen object at 0x7fc4739d4a10>,\n",
              "                                        'sgd_reg__l1_ratio': <scipy.stats._distn_infrastructure.rv_frozen object at 0x7fc473897e10>,\n",
              "                                        'sgd_reg__learning_rate': ['constant',\n",
              "                                                                   'adaptive',\n",
              "                                                                   'invscaling'],\n",
              "                                        'sgd_reg__power_t': <scipy.stats._distn_infrastructure.rv_frozen object at 0x7fc47384aa90>},\n",
              "                   scoring='neg_mean_absolute_error', verbose=1)"
            ]
          },
          "execution_count": 34,
          "metadata": {},
          "output_type": "execute_result"
        }
      ],
      "source": [
        "param_distributions = {\n",
        "    'poly__degree': [1, 2, 3],\n",
        "    'sgd_reg__learning_rate': ['constant', 'adaptive', 'invscaling'],\n",
        "    'sgd_reg__l1_ratio': uniform(0, 1),\n",
        "    'sgd_reg__eta0': loguniform(1e-5, 1),\n",
        "    'sgd_reg__power_t': uniform(0, 1)\n",
        "}\n",
        "\n",
        "poly_sgd_random_search = RandomizedSearchCV(\n",
        "    poly_sgd_pipeline, param_distributions=param_distributions,\n",
        "    n_iter=10, cv=cv, verbose=1, scoring='neg_mean_absolute_error'\n",
        ")\n",
        "poly_sgd_random_search.fit(com_train_features, com_train_labels)"
      ]
    },
    {
      "cell_type": "markdown",
      "metadata": {
        "id": "poJbGKyG2gl-"
      },
      "source": [
        "The best score can be obtained as follows:"
      ]
    },
    {
      "cell_type": "code",
      "execution_count": null,
      "metadata": {
        "colab": {
          "base_uri": "https://localhost:8080/"
        },
        "id": "EcszNEPhn54K",
        "outputId": "398257fd-9ca4-486a-e935-6844a099b523"
      },
      "outputs": [
        {
          "data": {
            "text/plain": [
              "-0.5282899475024619"
            ]
          },
          "execution_count": 35,
          "metadata": {},
          "output_type": "execute_result"
        }
      ],
      "source": [
        "poly_sgd_random_search.best_score_"
      ]
    },
    {
      "cell_type": "markdown",
      "metadata": {
        "id": "_CnE1pa-2vSn"
      },
      "source": [
        "The best set of parameters are obtained as follows:"
      ]
    },
    {
      "cell_type": "code",
      "execution_count": null,
      "metadata": {
        "colab": {
          "base_uri": "https://localhost:8080/"
        },
        "id": "rLGXdbCR2yZ_",
        "outputId": "cc5f94b3-0878-4f59-8c66-ee2f4d484a9a"
      },
      "outputs": [
        {
          "data": {
            "text/plain": [
              "{'poly__degree': 1,\n",
              " 'sgd_reg__eta0': 8.074204494282093e-05,\n",
              " 'sgd_reg__l1_ratio': 0.5830694513861019,\n",
              " 'sgd_reg__learning_rate': 'constant',\n",
              " 'sgd_reg__power_t': 0.2575849132301107}"
            ]
          },
          "execution_count": 36,
          "metadata": {},
          "output_type": "execute_result"
        }
      ],
      "source": [
        "poly_sgd_random_search.best_params_"
      ]
    },
    {
      "cell_type": "markdown",
      "metadata": {
        "id": "ktRIcF2y2-fw"
      },
      "source": [
        "And the best estimator can be accessed with `best_estimator_` member variable."
      ]
    },
    {
      "cell_type": "markdown",
      "metadata": {
        "id": "UlcAtYR3a_sl"
      },
      "source": [
        "# Comparison of weight vectors"
      ]
    },
    {
      "cell_type": "markdown",
      "metadata": {
        "id": "L6RHksqMiqME"
      },
      "source": [
        "Let's look at the weight vectors produced by different models."
      ]
    },
    {
      "cell_type": "code",
      "execution_count": null,
      "metadata": {
        "colab": {
          "base_uri": "https://localhost:8080/"
        },
        "id": "NYxxujumxUk_",
        "outputId": "5d14b36c-9131-4d24-98e1-0971fedf47f7"
      },
      "outputs": [
        {
          "data": {
            "text/plain": [
              "array(['1', 'MedInc', 'HouseAge', 'AveRooms', 'AveBedrms', 'Population',\n",
              "       'AveOccup', 'Latitude', 'Longitude', 'MedInc HouseAge',\n",
              "       'MedInc AveRooms', 'MedInc AveBedrms', 'MedInc Population',\n",
              "       'MedInc AveOccup', 'MedInc Latitude', 'MedInc Longitude',\n",
              "       'HouseAge AveRooms', 'HouseAge AveBedrms', 'HouseAge Population',\n",
              "       'HouseAge AveOccup', 'HouseAge Latitude', 'HouseAge Longitude',\n",
              "       'AveRooms AveBedrms', 'AveRooms Population', 'AveRooms AveOccup',\n",
              "       'AveRooms Latitude', 'AveRooms Longitude', 'AveBedrms Population',\n",
              "       'AveBedrms AveOccup', 'AveBedrms Latitude', 'AveBedrms Longitude',\n",
              "       'Population AveOccup', 'Population Latitude',\n",
              "       'Population Longitude', 'AveOccup Latitude', 'AveOccup Longitude',\n",
              "       'Latitude Longitude'], dtype=object)"
            ]
          },
          "execution_count": 37,
          "metadata": {},
          "output_type": "execute_result"
        }
      ],
      "source": [
        "feature_names = poly_reg_cv_results[\"estimator\"][0][0].get_feature_names_out(\n",
        "    input_features=train_features.columns)\n",
        "feature_names"
      ]
    },
    {
      "cell_type": "code",
      "execution_count": null,
      "metadata": {
        "id": "FNWiftJIiuSV"
      },
      "outputs": [],
      "source": [
        "coefs = [est[-1].coef_ for est in poly_reg_cv_results[\"estimator\"]]\n",
        "weights_polynomial_regression = pd.DataFrame(coefs, columns=feature_names)"
      ]
    },
    {
      "cell_type": "code",
      "execution_count": null,
      "metadata": {
        "colab": {
          "base_uri": "https://localhost:8080/"
        },
        "id": "j9TbpsEPx0lj",
        "outputId": "d74c4d6e-9e65-4ae8-fa2b-d6689d5dca9c"
      },
      "outputs": [
        {
          "data": {
            "image/png": "[encoded data removed]",
            "text/plain": [
              "<Figure size 432x1152 with 1 Axes>"
            ]
          },
          "metadata": {},
          "output_type": "display_data"
        }
      ],
      "source": [
        "color = {\"whiskers\": \"black\", \"medians\": \"black\", \"caps\": \"black\"}\n",
        "weights_polynomial_regression.plot.box(color=color, vert=False, figsize=(6, 16))\n",
        "_ = plt.title(\"Polynomial regression coefficients\")"
      ]
    },
    {
      "cell_type": "code",
      "execution_count": null,
      "metadata": {
        "colab": {
          "base_uri": "https://localhost:8080/"
        },
        "id": "kpnhU5Aq0hz9",
        "outputId": "0dcce778-9008-43bf-dcfd-c838152080d9"
      },
      "outputs": [
        {
          "data": {
            "text/plain": [
              "array(['1', 'MedInc', 'HouseAge', 'AveRooms', 'AveBedrms', 'Population',\n",
              "       'AveOccup', 'Latitude', 'Longitude', 'MedInc^2', 'MedInc HouseAge',\n",
              "       'MedInc AveRooms', 'MedInc AveBedrms', 'MedInc Population',\n",
              "       'MedInc AveOccup', 'MedInc Latitude', 'MedInc Longitude',\n",
              "       'HouseAge^2', 'HouseAge AveRooms', 'HouseAge AveBedrms',\n",
              "       'HouseAge Population', 'HouseAge AveOccup', 'HouseAge Latitude',\n",
              "       'HouseAge Longitude', 'AveRooms^2', 'AveRooms AveBedrms',\n",
              "       'AveRooms Population', 'AveRooms AveOccup', 'AveRooms Latitude',\n",
              "       'AveRooms Longitude', 'AveBedrms^2', 'AveBedrms Population',\n",
              "       'AveBedrms AveOccup', 'AveBedrms Latitude', 'AveBedrms Longitude',\n",
              "       'Population^2', 'Population AveOccup', 'Population Latitude',\n",
              "       'Population Longitude', 'AveOccup^2', 'AveOccup Latitude',\n",
              "       'AveOccup Longitude', 'Latitude^2', 'Latitude Longitude',\n",
              "       'Longitude^2'], dtype=object)"
            ]
          },
          "execution_count": 40,
          "metadata": {},
          "output_type": "execute_result"
        }
      ],
      "source": [
        "feature_names = ridge_reg_cv_results[\"estimator\"][0][0].get_feature_names_out(\n",
        "    input_features=train_features.columns)\n",
        "feature_names"
      ]
    },
    {
      "cell_type": "code",
      "execution_count": null,
      "metadata": {
        "id": "zfVuxB73yGmZ"
      },
      "outputs": [],
      "source": [
        "coefs = [est[-1].coef_ for est in ridge_reg_cv_results[\"estimator\"]]\n",
        "weights_ridge_regression = pd.DataFrame(coefs, columns=feature_names)"
      ]
    },
    {
      "cell_type": "code",
      "execution_count": null,
      "metadata": {
        "colab": {
          "base_uri": "https://localhost:8080/"
        },
        "id": "1S9LyzzF0qbV",
        "outputId": "aff5dbdd-f981-40c7-aac8-3aa7529b7254"
      },
      "outputs": [
        {
          "data": {
            "image/png": "[encoded data removed]",
            "text/plain": [
              "<Figure size 432x1152 with 1 Axes>"
            ]
          },
          "metadata": {},
          "output_type": "display_data"
        }
      ],
      "source": [
        "color = {\"whiskers\": \"black\", \"medians\": \"black\", \"caps\": \"black\"}\n",
        "weights_ridge_regression.plot.box(color=color, vert=False, figsize=(6, 16))\n",
        "_ = plt.title(\"Polynomial regression coefficients\")"
      ]
    },
    {
      "cell_type": "markdown",
      "metadata": {
        "id": "Q8KJuQSNivgW"
      },
      "source": [
        "# Performance on the test set"
      ]
    },
    {
      "cell_type": "markdown",
      "metadata": {
        "id": "OZJ4mKLjDbzS"
      },
      "source": [
        "## Baseline"
      ]
    },
    {
      "cell_type": "code",
      "execution_count": null,
      "metadata": {
        "colab": {
          "base_uri": "https://localhost:8080/"
        },
        "id": "ZbBmH_PJDbSa",
        "outputId": "d861e93b-5f25-4bbc-ce82-3320b238b0c7"
      },
      "outputs": [
        {
          "data": {
            "text/plain": [
              "0.5348927548151625"
            ]
          },
          "execution_count": 43,
          "metadata": {},
          "output_type": "execute_result"
        }
      ],
      "source": [
        "baseline_model_median = DummyRegressor(strategy='median')\n",
        "baseline_model_median.fit(train_features, train_labels)\n",
        "mean_absolute_percentage_error(test_labels,\n",
        "                               baseline_model_median.predict(test_features))"
      ]
    },
    {
      "cell_type": "markdown",
      "metadata": {
        "id": "nj0REjt58TOb"
      },
      "source": [
        "## Linear regression with normal equation"
      ]
    },
    {
      "cell_type": "code",
      "execution_count": null,
      "metadata": {
        "colab": {
          "base_uri": "https://localhost:8080/"
        },
        "id": "q3Uh7eq53LXR",
        "outputId": "a7e4f180-63ac-4558-8546-e391b7eea2b5"
      },
      "outputs": [
        {
          "data": {
            "text/plain": [
              "0.32120472175482906"
            ]
          },
          "execution_count": 44,
          "metadata": {},
          "output_type": "execute_result"
        }
      ],
      "source": [
        "mean_absolute_percentage_error(test_labels,\n",
        "                               lin_reg_cv_results['estimator'][0].predict(\n",
        "                                   test_features))"
      ]
    },
    {
      "cell_type": "code",
      "execution_count": null,
      "metadata": {
        "colab": {
          "base_uri": "https://localhost:8080/"
        },
        "id": "T42pnerR4b7o",
        "outputId": "f80bca05-8f9a-42fb-e881-1418399970eb"
      },
      "outputs": [
        {
          "data": {
            "text/plain": [
              "0.32020169843649454"
            ]
          },
          "execution_count": 45,
          "metadata": {},
          "output_type": "execute_result"
        }
      ],
      "source": [
        "mean_absolute_percentage_error(test_labels,\n",
        "                               poly_sgd_random_search.best_estimator_.predict(\n",
        "                                   test_features))"
      ]
    },
    {
      "cell_type": "markdown",
      "metadata": {
        "id": "85JOHFkt8kLD"
      },
      "source": [
        "## Polynomial regression"
      ]
    },
    {
      "cell_type": "code",
      "execution_count": null,
      "metadata": {
        "colab": {
          "base_uri": "https://localhost:8080/"
        },
        "id": "_O8NWSBo8jq6",
        "outputId": "8f2c2346-5155-45d6-909a-caebda24e026"
      },
      "outputs": [
        {
          "data": {
            "text/plain": [
              "0.28199759082657244"
            ]
          },
          "execution_count": 46,
          "metadata": {},
          "output_type": "execute_result"
        }
      ],
      "source": [
        "poly_reg_pipeline.fit(com_train_features, com_train_labels)\n",
        "mean_absolute_percentage_error(test_labels,\n",
        "                               poly_reg_pipeline.predict(test_features))"
      ]
    },
    {
      "cell_type": "markdown",
      "metadata": {
        "id": "-Ndqb62q8baK"
      },
      "source": [
        "## Ridge regression\n"
      ]
    },
    {
      "cell_type": "code",
      "execution_count": null,
      "metadata": {
        "colab": {
          "base_uri": "https://localhost:8080/"
        },
        "id": "_Io14sNk1nua",
        "outputId": "95cef7ca-efb1-420e-8b90-4fb98b1f47d9"
      },
      "outputs": [
        {
          "data": {
            "text/plain": [
              "0.27110336451421363"
            ]
          },
          "execution_count": 47,
          "metadata": {},
          "output_type": "execute_result"
        }
      ],
      "source": [
        "mean_absolute_percentage_error(test_labels,\n",
        "                               ridge_grid_search.best_estimator_.predict(test_features))"
      ]
    },
    {
      "cell_type": "markdown",
      "metadata": {
        "id": "vLOYtkZh8g9j"
      },
      "source": [
        "## Lasso regression\n",
        "\n",
        "Let's retrain the lasso model with `alpha` identified through hyper-parameter and evaluate it on the test data."
      ]
    },
    {
      "cell_type": "code",
      "execution_count": null,
      "metadata": {
        "colab": {
          "base_uri": "https://localhost:8080/"
        },
        "id": "WA-c7xc5-WQg",
        "outputId": "cf7fad9b-655b-4086-c072-0234bab047aa"
      },
      "outputs": [
        {
          "data": {
            "text/plain": [
              "0.28074969263810107"
            ]
          },
          "execution_count": 48,
          "metadata": {},
          "output_type": "execute_result"
        }
      ],
      "source": [
        "mean_absolute_percentage_error(test_labels,\n",
        "                               lasso_grid_search.best_estimator_.predict(test_features))"
      ]
    },
    {
      "cell_type": "markdown",
      "metadata": {
        "id": "Y0Sht7bBbCEE"
      },
      "source": [
        "# Summary\n",
        "\n",
        "We trained multiple linear regression models on housing dataset. Set their hyperparamters through hyper-parameter optimization.  Retrained models with the best values of hyper-parameters and then evaluated their performance on the test data (that was hold back until final evaluation).  \n",
        "\n",
        "This is how most of the real world problems are solved starting from simple models to more sophisticated models."
      ]
    }
  ],
  "metadata": {
    "colab": {
      "collapsed_sections": [
        "YoG0_bYHalty",
        "k2tQBRPSaoSG",
        "zRSFZtlGaqeh",
        "lD6SAla8avD6",
        "KuLywz9Owk96",
        "8YAH3IvvqIHq",
        "2hp6PykGatKC",
        "Q_8BqfUq9wkR",
        "hsvyZOaga031",
        "s3RnOUe388vf",
        "a75cQ6fT9LrG",
        "r41GImz9lQ1y",
        "UlcAtYR3a_sl",
        "Q8KJuQSNivgW",
        "OZJ4mKLjDbzS",
        "nj0REjt58TOb",
        "85JOHFkt8kLD",
        "-Ndqb62q8baK",
        "vLOYtkZh8g9j",
        "Y0Sht7bBbCEE"
      ],
      "provenance": [],
      "include_colab_link": true
    },
    "kernelspec": {
      "display_name": "Python 3",
      "name": "python3"
    },
    "language_info": {
      "name": "python"
    }
  },
  "nbformat": 4,
  "nbformat_minor": 0
}
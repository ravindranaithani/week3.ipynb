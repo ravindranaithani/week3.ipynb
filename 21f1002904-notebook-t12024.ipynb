{
 "cells": [
  {
   "cell_type": "code",
   "execution_count": 1,
   "id": "d6875d6a",
   "metadata": {
    "_cell_guid": "b1076dfc-b9ad-4769-8c92-a6c4dae69d19",
    "_uuid": "8f2839f25d086af736a60e9eeb907d3b93b6e0e5",
    "execution": {
     "iopub.execute_input": "2024-03-20T16:32:52.929649Z",
     "iopub.status.busy": "2024-03-20T16:32:52.928482Z",
     "iopub.status.idle": "2024-03-20T16:32:54.017205Z",
     "shell.execute_reply": "2024-03-20T16:32:54.015856Z"
    },
    "papermill": {
     "duration": 1.120382,
     "end_time": "2024-03-20T16:32:54.020764",
     "exception": false,
     "start_time": "2024-03-20T16:32:52.900382",
     "status": "completed"
    },
    "tags": []
   },
   "outputs": [
    {
     "name": "stdout",
     "output_type": "stream",
     "text": [
      "/kaggle/input/recipe-for-rating-predict-food-ratings-using-ml/sample.csv\n",
      "/kaggle/input/recipe-for-rating-predict-food-ratings-using-ml/train.csv\n",
      "/kaggle/input/recipe-for-rating-predict-food-ratings-using-ml/test.csv\n"
     ]
    }
   ],
   "source": [
    "# This Python 3 environment comes with many helpful analytics libraries installed\n",
    "# It is defined by the kaggle/python Docker image: https://github.com/kaggle/docker-python\n",
    "# For example, here's several helpful packages to load\n",
    "\n",
    "import numpy as np # linear algebra\n",
    "import pandas as pd # data processing, CSV file I/O (e.g. pd.read_csv)\n",
    "\n",
    "# Input data files are available in the read-only \"../input/\" directory\n",
    "# For example, running this (by clicking run or pressing Shift+Enter) will list all files under the input directory\n",
    "\n",
    "import os\n",
    "for dirname, _, filenames in os.walk('/kaggle/input'):\n",
    "    for filename in filenames:\n",
    "        print(os.path.join(dirname, filename))\n",
    "\n",
    "# You can write up to 20GB to the current directory (/kaggle/working/) that gets preserved as output when you create a version using \"Save & Run All\" \n",
    "# You can also write temporary files to /kaggle/temp/, but they won't be saved outside of the current session"
   ]
  },
  {
   "cell_type": "markdown",
   "id": "dba67926",
   "metadata": {
    "papermill": {
     "duration": 0.027238,
     "end_time": "2024-03-20T16:32:54.075594",
     "exception": false,
     "start_time": "2024-03-20T16:32:54.048356",
     "status": "completed"
    },
    "tags": []
   },
   "source": [
    "# <div style=\"text-align:center; color:blue;\">Project_MLP_January_2024</div>\n",
    "\n",
    "# <div style=\"text-align:center; color:green;\">Project title: Recipe for Rating: Predict Food Ratings using ML</div>\n",
    "\n",
    "# <div style=\"text-align:center; color:green;\">Submitted by : Ravindra Naithani</div>\n",
    "\n",
    "# <div style=\"text-align:center; color:green;\">roll number : 21f1002904</div>\n",
    "\n",
    "\n",
    "\n",
    "# <div style=\"text-align:left; color:black;\"> * Machine learning Multiclass Classification Problem </div>\n",
    "# <div style=\"text-align:left; color:black;\"> * Build model has to predict rating for recipe</div>\n",
    "\n",
    "\n",
    "\n",
    "\n",
    "\n",
    "                          \n",
    "                             \n",
    "                                      \n",
    "\n"
   ]
  },
  {
   "cell_type": "markdown",
   "id": "d67dfbd0",
   "metadata": {
    "papermill": {
     "duration": 0.025683,
     "end_time": "2024-03-20T16:32:54.127288",
     "exception": false,
     "start_time": "2024-03-20T16:32:54.101605",
     "status": "completed"
    },
    "tags": []
   },
   "source": [
    "<span style=\"color:black; font-weight:bold; font-size:20px;\">1.1</span> <span style=\"color:red; font-size:22px;\">Importing libraries</span>"
   ]
  },
  {
   "cell_type": "code",
   "execution_count": 2,
   "id": "d26ce415",
   "metadata": {
    "execution": {
     "iopub.execute_input": "2024-03-20T16:32:54.184672Z",
     "iopub.status.busy": "2024-03-20T16:32:54.182647Z",
     "iopub.status.idle": "2024-03-20T16:32:58.375185Z",
     "shell.execute_reply": "2024-03-20T16:32:58.373787Z"
    },
    "papermill": {
     "duration": 4.224357,
     "end_time": "2024-03-20T16:32:58.378088",
     "exception": false,
     "start_time": "2024-03-20T16:32:54.153731",
     "status": "completed"
    },
    "tags": []
   },
   "outputs": [],
   "source": [
    "# importing libraries\n",
    "import numpy as np \n",
    "import pandas as pd\n",
    "from sklearn.model_selection import train_test_split,RepeatedStratifiedKFold,cross_val_score\n",
    "from sklearn.preprocessing import OneHotEncoder , StandardScaler\n",
    "from sklearn.linear_model import LogisticRegression\n",
    "from sklearn.metrics import classification_report,confusion_matrix,accuracy_score,ConfusionMatrixDisplay\n",
    "from imblearn.over_sampling import SMOTE\n",
    "from sklearn.feature_extraction.text import TfidfVectorizer\n",
    "import seaborn as sns\n",
    "import matplotlib.pyplot as plt\n",
    "from scipy.stats import zscore\n",
    "import regex as re\n",
    "from xgboost import XGBClassifier\n",
    "from numpy import mean,std\n",
    "import xgboost as xgb\n",
    "from lightgbm import LGBMClassifier\n",
    "from sklearn.pipeline import Pipeline\n",
    "from sklearn.compose import ColumnTransformer"
   ]
  },
  {
   "cell_type": "code",
   "execution_count": 3,
   "id": "9f00bc5f",
   "metadata": {
    "execution": {
     "iopub.execute_input": "2024-03-20T16:32:58.433903Z",
     "iopub.status.busy": "2024-03-20T16:32:58.433433Z",
     "iopub.status.idle": "2024-03-20T16:32:58.706322Z",
     "shell.execute_reply": "2024-03-20T16:32:58.705261Z"
    },
    "papermill": {
     "duration": 0.303432,
     "end_time": "2024-03-20T16:32:58.709046",
     "exception": false,
     "start_time": "2024-03-20T16:32:58.405614",
     "status": "completed"
    },
    "tags": []
   },
   "outputs": [],
   "source": [
    "# Reading data from csv files\n",
    "train_df = pd.read_csv('/kaggle/input/recipe-for-rating-predict-food-ratings-using-ml/train.csv')\n",
    "test_df = pd.read_csv('/kaggle/input/recipe-for-rating-predict-food-ratings-using-ml/test.csv')"
   ]
  },
  {
   "cell_type": "code",
   "execution_count": 4,
   "id": "5136145e",
   "metadata": {
    "execution": {
     "iopub.execute_input": "2024-03-20T16:32:58.763596Z",
     "iopub.status.busy": "2024-03-20T16:32:58.762203Z",
     "iopub.status.idle": "2024-03-20T16:32:58.771519Z",
     "shell.execute_reply": "2024-03-20T16:32:58.770318Z"
    },
    "papermill": {
     "duration": 0.03877,
     "end_time": "2024-03-20T16:32:58.773961",
     "exception": false,
     "start_time": "2024-03-20T16:32:58.735191",
     "status": "completed"
    },
    "tags": []
   },
   "outputs": [
    {
     "data": {
      "text/plain": [
       "((13636, 15), (4546, 14))"
      ]
     },
     "execution_count": 4,
     "metadata": {},
     "output_type": "execute_result"
    }
   ],
   "source": [
    "\n",
    "train_df.shape  ,test_df.shape"
   ]
  },
  {
   "cell_type": "code",
   "execution_count": 5,
   "id": "6aef5b32",
   "metadata": {
    "execution": {
     "iopub.execute_input": "2024-03-20T16:32:58.828610Z",
     "iopub.status.busy": "2024-03-20T16:32:58.827398Z",
     "iopub.status.idle": "2024-03-20T16:32:58.831946Z",
     "shell.execute_reply": "2024-03-20T16:32:58.831095Z"
    },
    "papermill": {
     "duration": 0.034028,
     "end_time": "2024-03-20T16:32:58.834120",
     "exception": false,
     "start_time": "2024-03-20T16:32:58.800092",
     "status": "completed"
    },
    "tags": []
   },
   "outputs": [],
   "source": [
    "# Shape of training data\n",
    "#train_shape_tuple = train_df.shape\n",
    "#print(train_shape_tuple)"
   ]
  },
  {
   "cell_type": "code",
   "execution_count": 6,
   "id": "3493dcfd",
   "metadata": {
    "execution": {
     "iopub.execute_input": "2024-03-20T16:32:58.889163Z",
     "iopub.status.busy": "2024-03-20T16:32:58.888476Z",
     "iopub.status.idle": "2024-03-20T16:32:58.893530Z",
     "shell.execute_reply": "2024-03-20T16:32:58.892449Z"
    },
    "papermill": {
     "duration": 0.035878,
     "end_time": "2024-03-20T16:32:58.896209",
     "exception": false,
     "start_time": "2024-03-20T16:32:58.860331",
     "status": "completed"
    },
    "tags": []
   },
   "outputs": [
    {
     "name": "stdout",
     "output_type": "stream",
     "text": [
      "['ID', 'RecipeNumber', 'RecipeCode', 'RecipeName', 'CommentID', 'UserID', 'UserName', 'UserReputation', 'CreationTimestamp', 'ReplyCount', 'ThumbsUpCount', 'ThumbsDownCount', 'Rating', 'BestScore', 'Recipe_Review']\n"
     ]
    }
   ],
   "source": [
    "# column name \n",
    "column = train_df.columns\n",
    "print(list(column))"
   ]
  },
  {
   "cell_type": "markdown",
   "id": "502bcc9f",
   "metadata": {
    "papermill": {
     "duration": 0.027338,
     "end_time": "2024-03-20T16:32:58.950169",
     "exception": false,
     "start_time": "2024-03-20T16:32:58.922831",
     "status": "completed"
    },
    "tags": []
   },
   "source": [
    "**Training Data has shape (13636,15)**\n",
    "\n",
    "**train data has following columns**\n",
    "\n",
    " ['ID',RecipeNumber', 'RecipeCode', 'RecipeName', 'CommentID', 'UserID',\n",
    " \n",
    "'UserName', 'UserReputation', 'CreationTimestamp', 'ReplyCount',\n",
    "\n",
    " 'ThumbsUpCount', 'ThumbsDownCount', 'Rating', 'BestScore',\n",
    " \n",
    "'Recipe_Review']\n"
   ]
  },
  {
   "cell_type": "code",
   "execution_count": 7,
   "id": "ab98669a",
   "metadata": {
    "execution": {
     "iopub.execute_input": "2024-03-20T16:32:59.006831Z",
     "iopub.status.busy": "2024-03-20T16:32:59.006389Z",
     "iopub.status.idle": "2024-03-20T16:32:59.012096Z",
     "shell.execute_reply": "2024-03-20T16:32:59.010797Z"
    },
    "papermill": {
     "duration": 0.037359,
     "end_time": "2024-03-20T16:32:59.015248",
     "exception": false,
     "start_time": "2024-03-20T16:32:58.977889",
     "status": "completed"
    },
    "tags": []
   },
   "outputs": [],
   "source": [
    "# Data Types of Training data\n",
    "#train_df.dtypes"
   ]
  },
  {
   "cell_type": "markdown",
   "id": "5c70ca0a",
   "metadata": {
    "papermill": {
     "duration": 0.092688,
     "end_time": "2024-03-20T16:32:59.135658",
     "exception": false,
     "start_time": "2024-03-20T16:32:59.042970",
     "status": "completed"
    },
    "tags": []
   },
   "source": [
    "**train_df has following numerical columns**\n",
    "\n",
    "num_cols = ['ID', RecipeNumber', 'RecipeCode', 'UserReputation', 'CreationTimestamp', \n",
    "\n",
    " 'ReplyCount', 'ThumbsUpCount', 'ThumbsDownCount', 'Rating', 'BestScore']\n",
    " \n",
    " **train_df has following Categorical Columns**\n",
    " \n",
    " cat_cols = ['RecipeName','CommentID','UserID','UserName']\n",
    " \n",
    " **train_df has one Text column**\n",
    " \n",
    "  text_cols = ['Recipe_review']\n",
    "\n"
   ]
  },
  {
   "cell_type": "markdown",
   "id": "89593fe1",
   "metadata": {
    "papermill": {
     "duration": 0.025827,
     "end_time": "2024-03-20T16:32:59.188020",
     "exception": false,
     "start_time": "2024-03-20T16:32:59.162193",
     "status": "completed"
    },
    "tags": []
   },
   "source": [
    "**Overview**\n",
    "\n",
    "**Dataset Statistics**\n",
    "\n",
    "Number of Variables = 15\n",
    "\n",
    "Number of observations = 13636\n",
    "\n",
    "Missing Cells = 2\n",
    "\n",
    "Duplicate Rows = 0\n",
    "\n",
    "**Variables Type**\n",
    "\n",
    "Numerical = 9\n",
    "\n",
    "categorical = 4\n",
    "\n",
    "Text = 1"
   ]
  },
  {
   "cell_type": "code",
   "execution_count": 8,
   "id": "96cb4b99",
   "metadata": {
    "execution": {
     "iopub.execute_input": "2024-03-20T16:32:59.243183Z",
     "iopub.status.busy": "2024-03-20T16:32:59.242399Z",
     "iopub.status.idle": "2024-03-20T16:32:59.246698Z",
     "shell.execute_reply": "2024-03-20T16:32:59.245765Z"
    },
    "papermill": {
     "duration": 0.0346,
     "end_time": "2024-03-20T16:32:59.249094",
     "exception": false,
     "start_time": "2024-03-20T16:32:59.214494",
     "status": "completed"
    },
    "tags": []
   },
   "outputs": [],
   "source": [
    "#train_df.describe().T"
   ]
  },
  {
   "cell_type": "code",
   "execution_count": 9,
   "id": "a89af78e",
   "metadata": {
    "execution": {
     "iopub.execute_input": "2024-03-20T16:32:59.303705Z",
     "iopub.status.busy": "2024-03-20T16:32:59.303275Z",
     "iopub.status.idle": "2024-03-20T16:32:59.308607Z",
     "shell.execute_reply": "2024-03-20T16:32:59.307301Z"
    },
    "papermill": {
     "duration": 0.035772,
     "end_time": "2024-03-20T16:32:59.311113",
     "exception": false,
     "start_time": "2024-03-20T16:32:59.275341",
     "status": "completed"
    },
    "tags": []
   },
   "outputs": [],
   "source": [
    "#train_df.describe(include='object').T"
   ]
  },
  {
   "cell_type": "markdown",
   "id": "ea51e7ee",
   "metadata": {
    "papermill": {
     "duration": 0.02653,
     "end_time": "2024-03-20T16:32:59.364214",
     "exception": false,
     "start_time": "2024-03-20T16:32:59.337684",
     "status": "completed"
    },
    "tags": []
   },
   "source": [
    "**Overview**\n",
    "\n",
    "\n",
    "| Feature         | d type  | unique   |\n",
    "|-----------------|---------|----------|\n",
    "|   ID            |  int    |   701    |\n",
    "|   RecipeNumber  |  int    |   100    |\n",
    "|   RecipeCode    |  int    |   100    |\n",
    "|   RecipeName    |  object |   100    |   \n",
    "|  CommentID      |  object |   13636  |\n",
    "|   UserID        |  object |   10783  |\n",
    "|   UserName      |  object |   10620  |\n",
    "|  UserReputation |  int    |   20     |\n",
    "|  ReplyCount     |  int    |   4      |\n",
    "|ThumbsUpCount    |  int    |   57     |\n",
    "|ThumbsdownCount  |  int    |   51     |\n",
    "| BestScore       |  int    |  525     |\n",
    "\n",
    "​"
   ]
  },
  {
   "cell_type": "markdown",
   "id": "e51d585f",
   "metadata": {
    "papermill": {
     "duration": 0.030667,
     "end_time": "2024-03-20T16:32:59.427518",
     "exception": false,
     "start_time": "2024-03-20T16:32:59.396851",
     "status": "completed"
    },
    "tags": []
   },
   "source": [
    "<span style=\"color:black; font-weight:bold; font-size:20px;\">1.2</span> <span style=\"color:red; font-size:22px;\">EDA Numerical Columns</span>"
   ]
  },
  {
   "cell_type": "code",
   "execution_count": 10,
   "id": "d143ce5d",
   "metadata": {
    "execution": {
     "iopub.execute_input": "2024-03-20T16:32:59.485960Z",
     "iopub.status.busy": "2024-03-20T16:32:59.484867Z",
     "iopub.status.idle": "2024-03-20T16:32:59.491541Z",
     "shell.execute_reply": "2024-03-20T16:32:59.490038Z"
    },
    "papermill": {
     "duration": 0.037953,
     "end_time": "2024-03-20T16:32:59.494270",
     "exception": false,
     "start_time": "2024-03-20T16:32:59.456317",
     "status": "completed"
    },
    "tags": []
   },
   "outputs": [],
   "source": [
    "# @ Column: ID\n",
    "# Create a figure with subplots\n",
    "#fig, axes = plt.subplots(1, 2, figsize=(12, 5))\n",
    "\n",
    "# Plot Histogram\n",
    "#axes[0].hist(train_df['ID'], bins=20, color='skyblue', edgecolor='black')\n",
    "#axes[0].set_title('Histogram of ID')\n",
    "\n",
    "# Plot Box Plot\n",
    "#axes[1].boxplot(train_df['ID'], vert=False, patch_artist=True,flierprops=dict(markerfacecolor='red', marker='D'))\n",
    "#axes[1].set_title('Box Plot of ID')\n",
    "#plt.tight_layout()\n",
    "#plt.show()"
   ]
  },
  {
   "cell_type": "markdown",
   "id": "e7e1190b",
   "metadata": {
    "papermill": {
     "duration": 0.025867,
     "end_time": "2024-03-20T16:32:59.546369",
     "exception": false,
     "start_time": "2024-03-20T16:32:59.520502",
     "status": "completed"
    },
    "tags": []
   },
   "source": [
    "**Column ID**\n",
    "\n",
    "Distinct = 701\n",
    "\n",
    "Mean = 121.08529 \n",
    "\n",
    "Min = 0 \n",
    "\n",
    "Max = 724"
   ]
  },
  {
   "cell_type": "code",
   "execution_count": 11,
   "id": "ac15df0e",
   "metadata": {
    "execution": {
     "iopub.execute_input": "2024-03-20T16:32:59.601016Z",
     "iopub.status.busy": "2024-03-20T16:32:59.600591Z",
     "iopub.status.idle": "2024-03-20T16:32:59.606094Z",
     "shell.execute_reply": "2024-03-20T16:32:59.604823Z"
    },
    "papermill": {
     "duration": 0.035953,
     "end_time": "2024-03-20T16:32:59.608440",
     "exception": false,
     "start_time": "2024-03-20T16:32:59.572487",
     "status": "completed"
    },
    "tags": []
   },
   "outputs": [],
   "source": [
    "# @ Column: RecipeNumber\n",
    "# Create a figure with subplots\n",
    "#fig, axes = plt.subplots(1, 2, figsize=(12, 5))\n",
    "\n",
    "# Plot Histogram\n",
    "#axes[0].hist(train_df['RecipeNumber'], bins=20, color='skyblue', edgecolor='black')\n",
    "#axes[0].set_title('Histogram of RecipeNumber')\n",
    "\n",
    "# Plot Box Plot\n",
    "#axes[1].boxplot(train_df['RecipeNumber'], vert=False, patch_artist=True,flierprops=dict(markerfacecolor='red', marker='D'))\n",
    "#axes[1].set_title('Box Plot of RecipeNumber')\n",
    "#plt.tight_layout()\n",
    "#plt.show()"
   ]
  },
  {
   "cell_type": "markdown",
   "id": "c2e5a360",
   "metadata": {
    "papermill": {
     "duration": 0.025975,
     "end_time": "2024-03-20T16:32:59.660734",
     "exception": false,
     "start_time": "2024-03-20T16:32:59.634759",
     "status": "completed"
    },
    "tags": []
   },
   "source": [
    "**Column : RecipeNumber**\n",
    "\n",
    "Distict = 100\n",
    "\n",
    "mean = 38.6\n",
    "\n",
    "Max = 100\n",
    "\n",
    "Min = 0\n"
   ]
  },
  {
   "cell_type": "code",
   "execution_count": 12,
   "id": "04110ff0",
   "metadata": {
    "execution": {
     "iopub.execute_input": "2024-03-20T16:32:59.715219Z",
     "iopub.status.busy": "2024-03-20T16:32:59.714772Z",
     "iopub.status.idle": "2024-03-20T16:32:59.719876Z",
     "shell.execute_reply": "2024-03-20T16:32:59.718797Z"
    },
    "papermill": {
     "duration": 0.035276,
     "end_time": "2024-03-20T16:32:59.722141",
     "exception": false,
     "start_time": "2024-03-20T16:32:59.686865",
     "status": "completed"
    },
    "tags": []
   },
   "outputs": [],
   "source": [
    "# @ Column: RecipeCode\n",
    "# Create a figure with subplots\n",
    "#fig, axes = plt.subplots(1, 2, figsize=(12, 5))\n",
    "\n",
    "# Plot Histogram\n",
    "#axes[0].hist(train_df['RecipeCode'], bins=20, color='skyblue', edgecolor='black')\n",
    "#axes[0].set_title('Histogram of RecipeCode')\n",
    "\n",
    "# Plot Box Plot\n",
    "#axes[1].boxplot(train_df['RecipeCode'], vert=False, patch_artist=True,flierprops=dict(markerfacecolor='red', marker='D'))\n",
    "#axes[1].set_title('Box Plot of RecipeCode')\n",
    "#plt.tight_layout()\n",
    "#plt.show()"
   ]
  },
  {
   "cell_type": "code",
   "execution_count": 13,
   "id": "16858d8f",
   "metadata": {
    "execution": {
     "iopub.execute_input": "2024-03-20T16:32:59.778092Z",
     "iopub.status.busy": "2024-03-20T16:32:59.777672Z",
     "iopub.status.idle": "2024-03-20T16:32:59.782237Z",
     "shell.execute_reply": "2024-03-20T16:32:59.781381Z"
    },
    "papermill": {
     "duration": 0.03516,
     "end_time": "2024-03-20T16:32:59.784410",
     "exception": false,
     "start_time": "2024-03-20T16:32:59.749250",
     "status": "completed"
    },
    "tags": []
   },
   "outputs": [],
   "source": [
    "# @ Column: UserReputation\n",
    "# Create a figure with subplots\n",
    "#fig, axes = plt.subplots(1, 2, figsize=(12, 5))\n",
    "\n",
    "# Plot Histogram\n",
    "#axes[0].hist(train_df['UserReputation'], bins=20, color='skyblue', edgecolor='black')\n",
    "#axes[0].set_title('Histogram of UserReputation')\n",
    "\n",
    "# Plot Box Plot\n",
    "#axes[1].boxplot(train_df['UserReputation'], vert=False, patch_artist=True,flierprops=dict(markerfacecolor='red', marker='D'))\n",
    "#axes[1].set_title('Box Plot of UserReputation')\n",
    "#plt.tight_layout()\n",
    "#plt.show()"
   ]
  },
  {
   "cell_type": "code",
   "execution_count": 14,
   "id": "53b94dfc",
   "metadata": {
    "execution": {
     "iopub.execute_input": "2024-03-20T16:32:59.839934Z",
     "iopub.status.busy": "2024-03-20T16:32:59.839190Z",
     "iopub.status.idle": "2024-03-20T16:32:59.843870Z",
     "shell.execute_reply": "2024-03-20T16:32:59.843026Z"
    },
    "papermill": {
     "duration": 0.034997,
     "end_time": "2024-03-20T16:32:59.846299",
     "exception": false,
     "start_time": "2024-03-20T16:32:59.811302",
     "status": "completed"
    },
    "tags": []
   },
   "outputs": [],
   "source": [
    "# @ Column: ReplyCount\n",
    "# Create a figure with subplots\n",
    "#fig, axes = plt.subplots(1, 2, figsize=(12, 5))\n",
    "\n",
    "# Plot Histogram\n",
    "#axes[0].hist(train_df['ReplyCount'], bins=20, color='skyblue', edgecolor='black')\n",
    "#axes[0].set_title('Histogram of ReplyCount')\n",
    "\n",
    "# Plot Box Plot\n",
    "#axes[1].boxplot(train_df['ReplyCount'], vert=False, patch_artist=True,flierprops=dict(markerfacecolor='red', marker='D'))\n",
    "#axes[1].set_title('Box Plot of ReplyCount')\n",
    "#plt.tight_layout()\n",
    "#plt.show()"
   ]
  },
  {
   "cell_type": "code",
   "execution_count": 15,
   "id": "8fb6e258",
   "metadata": {
    "execution": {
     "iopub.execute_input": "2024-03-20T16:32:59.901937Z",
     "iopub.status.busy": "2024-03-20T16:32:59.901505Z",
     "iopub.status.idle": "2024-03-20T16:32:59.906191Z",
     "shell.execute_reply": "2024-03-20T16:32:59.905156Z"
    },
    "papermill": {
     "duration": 0.035232,
     "end_time": "2024-03-20T16:32:59.908374",
     "exception": false,
     "start_time": "2024-03-20T16:32:59.873142",
     "status": "completed"
    },
    "tags": []
   },
   "outputs": [],
   "source": [
    "# @ Column: ThumbsUPCount\n",
    "# Create a figure with subplots\n",
    "#fig, axes = plt.subplots(1, 2, figsize=(12, 5))\n",
    "\n",
    "# Plot Histogram\n",
    "#axes[0].hist(train_df['ThumbsUpCount'], bins=20, color='skyblue', edgecolor='black')\n",
    "#axes[0].set_title('Histogram of ThumbsUpCount')\n",
    "\n",
    "# Plot Box Plot\n",
    "#axes[1].boxplot(train_df['ThumbsUpCount'], vert=False, patch_artist=True,flierprops=dict(markerfacecolor='red', marker='D'))\n",
    "#axes[1].set_title('Box Plot of ThumbsUpCount')\n",
    "#plt.tight_layout()\n",
    "#plt.show()"
   ]
  },
  {
   "cell_type": "code",
   "execution_count": 16,
   "id": "e3f3c65c",
   "metadata": {
    "execution": {
     "iopub.execute_input": "2024-03-20T16:32:59.964326Z",
     "iopub.status.busy": "2024-03-20T16:32:59.963877Z",
     "iopub.status.idle": "2024-03-20T16:32:59.970493Z",
     "shell.execute_reply": "2024-03-20T16:32:59.968143Z"
    },
    "papermill": {
     "duration": 0.038622,
     "end_time": "2024-03-20T16:32:59.973181",
     "exception": false,
     "start_time": "2024-03-20T16:32:59.934559",
     "status": "completed"
    },
    "tags": []
   },
   "outputs": [],
   "source": [
    "# @ Column: ThumbsDownCount\n",
    "# Create a figure with subplots\n",
    "#fig, axes = plt.subplots(1, 2, figsize=(12, 5))\n",
    "\n",
    "# Plot Histogram\n",
    "#axes[0].hist(train_df['ThumbsDownCount'], bins=20, color='skyblue', edgecolor='black')\n",
    "#axes[0].set_title('Histogram of ThumbsDownCount')\n",
    "\n",
    "# Plot Box Plot\n",
    "#axes[1].boxplot(train_df['ThumbsDownCount'], vert=False, patch_artist=True,flierprops=dict(markerfacecolor='red', marker='D'))\n",
    "#axes[1].set_title('Box Plot of ThumbsDownCount')\n",
    "#plt.tight_layout()\n",
    "#plt.show()"
   ]
  },
  {
   "cell_type": "code",
   "execution_count": 17,
   "id": "9ff08dc2",
   "metadata": {
    "execution": {
     "iopub.execute_input": "2024-03-20T16:33:00.030010Z",
     "iopub.status.busy": "2024-03-20T16:33:00.029530Z",
     "iopub.status.idle": "2024-03-20T16:33:00.035285Z",
     "shell.execute_reply": "2024-03-20T16:33:00.033920Z"
    },
    "papermill": {
     "duration": 0.038229,
     "end_time": "2024-03-20T16:33:00.037847",
     "exception": false,
     "start_time": "2024-03-20T16:32:59.999618",
     "status": "completed"
    },
    "tags": []
   },
   "outputs": [],
   "source": [
    "# @ Column: BestScore\n",
    "# Create a figure with subplots\n",
    "#fig, axes = plt.subplots(1, 2, figsize=(12, 5))\n",
    "\n",
    "# Plot Histogram\n",
    "#axes[0].hist(train_df['BestScore'], bins=20, color='skyblue', edgecolor='black')\n",
    "#axes[0].set_title('Histogram of BestScore')\n",
    "\n",
    "# Plot Box Plot\n",
    "#axes[1].boxplot(train_df['BestScore'], vert=False, patch_artist=True,flierprops=dict(markerfacecolor='red', marker='D'))\n",
    "#axes[1].set_title('Box Plot of BestScore')\n",
    "#plt.tight_layout()\n",
    "#plt.show()"
   ]
  },
  {
   "cell_type": "code",
   "execution_count": 18,
   "id": "1d5b1e52",
   "metadata": {
    "execution": {
     "iopub.execute_input": "2024-03-20T16:33:00.092722Z",
     "iopub.status.busy": "2024-03-20T16:33:00.091889Z",
     "iopub.status.idle": "2024-03-20T16:33:00.097866Z",
     "shell.execute_reply": "2024-03-20T16:33:00.096666Z"
    },
    "papermill": {
     "duration": 0.036252,
     "end_time": "2024-03-20T16:33:00.100355",
     "exception": false,
     "start_time": "2024-03-20T16:33:00.064103",
     "status": "completed"
    },
    "tags": []
   },
   "outputs": [],
   "source": [
    "# @ Column: Rating\n",
    "# Create a figure with subplots\n",
    "#fig, axes = plt.subplots(1, 2, figsize=(12, 5))\n",
    "# Plot Pie Plot\n",
    "#rating_counts = train_df['Rating'].value_counts()\n",
    "#axes[0].pie(rating_counts, labels=rating_counts.index, autopct=lambda p: '{:.1f}%'.format(p) if p > 0 else '', startangle=90, colors=sns.color_palette('pastel'))\n",
    "#axes[0].set_title('Pie Chart of Rating')\n",
    "\n",
    "# Plot Histogram\n",
    "# axes[0].hist(train_df['Rating'], bins=20, color='skyblue', edgecolor='black')\n",
    "# axes[0].set_title('Histogram of Rating')\n",
    "\n",
    "# Plot Box Plot\n",
    "#sns.countplot(x='Rating', data=train_df, ax=axes[1])\n",
    "#axes[1].set_title('Count Plot of Rating')\n",
    "#plt.tight_layout()\n",
    "#plt.show()"
   ]
  },
  {
   "cell_type": "markdown",
   "id": "e1292549",
   "metadata": {
    "papermill": {
     "duration": 0.027198,
     "end_time": "2024-03-20T16:33:00.153936",
     "exception": false,
     "start_time": "2024-03-20T16:33:00.126738",
     "status": "completed"
    },
    "tags": []
   },
   "source": [
    "**Column: Rating is target**\n",
    "\n",
    "| Value | Count | Frequency(%) |\n",
    "|----------|----------|----------|\n",
    "|   5  |  10371 |   76.1 % |\n",
    "|   0  |  1272  |   9.3 %  |\n",
    "|   4  |  1241  |   9.1 %  |\n",
    "|   3  |  368   |   2.7 %  |   \n",
    "|   1  |  218   |   1.5 %  |\n",
    "|   2  |  174   |   1.3 %  |\n",
    "\n",
    "\n",
    "\n"
   ]
  },
  {
   "cell_type": "markdown",
   "id": "a5a62f83",
   "metadata": {
    "papermill": {
     "duration": 0.026044,
     "end_time": "2024-03-20T16:33:00.206756",
     "exception": false,
     "start_time": "2024-03-20T16:33:00.180712",
     "status": "completed"
    },
    "tags": []
   },
   "source": [
    "<span style=\"color:black; font-weight:bold; font-size:20px;\">1.3</span> <span style=\"color:red; font-size:22px;\">EDA Categorical Columns</span>"
   ]
  },
  {
   "cell_type": "code",
   "execution_count": 19,
   "id": "76e61c38",
   "metadata": {
    "execution": {
     "iopub.execute_input": "2024-03-20T16:33:00.260958Z",
     "iopub.status.busy": "2024-03-20T16:33:00.260202Z",
     "iopub.status.idle": "2024-03-20T16:33:00.264883Z",
     "shell.execute_reply": "2024-03-20T16:33:00.263757Z"
    },
    "papermill": {
     "duration": 0.034217,
     "end_time": "2024-03-20T16:33:00.267159",
     "exception": false,
     "start_time": "2024-03-20T16:33:00.232942",
     "status": "completed"
    },
    "tags": []
   },
   "outputs": [],
   "source": [
    "# Countplot\n",
    "#plt.figure(figsize=(10, 5))\n",
    "#sns.countplot(x='RecipeName', data=train_df)\n",
    "#plt.title('Countplot of RecipeName')\n",
    "#plt.show()\n",
    "\n"
   ]
  },
  {
   "cell_type": "code",
   "execution_count": 20,
   "id": "b2137d4f",
   "metadata": {
    "execution": {
     "iopub.execute_input": "2024-03-20T16:33:00.322048Z",
     "iopub.status.busy": "2024-03-20T16:33:00.321676Z",
     "iopub.status.idle": "2024-03-20T16:33:00.327107Z",
     "shell.execute_reply": "2024-03-20T16:33:00.325991Z"
    },
    "papermill": {
     "duration": 0.035471,
     "end_time": "2024-03-20T16:33:00.329510",
     "exception": false,
     "start_time": "2024-03-20T16:33:00.294039",
     "status": "completed"
    },
    "tags": []
   },
   "outputs": [],
   "source": [
    "# Get the top 10 most frequent 'RecipeName' values\n",
    "#top_recipe_names = train_df['RecipeName'].value_counts().nlargest(10).index\n",
    "\n",
    "# Filter the DataFrame for the top 10 'RecipeName' values\n",
    "#filtered_data = train_df[train_df['RecipeName'].isin(top_recipe_names)]\n",
    "\n",
    "# Countplot for the top 10 'RecipeName' values\n",
    "#plt.figure(figsize=(12, 5))\n",
    "#sns.countplot(x='RecipeName', data=filtered_data)\n",
    "#plt.title('Countplot of Top 10 RecipeNames')\n",
    "# Rotate x-axis labels for better readability\n",
    "#plt.xticks(rotation=45, ha='right')  # Adjust the rotation angle as needed\n",
    "\n",
    "#plt.show()"
   ]
  },
  {
   "cell_type": "code",
   "execution_count": 21,
   "id": "e88b1e6c",
   "metadata": {
    "execution": {
     "iopub.execute_input": "2024-03-20T16:33:00.383766Z",
     "iopub.status.busy": "2024-03-20T16:33:00.382924Z",
     "iopub.status.idle": "2024-03-20T16:33:00.388005Z",
     "shell.execute_reply": "2024-03-20T16:33:00.386903Z"
    },
    "papermill": {
     "duration": 0.034758,
     "end_time": "2024-03-20T16:33:00.390301",
     "exception": false,
     "start_time": "2024-03-20T16:33:00.355543",
     "status": "completed"
    },
    "tags": []
   },
   "outputs": [],
   "source": [
    "#plt.figure(figsize=(12,8))\n",
    "#sns.heatmap(train_df.select_dtypes(include='number').corr(),annot=True)"
   ]
  },
  {
   "cell_type": "markdown",
   "id": "c92ad23d",
   "metadata": {
    "papermill": {
     "duration": 0.026776,
     "end_time": "2024-03-20T16:33:00.443689",
     "exception": false,
     "start_time": "2024-03-20T16:33:00.416913",
     "status": "completed"
    },
    "tags": []
   },
   "source": [
    "<span style=\"color:black; font-weight:bold; font-size:20px;\">2 :</span> <span style=\"color:red; font-size:22px;\">Data cleaning</span>"
   ]
  },
  {
   "cell_type": "markdown",
   "id": "43c1c868",
   "metadata": {
    "papermill": {
     "duration": 0.026012,
     "end_time": "2024-03-20T16:33:00.496956",
     "exception": false,
     "start_time": "2024-03-20T16:33:00.470944",
     "status": "completed"
    },
    "tags": []
   },
   "source": [
    "**2.1 :**\n",
    "**outlier Handling**\n",
    "\n"
   ]
  },
  {
   "cell_type": "markdown",
   "id": "3175a823",
   "metadata": {
    "papermill": {
     "duration": 0.026924,
     "end_time": "2024-03-20T16:33:00.551458",
     "exception": false,
     "start_time": "2024-03-20T16:33:00.524534",
     "status": "completed"
    },
    "tags": []
   },
   "source": [
    "**2.2: Creating new Columns**\n",
    "\n",
    "*Column CommentID has distict = 13636\n",
    "\n",
    "*it has entry like sp_aUSaElGf_8202_c_310332\n",
    "\n",
    "*Extracting the numerical parts from it and creating two new columns CommID_1,Comm_ID_2"
   ]
  },
  {
   "cell_type": "code",
   "execution_count": 22,
   "id": "cafee73f",
   "metadata": {
    "execution": {
     "iopub.execute_input": "2024-03-20T16:33:00.607290Z",
     "iopub.status.busy": "2024-03-20T16:33:00.606884Z",
     "iopub.status.idle": "2024-03-20T16:33:00.612854Z",
     "shell.execute_reply": "2024-03-20T16:33:00.611557Z"
    },
    "papermill": {
     "duration": 0.036926,
     "end_time": "2024-03-20T16:33:00.615345",
     "exception": false,
     "start_time": "2024-03-20T16:33:00.578419",
     "status": "completed"
    },
    "tags": []
   },
   "outputs": [],
   "source": [
    "#def extract_numeric_info(df, column_name):\n",
    "    #\"\"\"\n",
    "   # Extract numerical information from a DataFrame column containing strings.\n",
    "  #  Adds two new columns with the extracted numeric information to the DataFrame.\n",
    "\n",
    "   # Parameters:\n",
    "    #- df: DataFrame\n",
    "    #- column_name: str\n",
    "     # Name of the column containing strings.\n",
    "\n",
    "    #Returns:\n",
    "    #- DataFrame with two new columns added.\n",
    "    #\"\"\"\n",
    "\n",
    "    # Extract numeric information using regular expression\n",
    "   # numeric_info = df[column_name].str.extract(r'_(\\d+)_c_(\\d+)$')\n",
    "\n",
    "    # Rename the new columns\n",
    "    #numeric_columns = [f'{column_name}_numeric_1', f'{column_name}_numeric_2']\n",
    "    #numeric_info.columns = numeric_columns\n",
    "\n",
    "    # Add the new columns to the DataFrame\n",
    "    #df[numeric_columns] = numeric_info\n",
    "\n",
    "    #return df\n",
    "\n",
    "# Example usage\n",
    "# Assuming df_train is your DataFrame and 'CommentID' is the column with the required information\n",
    "#train_df = extract_numeric_info(train_df, 'CommentID')"
   ]
  },
  {
   "cell_type": "code",
   "execution_count": 23,
   "id": "c24a58e3",
   "metadata": {
    "execution": {
     "iopub.execute_input": "2024-03-20T16:33:00.671222Z",
     "iopub.status.busy": "2024-03-20T16:33:00.669900Z",
     "iopub.status.idle": "2024-03-20T16:33:00.675685Z",
     "shell.execute_reply": "2024-03-20T16:33:00.674156Z"
    },
    "papermill": {
     "duration": 0.035769,
     "end_time": "2024-03-20T16:33:00.678171",
     "exception": false,
     "start_time": "2024-03-20T16:33:00.642402",
     "status": "completed"
    },
    "tags": []
   },
   "outputs": [],
   "source": [
    "#test_df = extract_numeric_info(test_df,'CommentID')\n",
    "#len(test_df.CommentID_numeric_1.unique()),len(test_df.CommentID_numeric_2.unique())"
   ]
  },
  {
   "cell_type": "code",
   "execution_count": 24,
   "id": "7f24d03f",
   "metadata": {
    "execution": {
     "iopub.execute_input": "2024-03-20T16:33:00.732475Z",
     "iopub.status.busy": "2024-03-20T16:33:00.731998Z",
     "iopub.status.idle": "2024-03-20T16:33:00.736119Z",
     "shell.execute_reply": "2024-03-20T16:33:00.735165Z"
    },
    "papermill": {
     "duration": 0.033977,
     "end_time": "2024-03-20T16:33:00.738229",
     "exception": false,
     "start_time": "2024-03-20T16:33:00.704252",
     "status": "completed"
    },
    "tags": []
   },
   "outputs": [],
   "source": [
    "# sanity check\n",
    "#len(train_df.CommentID_numeric_1.unique()),len(train_df.CommentID_numeric_2.unique())"
   ]
  },
  {
   "cell_type": "code",
   "execution_count": 25,
   "id": "675ca522",
   "metadata": {
    "execution": {
     "iopub.execute_input": "2024-03-20T16:33:00.792233Z",
     "iopub.status.busy": "2024-03-20T16:33:00.791767Z",
     "iopub.status.idle": "2024-03-20T16:33:00.796178Z",
     "shell.execute_reply": "2024-03-20T16:33:00.795258Z"
    },
    "papermill": {
     "duration": 0.034089,
     "end_time": "2024-03-20T16:33:00.798262",
     "exception": false,
     "start_time": "2024-03-20T16:33:00.764173",
     "status": "completed"
    },
    "tags": []
   },
   "outputs": [],
   "source": [
    "#feature_unseen = set(train_df.CommentID_numeric_1)- set(test_df.CommentID_numeric_1)\n",
    "#feature_unseen"
   ]
  },
  {
   "cell_type": "code",
   "execution_count": 26,
   "id": "9935c6ad",
   "metadata": {
    "execution": {
     "iopub.execute_input": "2024-03-20T16:33:00.852364Z",
     "iopub.status.busy": "2024-03-20T16:33:00.851920Z",
     "iopub.status.idle": "2024-03-20T16:33:00.856239Z",
     "shell.execute_reply": "2024-03-20T16:33:00.855174Z"
    },
    "papermill": {
     "duration": 0.033975,
     "end_time": "2024-03-20T16:33:00.858305",
     "exception": false,
     "start_time": "2024-03-20T16:33:00.824330",
     "status": "completed"
    },
    "tags": []
   },
   "outputs": [],
   "source": [
    "#train_df.CommentID_numeric_1.dtypes"
   ]
  },
  {
   "cell_type": "markdown",
   "id": "6a3684be",
   "metadata": {
    "papermill": {
     "duration": 0.025692,
     "end_time": "2024-03-20T16:33:00.910967",
     "exception": false,
     "start_time": "2024-03-20T16:33:00.885275",
     "status": "completed"
    },
    "tags": []
   },
   "source": [
    "**2.3 : Column:CreationTimestamp**\n",
    "\n",
    "* Column contain 2422 distinct entries\n",
    "\n",
    "* year,month,Day,hour,minute,second entries in column has only one distict value\n",
    "\n",
    "* microsecond part in the timestamp has 743 distinct values\n",
    "\n",
    "* Extractiong microsecond part and creating one addition column'sec' both in train&test data\n"
   ]
  },
  {
   "cell_type": "code",
   "execution_count": 27,
   "id": "88c2eea4",
   "metadata": {
    "execution": {
     "iopub.execute_input": "2024-03-20T16:33:00.965191Z",
     "iopub.status.busy": "2024-03-20T16:33:00.964708Z",
     "iopub.status.idle": "2024-03-20T16:33:00.969004Z",
     "shell.execute_reply": "2024-03-20T16:33:00.968146Z"
    },
    "papermill": {
     "duration": 0.034261,
     "end_time": "2024-03-20T16:33:00.971559",
     "exception": false,
     "start_time": "2024-03-20T16:33:00.937298",
     "status": "completed"
    },
    "tags": []
   },
   "outputs": [],
   "source": [
    "#len(train_df.CreationTimestamp.unique())"
   ]
  },
  {
   "cell_type": "code",
   "execution_count": 28,
   "id": "82509c3d",
   "metadata": {
    "execution": {
     "iopub.execute_input": "2024-03-20T16:33:01.027682Z",
     "iopub.status.busy": "2024-03-20T16:33:01.027241Z",
     "iopub.status.idle": "2024-03-20T16:33:01.031108Z",
     "shell.execute_reply": "2024-03-20T16:33:01.030242Z"
    },
    "papermill": {
     "duration": 0.034968,
     "end_time": "2024-03-20T16:33:01.033328",
     "exception": false,
     "start_time": "2024-03-20T16:33:00.998360",
     "status": "completed"
    },
    "tags": []
   },
   "outputs": [],
   "source": [
    "#train_df.CreationTimestamp = pd.to_datetime(train_df.CreationTimestamp)\n",
    "#test_df.CreationTimestamp = pd.to_datetime(train_df.CreationTimestamp)"
   ]
  },
  {
   "cell_type": "code",
   "execution_count": 29,
   "id": "d0438565",
   "metadata": {
    "execution": {
     "iopub.execute_input": "2024-03-20T16:33:01.087389Z",
     "iopub.status.busy": "2024-03-20T16:33:01.086581Z",
     "iopub.status.idle": "2024-03-20T16:33:01.090819Z",
     "shell.execute_reply": "2024-03-20T16:33:01.089972Z"
    },
    "papermill": {
     "duration": 0.033835,
     "end_time": "2024-03-20T16:33:01.093110",
     "exception": false,
     "start_time": "2024-03-20T16:33:01.059275",
     "status": "completed"
    },
    "tags": []
   },
   "outputs": [],
   "source": [
    "#train_df['sec'] = train_df['CreationTimestamp'].dt.microsecond\n",
    "#test_df['sec'] = test_df['CreationTimestamp'].dt.microsecond\n",
    "#len(train_df.sec.unique()),len(test_df.sec.unique())"
   ]
  },
  {
   "cell_type": "markdown",
   "id": "dace776d",
   "metadata": {
    "papermill": {
     "duration": 0.026358,
     "end_time": "2024-03-20T16:33:01.146248",
     "exception": false,
     "start_time": "2024-03-20T16:33:01.119890",
     "status": "completed"
    },
    "tags": []
   },
   "source": [
    "**2.4 : Cleaning Recipe_Review Column**\n",
    "\n",
    "* recipe_Review contain HTML tags and unwanted patterns\n",
    "\n",
    "* contains digits and non-alphabatical characters\n",
    "\n",
    "* Contains unwanted web links"
   ]
  },
  {
   "cell_type": "code",
   "execution_count": 30,
   "id": "b127d29f",
   "metadata": {
    "execution": {
     "iopub.execute_input": "2024-03-20T16:33:01.201203Z",
     "iopub.status.busy": "2024-03-20T16:33:01.200164Z",
     "iopub.status.idle": "2024-03-20T16:33:01.206947Z",
     "shell.execute_reply": "2024-03-20T16:33:01.205688Z"
    },
    "papermill": {
     "duration": 0.036724,
     "end_time": "2024-03-20T16:33:01.209312",
     "exception": false,
     "start_time": "2024-03-20T16:33:01.172588",
     "status": "completed"
    },
    "tags": []
   },
   "outputs": [],
   "source": [
    "# function to clean train_X_text\n",
    "def clean_recipe_review(review):\n",
    "    if isinstance(review,str):\n",
    "        # removing special characters,HTML tags and unwanted patterns\n",
    "        review = re.sub(r'<.*?>','',review) # HTML tags removal\n",
    "        review = re.sub(r'\\d+','',review)   #digits removal\n",
    "        #review = re.sub(r'[^a-zA-Z\\s]','',review)#non-alphabetic character(except space)removal\n",
    "        # web links removal\n",
    "        review = re.sub(r'http[s]?://(?:[a-zA-Z]|[0-9]|[$-_@.&+]|[!*\\\\(\\\\),]|(?:[0-9a-fA-F][0-9a-fA-F]))+','',review)\n",
    "        \n",
    "        return review\n",
    "    else:\n",
    "        return review"
   ]
  },
  {
   "cell_type": "markdown",
   "id": "756f1062",
   "metadata": {
    "papermill": {
     "duration": 0.025541,
     "end_time": "2024-03-20T16:33:01.260906",
     "exception": false,
     "start_time": "2024-03-20T16:33:01.235365",
     "status": "completed"
    },
    "tags": []
   },
   "source": [
    "<span style=\"color:black; font-weight:bold; font-size:20px;\">3 :</span> <span style=\"color:red; font-size:22px;\">Data preprocessing</span>"
   ]
  },
  {
   "cell_type": "markdown",
   "id": "3383d5d6",
   "metadata": {
    "papermill": {
     "duration": 0.025789,
     "end_time": "2024-03-20T16:33:01.313939",
     "exception": false,
     "start_time": "2024-03-20T16:33:01.288150",
     "status": "completed"
    },
    "tags": []
   },
   "source": [
    "**3.1: Preprocessing data_train**"
   ]
  },
  {
   "cell_type": "code",
   "execution_count": 31,
   "id": "fa2b19db",
   "metadata": {
    "execution": {
     "iopub.execute_input": "2024-03-20T16:33:01.369041Z",
     "iopub.status.busy": "2024-03-20T16:33:01.367921Z",
     "iopub.status.idle": "2024-03-20T16:33:01.372682Z",
     "shell.execute_reply": "2024-03-20T16:33:01.371765Z"
    },
    "papermill": {
     "duration": 0.034792,
     "end_time": "2024-03-20T16:33:01.374998",
     "exception": false,
     "start_time": "2024-03-20T16:33:01.340206",
     "status": "completed"
    },
    "tags": []
   },
   "outputs": [],
   "source": [
    "#print(list(train_df.columns))\n",
    "#train_df.shape"
   ]
  },
  {
   "cell_type": "code",
   "execution_count": 32,
   "id": "74592dd0",
   "metadata": {
    "execution": {
     "iopub.execute_input": "2024-03-20T16:33:01.430078Z",
     "iopub.status.busy": "2024-03-20T16:33:01.429331Z",
     "iopub.status.idle": "2024-03-20T16:33:01.433633Z",
     "shell.execute_reply": "2024-03-20T16:33:01.432595Z"
    },
    "papermill": {
     "duration": 0.034168,
     "end_time": "2024-03-20T16:33:01.435770",
     "exception": false,
     "start_time": "2024-03-20T16:33:01.401602",
     "status": "completed"
    },
    "tags": []
   },
   "outputs": [],
   "source": [
    "#train_df['CommentID_numeric_1'] = pd.to_numeric(train_df['CommentID_numeric_1'], errors='coerce')\n",
    "#median_value = train_df['CommentID_numeric_1'].median()\n",
    "#train_df['CommentID_numeric_1'] = train_df['CommentID_numeric_1'].fillna(median_value)\n",
    "\n",
    "# Convert to integers\n",
    "#train_df['CommentID_numeric_1'] = train_df['CommentID_numeric_1'].astype(int)"
   ]
  },
  {
   "cell_type": "code",
   "execution_count": 33,
   "id": "20fcad81",
   "metadata": {
    "execution": {
     "iopub.execute_input": "2024-03-20T16:33:01.491197Z",
     "iopub.status.busy": "2024-03-20T16:33:01.490382Z",
     "iopub.status.idle": "2024-03-20T16:33:01.494918Z",
     "shell.execute_reply": "2024-03-20T16:33:01.494020Z"
    },
    "papermill": {
     "duration": 0.034524,
     "end_time": "2024-03-20T16:33:01.497289",
     "exception": false,
     "start_time": "2024-03-20T16:33:01.462765",
     "status": "completed"
    },
    "tags": []
   },
   "outputs": [],
   "source": [
    "# preprocessing train_df\n",
    "#col=['ID', 'RecipeNumber', 'RecipeCode', 'RecipeName','UserName', 'UserReputation', 'ReplyCount', \n",
    "     #'ThumbsUpCount', 'ThumbsDownCount',  'BestScore', 'Recipe_Review', 'sec']\n",
    "#train_X= train_df[col]\n",
    "#train_y=train_df['Rating']"
   ]
  },
  {
   "cell_type": "code",
   "execution_count": 34,
   "id": "88813afe",
   "metadata": {
    "execution": {
     "iopub.execute_input": "2024-03-20T16:33:01.552273Z",
     "iopub.status.busy": "2024-03-20T16:33:01.551534Z",
     "iopub.status.idle": "2024-03-20T16:33:01.555688Z",
     "shell.execute_reply": "2024-03-20T16:33:01.554797Z"
    },
    "papermill": {
     "duration": 0.034524,
     "end_time": "2024-03-20T16:33:01.558059",
     "exception": false,
     "start_time": "2024-03-20T16:33:01.523535",
     "status": "completed"
    },
    "tags": []
   },
   "outputs": [],
   "source": [
    "# splitting train_X , train_y into train and val data \n",
    "#X_train_df ,X_val_df,y_train,y_val = train_test_split(train_X,train_y,test_size = 0.2,stratify=train_y,random_state=16)\n",
    "#X_train_df.shape , y_train.shape , X_val_df.shape , y_val.shape"
   ]
  },
  {
   "cell_type": "code",
   "execution_count": 35,
   "id": "43b821e3",
   "metadata": {
    "execution": {
     "iopub.execute_input": "2024-03-20T16:33:01.614710Z",
     "iopub.status.busy": "2024-03-20T16:33:01.613710Z",
     "iopub.status.idle": "2024-03-20T16:33:01.619583Z",
     "shell.execute_reply": "2024-03-20T16:33:01.618746Z"
    },
    "papermill": {
     "duration": 0.036421,
     "end_time": "2024-03-20T16:33:01.622106",
     "exception": false,
     "start_time": "2024-03-20T16:33:01.585685",
     "status": "completed"
    },
    "tags": []
   },
   "outputs": [],
   "source": [
    "# preprocessing X_train_df \n",
    "#X_train_num = X_train_df.select_dtypes(include='number')# X_train_df numerical columns\n",
    "#X_train_cat = X_train_df[['RecipeName','UserName']] # X_train_df categorical Columns\n",
    "#X_train_text = X_train_df['Recipe_Review']\n",
    "#****************************************************************************************\n",
    "# numerical transformer\n",
    "#num_transformer = StandardScaler()\n",
    "#X_train_num_transformed = num_transformer.fit_transform(X_train_num)\n",
    "#X_train_num = pd.DataFrame(X_train_num_transformed,columns = X_train_num.columns )\n",
    "#X_train_num.head(2)\n",
    "#*****************************************************************************************\n",
    "# categorical transformation\n",
    "#cat_transformer = OneHotEncoder(sparse_output=False,handle_unknown='ignore')\n",
    "#X_train_cat_transformed = cat_transformer.fit_transform(X_train_cat)\n",
    "#features = cat_transformer.get_feature_names_out(X_train_cat.columns)\n",
    "#X_train_cat = pd.DataFrame(X_train_cat_transformed,columns=features)\n",
    "#X_train_cat.head(2)\n",
    "#******************************************************************************************\n",
    "# Imputing X_train_text\n",
    "#X_train_text = X_train_text.fillna('No Comment')\n",
    "#X_train_text = X_train_text.apply(clean_recipe_review)\n",
    "# text transformer\n",
    "#text_transformer = TfidfVectorizer(ngram_range=(1,2),min_df=100)\n",
    "#X_train_text_transformed = text_transformer.fit_transform(X_train_text)\n",
    "#features_name = text_transformer.get_feature_names_out()\n",
    "#X_train_text = pd.DataFrame(data=X_train_text_transformed.toarray(),columns=features_name)\n",
    "#X_train_text.shape\n",
    "#X_train_text.head(),train_X_text.shape\n",
    "#********************************************************************************************\n",
    "#X_train = pd.concat([X_train_num,X_train_cat,X_train_text],axis=1)\n",
    "#X_train.head(2)"
   ]
  },
  {
   "cell_type": "code",
   "execution_count": 36,
   "id": "e902d04f",
   "metadata": {
    "execution": {
     "iopub.execute_input": "2024-03-20T16:33:01.676972Z",
     "iopub.status.busy": "2024-03-20T16:33:01.676350Z",
     "iopub.status.idle": "2024-03-20T16:33:01.682137Z",
     "shell.execute_reply": "2024-03-20T16:33:01.681019Z"
    },
    "papermill": {
     "duration": 0.036037,
     "end_time": "2024-03-20T16:33:01.684605",
     "exception": false,
     "start_time": "2024-03-20T16:33:01.648568",
     "status": "completed"
    },
    "tags": []
   },
   "outputs": [],
   "source": [
    "# preprocessing X_val_df \n",
    "#X_val_num = X_val_df.select_dtypes(include='number')# X_val_df numerical columns\n",
    "#X_val_cat = X_val_df[['RecipeName','UserName']] # X_val_df categorical Columns\n",
    "#X_val_text = X_val_df['Recipe_Review']\n",
    "#****************************************************************************************\n",
    "# numerical transformer\n",
    "#num_transformer = StandardScaler()\n",
    "#X_val_num_transformed = num_transformer.transform(X_val_num)\n",
    "#X_val_num = pd.DataFrame(X_val_num_transformed,columns = X_val_num.columns )\n",
    "#X_val_num.head(2)\n",
    "#*****************************************************************************************\n",
    "# categorical transformation\n",
    "#cat_transformer = OneHotEncoder(sparse_output=False,handle_unknown='ignore')\n",
    "#X_val_cat_transformed = cat_transformer.transform(X_val_cat)\n",
    "#features = cat_transformer.get_feature_names_out(X_val_cat.columns)\n",
    "#X_val_cat = pd.DataFrame(X_val_cat_transformed,columns=features)\n",
    "#X_val_cat.head(2)\n",
    "#******************************************************************************************\n",
    "# Imputing X_val_text\n",
    "#X_val_text = X_val_text.fillna('No Comment')\n",
    "#X_val_text = X_val_text.apply(clean_recipe_review)\n",
    "# text transformer\n",
    "#text_transformer = TfidfVectorizer(ngram_range=(1,2),min_df=100)\n",
    "#X_val_text_transformed = text_transformer.transform(X_val_text)\n",
    "#features_name = text_transformer.get_feature_names_out()\n",
    "#X_val_text = pd.DataFrame(data=X_val_text_transformed.toarray(),columns=features_name)\n",
    "#X_train_text.shape\n",
    "#X_train_text.head(),train_X_text.shape\n",
    "#********************************************************************************************\n",
    "#X_val = pd.concat([X_val_num,X_val_cat,X_val_text],axis=1)\n",
    "#X_val.head(2)"
   ]
  },
  {
   "cell_type": "code",
   "execution_count": 37,
   "id": "c8c8bc19",
   "metadata": {
    "execution": {
     "iopub.execute_input": "2024-03-20T16:33:01.741544Z",
     "iopub.status.busy": "2024-03-20T16:33:01.741059Z",
     "iopub.status.idle": "2024-03-20T16:33:01.746236Z",
     "shell.execute_reply": "2024-03-20T16:33:01.744840Z"
    },
    "papermill": {
     "duration": 0.038204,
     "end_time": "2024-03-20T16:33:01.749616",
     "exception": false,
     "start_time": "2024-03-20T16:33:01.711412",
     "status": "completed"
    },
    "tags": []
   },
   "outputs": [],
   "source": [
    "# sanity check\n",
    "#X_val.shape,X_train.shape,y_train.shape"
   ]
  },
  {
   "cell_type": "markdown",
   "id": "e212f304",
   "metadata": {
    "papermill": {
     "duration": 0.029133,
     "end_time": "2024-03-20T16:33:01.805947",
     "exception": false,
     "start_time": "2024-03-20T16:33:01.776814",
     "status": "completed"
    },
    "tags": []
   },
   "source": [
    "<span style=\"color:black; font-weight:bold; font-size:20px;\">3 :</span> <span style=\"color:red; font-size:22px;\">Model Training</span>"
   ]
  },
  {
   "cell_type": "markdown",
   "id": "89e72d36",
   "metadata": {
    "papermill": {
     "duration": 0.026044,
     "end_time": "2024-03-20T16:33:01.858635",
     "exception": false,
     "start_time": "2024-03-20T16:33:01.832591",
     "status": "completed"
    },
    "tags": []
   },
   "source": [
    "**3.1: LogisticRegression**"
   ]
  },
  {
   "cell_type": "code",
   "execution_count": 38,
   "id": "e3745e96",
   "metadata": {
    "execution": {
     "iopub.execute_input": "2024-03-20T16:33:01.923971Z",
     "iopub.status.busy": "2024-03-20T16:33:01.923018Z",
     "iopub.status.idle": "2024-03-20T16:33:01.928513Z",
     "shell.execute_reply": "2024-03-20T16:33:01.927223Z"
    },
    "papermill": {
     "duration": 0.045838,
     "end_time": "2024-03-20T16:33:01.931336",
     "exception": false,
     "start_time": "2024-03-20T16:33:01.885498",
     "status": "completed"
    },
    "tags": []
   },
   "outputs": [],
   "source": [
    "#logreg = LogisticRegression(random_state=16, max_iter= 1000)\n",
    "#logreg.fit(X_train,y_train)"
   ]
  },
  {
   "cell_type": "code",
   "execution_count": 39,
   "id": "5cba3b05",
   "metadata": {
    "execution": {
     "iopub.execute_input": "2024-03-20T16:33:01.987797Z",
     "iopub.status.busy": "2024-03-20T16:33:01.987293Z",
     "iopub.status.idle": "2024-03-20T16:33:01.992864Z",
     "shell.execute_reply": "2024-03-20T16:33:01.991382Z"
    },
    "papermill": {
     "duration": 0.037224,
     "end_time": "2024-03-20T16:33:01.995450",
     "exception": false,
     "start_time": "2024-03-20T16:33:01.958226",
     "status": "completed"
    },
    "tags": []
   },
   "outputs": [],
   "source": [
    "#y_train_pred = logreg.predict(X_train)\n",
    "#y_val_pred = logreg.predict(X_val)\n",
    "#train_accuracy= accuracy_score(y_train,y_train_pred)\n",
    "#val_accuracy= accuracy_score(y_val,y_val_pred)\n",
    "#print(train_accuracy)\n",
    "#print(val_accuracy)"
   ]
  },
  {
   "cell_type": "markdown",
   "id": "b3c0ec54",
   "metadata": {
    "papermill": {
     "duration": 0.026132,
     "end_time": "2024-03-20T16:33:02.050418",
     "exception": false,
     "start_time": "2024-03-20T16:33:02.024286",
     "status": "completed"
    },
    "tags": []
   },
   "source": [
    "**train_accuracy = 0.8731206453978732,\n",
    "val_accuracy = 0.781158357771261**"
   ]
  },
  {
   "cell_type": "code",
   "execution_count": 40,
   "id": "6e5e4034",
   "metadata": {
    "execution": {
     "iopub.execute_input": "2024-03-20T16:33:02.106132Z",
     "iopub.status.busy": "2024-03-20T16:33:02.105701Z",
     "iopub.status.idle": "2024-03-20T16:33:02.110917Z",
     "shell.execute_reply": "2024-03-20T16:33:02.109447Z"
    },
    "papermill": {
     "duration": 0.036039,
     "end_time": "2024-03-20T16:33:02.113535",
     "exception": false,
     "start_time": "2024-03-20T16:33:02.077496",
     "status": "completed"
    },
    "tags": []
   },
   "outputs": [],
   "source": [
    "#cm = confusion_matrix(y_val,y_val_pred)\n",
    "# Display the confusion matrix using seaborn heatmap\n",
    "#plt.figure(figsize=(8, 6))\n",
    "#sns.heatmap(cm, annot=True, fmt=\"d\", cmap=\"Blues\", cbar=False)\n",
    "#plt.xlabel(\"Predicted\")\n",
    "#plt.ylabel(\"True\")\n",
    "#plt.title(\"Confusion Matrix\")\n",
    "#plt.show()\n"
   ]
  },
  {
   "cell_type": "code",
   "execution_count": 41,
   "id": "85dbb33d",
   "metadata": {
    "execution": {
     "iopub.execute_input": "2024-03-20T16:33:02.168266Z",
     "iopub.status.busy": "2024-03-20T16:33:02.167782Z",
     "iopub.status.idle": "2024-03-20T16:33:02.172388Z",
     "shell.execute_reply": "2024-03-20T16:33:02.171156Z"
    },
    "papermill": {
     "duration": 0.034879,
     "end_time": "2024-03-20T16:33:02.174640",
     "exception": false,
     "start_time": "2024-03-20T16:33:02.139761",
     "status": "completed"
    },
    "tags": []
   },
   "outputs": [],
   "source": [
    "#cm_display = ConfusionMatrixDisplay.from_predictions(y_val,y_val_pred,values_format='.1g')"
   ]
  },
  {
   "cell_type": "code",
   "execution_count": 42,
   "id": "a721da11",
   "metadata": {
    "execution": {
     "iopub.execute_input": "2024-03-20T16:33:02.230807Z",
     "iopub.status.busy": "2024-03-20T16:33:02.229812Z",
     "iopub.status.idle": "2024-03-20T16:33:02.235087Z",
     "shell.execute_reply": "2024-03-20T16:33:02.234277Z"
    },
    "papermill": {
     "duration": 0.03653,
     "end_time": "2024-03-20T16:33:02.237471",
     "exception": false,
     "start_time": "2024-03-20T16:33:02.200941",
     "status": "completed"
    },
    "tags": []
   },
   "outputs": [],
   "source": [
    "# hyperparameter tunning for LogisticRegression\n",
    "#param_grid = {\n",
    "   # 'C': [0.001, 0.01, 0.1, 1, 10],\n",
    "   # 'solver': ['saga', 'lbfgs', 'newton-cg', 'liblinear'],\n",
    "   # 'multi_class': ['ovr', 'multinomial'],\n",
    "    #'max_iter': [100, 200, 300]\n",
    "#}\n",
    "\n",
    "# Create a logistic regression model\n",
    "#lr_model = LogisticRegression(random_state=9, class_weight='balanced')\n",
    "\n",
    "# Perform GridSearchCV\n",
    "#grid_search = GridSearchCV(lr_model, param_grid, cv=5, scoring='accuracy', verbose=1)\n",
    "#grid_search.fit(X_train, y_train)\n",
    "\n",
    "# Print the best hyperparameters\n",
    "#print(\"Best Hyperparameters:\", grid_search.best_params_)\n",
    "\n",
    "# Get the best model\n",
    "#best_lr_model = grid_search.best_estimator_\n",
    "\n",
    "# Evaluate on the validation set\n",
    "#y_pred_val = best_lr_model.predict(X_val)\n",
    "#cr_val = classification_report(y_val, y_pred_val)\n",
    "#print(cr_val)"
   ]
  },
  {
   "cell_type": "markdown",
   "id": "04f757ab",
   "metadata": {
    "papermill": {
     "duration": 0.025806,
     "end_time": "2024-03-20T16:33:02.289683",
     "exception": false,
     "start_time": "2024-03-20T16:33:02.263877",
     "status": "completed"
    },
    "tags": []
   },
   "source": [
    "**best parasmeters**\n",
    "\n",
    "*'C'=1,'solver'='lbfgs', multiclass='multinomial' 'max_iter' = 300*\n",
    "\n",
    "* accuracy score on both train and val data did'nt improve\n",
    "\n",
    "* LogisticRegression is not at all responding to SMOTE and RandomSampling\"\n",
    "\n",
    "* LogisticRegression is giving inferior accuracy with class_weight ='balanced'\n"
   ]
  },
  {
   "cell_type": "markdown",
   "id": "5f2f8eaa",
   "metadata": {
    "papermill": {
     "duration": 0.025779,
     "end_time": "2024-03-20T16:33:02.341644",
     "exception": false,
     "start_time": "2024-03-20T16:33:02.315865",
     "status": "completed"
    },
    "tags": []
   },
   "source": [
    "**3.2: KNeighborsClassifiers**"
   ]
  },
  {
   "cell_type": "code",
   "execution_count": 43,
   "id": "42787502",
   "metadata": {
    "execution": {
     "iopub.execute_input": "2024-03-20T16:33:02.396174Z",
     "iopub.status.busy": "2024-03-20T16:33:02.395445Z",
     "iopub.status.idle": "2024-03-20T16:33:02.399525Z",
     "shell.execute_reply": "2024-03-20T16:33:02.398520Z"
    },
    "papermill": {
     "duration": 0.033784,
     "end_time": "2024-03-20T16:33:02.401770",
     "exception": false,
     "start_time": "2024-03-20T16:33:02.367986",
     "status": "completed"
    },
    "tags": []
   },
   "outputs": [],
   "source": [
    "#from sklearn.neighbors import KNeighborsClassifier\n",
    "#clf_knn=KNeighborsClassifier(n_neighbors= 25, weights='distance',p=1)\n",
    "#clf_knn.fit(X_train,y_train)"
   ]
  },
  {
   "cell_type": "code",
   "execution_count": 44,
   "id": "22c15260",
   "metadata": {
    "execution": {
     "iopub.execute_input": "2024-03-20T16:33:02.457497Z",
     "iopub.status.busy": "2024-03-20T16:33:02.456666Z",
     "iopub.status.idle": "2024-03-20T16:33:02.461011Z",
     "shell.execute_reply": "2024-03-20T16:33:02.460152Z"
    },
    "papermill": {
     "duration": 0.034443,
     "end_time": "2024-03-20T16:33:02.463394",
     "exception": false,
     "start_time": "2024-03-20T16:33:02.428951",
     "status": "completed"
    },
    "tags": []
   },
   "outputs": [],
   "source": [
    "#y_train_pred_1= clf_knn.predict(X_train)\n",
    "#y_val_pred_1 = clf_knn.predict(X_val)\n",
    "#accuracy_train_knn = accuracy_score(y_train,y_train_pred_1)\n",
    "#accuracy_val_knn = accuracy_score(y_val,y_val_pred_1)\n",
    "#print(accuracy_train_knn)\n",
    "#print(accuracy_val_knn)"
   ]
  },
  {
   "cell_type": "markdown",
   "id": "b84010b8",
   "metadata": {
    "papermill": {
     "duration": 0.026416,
     "end_time": "2024-03-20T16:33:02.515882",
     "exception": false,
     "start_time": "2024-03-20T16:33:02.489466",
     "status": "completed"
    },
    "tags": []
   },
   "source": [
    "**train_accuracy, val_accuracy**\n",
    "\n",
    "* accuracy_train_knn = 1\n",
    "\n",
    "* accuracy_val_knn = 0.771941"
   ]
  },
  {
   "cell_type": "code",
   "execution_count": 45,
   "id": "bc4a5f60",
   "metadata": {
    "execution": {
     "iopub.execute_input": "2024-03-20T16:33:02.572083Z",
     "iopub.status.busy": "2024-03-20T16:33:02.571326Z",
     "iopub.status.idle": "2024-03-20T16:33:02.575922Z",
     "shell.execute_reply": "2024-03-20T16:33:02.574699Z"
    },
    "papermill": {
     "duration": 0.034892,
     "end_time": "2024-03-20T16:33:02.578496",
     "exception": false,
     "start_time": "2024-03-20T16:33:02.543604",
     "status": "completed"
    },
    "tags": []
   },
   "outputs": [],
   "source": [
    "#cm_knn = confusion_matrix(y_val,y_val_pred)\n",
    "# Display the confusion matrix using seaborn heatmap\n",
    "#plt.figure(figsize=(8, 6))\n",
    "#sns.heatmap(cm_knn, annot=True, fmt=\"d\", cmap=\"Blues\", cbar=False)\n",
    "#plt.xlabel(\"Predicted\")\n",
    "#plt.ylabel(\"True\")\n",
    "#plt.title(\"Confusion Matrix\")\n",
    "#plt.show()"
   ]
  },
  {
   "cell_type": "code",
   "execution_count": 46,
   "id": "a36a7c95",
   "metadata": {
    "execution": {
     "iopub.execute_input": "2024-03-20T16:33:02.634405Z",
     "iopub.status.busy": "2024-03-20T16:33:02.632910Z",
     "iopub.status.idle": "2024-03-20T16:33:02.638348Z",
     "shell.execute_reply": "2024-03-20T16:33:02.637358Z"
    },
    "papermill": {
     "duration": 0.036004,
     "end_time": "2024-03-20T16:33:02.640710",
     "exception": false,
     "start_time": "2024-03-20T16:33:02.604706",
     "status": "completed"
    },
    "tags": []
   },
   "outputs": [],
   "source": [
    "# Hyperparameter tunning for KNeighborClassifier\n",
    "# param_grid = { 'n_neighbors': [5,15,25,27], 'weights': ['uniform','distance'],'p':[1,2]}\n",
    "#grid_search = GridSearchCV(estimator=clf_knn,param_grid=param_grid,scoring='accuracy',cv=5)\n",
    "#grid_search.fit(X_train,y_train)\n",
    "#print('Best Hyperparameters :',grid_search.best_params_)\n",
    "#print('Best Accuracy :'grid_search.best_score_)\n",
    "# evaluating the model on val set\n",
    "#val_accuracy = grid_search.score(X_val,y_val)\n",
    "#print(\"val_accuracy :\",val_accuracy())\n"
   ]
  },
  {
   "cell_type": "markdown",
   "id": "b50b5d3d",
   "metadata": {
    "papermill": {
     "duration": 0.025838,
     "end_time": "2024-03-20T16:33:02.692651",
     "exception": false,
     "start_time": "2024-03-20T16:33:02.666813",
     "status": "completed"
    },
    "tags": []
   },
   "source": [
    "**best_params : n_neighbors=25, weight = 'distance', p=1**\n",
    "\n",
    "\n",
    "\n"
   ]
  },
  {
   "cell_type": "markdown",
   "id": "30ecafb7",
   "metadata": {
    "papermill": {
     "duration": 0.025701,
     "end_time": "2024-03-20T16:33:02.744344",
     "exception": false,
     "start_time": "2024-03-20T16:33:02.718643",
     "status": "completed"
    },
    "tags": []
   },
   "source": [
    "**3.3: XGBclassifier**"
   ]
  },
  {
   "cell_type": "code",
   "execution_count": 47,
   "id": "b382f5e5",
   "metadata": {
    "execution": {
     "iopub.execute_input": "2024-03-20T16:33:02.799041Z",
     "iopub.status.busy": "2024-03-20T16:33:02.798203Z",
     "iopub.status.idle": "2024-03-20T16:33:02.802547Z",
     "shell.execute_reply": "2024-03-20T16:33:02.801641Z"
    },
    "papermill": {
     "duration": 0.034144,
     "end_time": "2024-03-20T16:33:02.804865",
     "exception": false,
     "start_time": "2024-03-20T16:33:02.770721",
     "status": "completed"
    },
    "tags": []
   },
   "outputs": [],
   "source": [
    "#xgb_clf= XGBClassifier(random_state=7)\n",
    "#xgb_clf.fit(X_train,y_train)"
   ]
  },
  {
   "cell_type": "code",
   "execution_count": 48,
   "id": "d6591c38",
   "metadata": {
    "execution": {
     "iopub.execute_input": "2024-03-20T16:33:02.861457Z",
     "iopub.status.busy": "2024-03-20T16:33:02.860713Z",
     "iopub.status.idle": "2024-03-20T16:33:02.865218Z",
     "shell.execute_reply": "2024-03-20T16:33:02.864177Z"
    },
    "papermill": {
     "duration": 0.036354,
     "end_time": "2024-03-20T16:33:02.867602",
     "exception": false,
     "start_time": "2024-03-20T16:33:02.831248",
     "status": "completed"
    },
    "tags": []
   },
   "outputs": [],
   "source": [
    "#y_pred_train_2 = xgb_clf.predict(X_train)\n",
    "#y_pred_val_2 = xgb_clf.predict(X_val)\n",
    "#accuracy_train_xgb = accuracy_score(y_train,y_pred_train_2)\n",
    "#accuracy_val_xgb = accuracy_score(y_val,y_pred_val_2)\n",
    "#print(accuracy_train_xgb)\n",
    "#print(accuracy_val_xgb)\n"
   ]
  },
  {
   "cell_type": "markdown",
   "id": "514a2237",
   "metadata": {
    "papermill": {
     "duration": 0.02583,
     "end_time": "2024-03-20T16:33:02.920440",
     "exception": false,
     "start_time": "2024-03-20T16:33:02.894610",
     "status": "completed"
    },
    "tags": []
   },
   "source": [
    "**accuracy_train_xgb = 0.9375687568756875,\n",
    "accuracy_val_xgb = 0.7862903225806451**"
   ]
  },
  {
   "cell_type": "code",
   "execution_count": 49,
   "id": "c7a261f9",
   "metadata": {
    "execution": {
     "iopub.execute_input": "2024-03-20T16:33:02.978226Z",
     "iopub.status.busy": "2024-03-20T16:33:02.977323Z",
     "iopub.status.idle": "2024-03-20T16:33:02.983180Z",
     "shell.execute_reply": "2024-03-20T16:33:02.981657Z"
    },
    "papermill": {
     "duration": 0.03761,
     "end_time": "2024-03-20T16:33:02.985987",
     "exception": false,
     "start_time": "2024-03-20T16:33:02.948377",
     "status": "completed"
    },
    "tags": []
   },
   "outputs": [],
   "source": [
    "#cm_xgb = confusion_matrix(y_val,y_val_pred)\n",
    "# Display the confusion matrix using seaborn heatmap\n",
    "#plt.figure(figsize=(8, 6))\n",
    "#sns.heatmap(cm_xgb, annot=True, fmt=\"d\", cmap=\"Blues\", cbar=False)\n",
    "#plt.xlabel(\"Predicted\")\n",
    "#plt.ylabel(\"True\")\n",
    "#plt.title(\"Confusion Matrix\")\n",
    "#plt.show()"
   ]
  },
  {
   "cell_type": "code",
   "execution_count": 50,
   "id": "57a4d6c9",
   "metadata": {
    "execution": {
     "iopub.execute_input": "2024-03-20T16:33:03.043345Z",
     "iopub.status.busy": "2024-03-20T16:33:03.042530Z",
     "iopub.status.idle": "2024-03-20T16:33:03.047301Z",
     "shell.execute_reply": "2024-03-20T16:33:03.046301Z"
    },
    "papermill": {
     "duration": 0.035127,
     "end_time": "2024-03-20T16:33:03.049942",
     "exception": false,
     "start_time": "2024-03-20T16:33:03.014815",
     "status": "completed"
    },
    "tags": []
   },
   "outputs": [],
   "source": [
    "# Hyperparameter tunning for XGBClassifier\n",
    "#cv = RepeatedStratifiedKFold(n_splits=10,n_repeat=3,random_state=1)\n",
    "# param_grid = { 'learning_rate': [0.001,0.01,0.01], 'n_estimators': [100,200],'max_depth':[3,5,7]}\n",
    "#grid_search = GridSearchCV(estimator=clf_xgb,param_grid=param_grid,scoring='accuracy',cv=cv,n_jobs = -1)\n",
    "#grid_search.fit(X_train,y_train)\n",
    "#print('Best Hyperparameters :',grid_search.best_params_)\n",
    "#print('Best Accuracy :'grid_search.best_score_)\n",
    "# evaluating the model on val set\n",
    "#val_accuracy = grid_search.score(X_val,y_val)\n",
    "#print(\"val_accuracy :\",val_accuracy())"
   ]
  },
  {
   "cell_type": "markdown",
   "id": "69114df2",
   "metadata": {
    "papermill": {
     "duration": 0.026428,
     "end_time": "2024-03-20T16:33:03.103612",
     "exception": false,
     "start_time": "2024-03-20T16:33:03.077184",
     "status": "completed"
    },
    "tags": []
   },
   "source": [
    "**best_params: max_depth=3,n_estimator=200,learning_rate=0.01**\n",
    "\n",
    "**accuracy = 0.7783**\n",
    "\n",
    "**with default XGBClassifier accuracy = 0.78629**"
   ]
  },
  {
   "cell_type": "markdown",
   "id": "336b76e9",
   "metadata": {
    "papermill": {
     "duration": 0.026305,
     "end_time": "2024-03-20T16:33:03.155983",
     "exception": false,
     "start_time": "2024-03-20T16:33:03.129678",
     "status": "completed"
    },
    "tags": []
   },
   "source": [
    "<span style=\"color:black; font-weight:bold; font-size:20px;\">3 :</span> <span style=\"color:red; font-size:22px;\">Submission</span>"
   ]
  },
  {
   "cell_type": "markdown",
   "id": "3d1b6d51",
   "metadata": {
    "papermill": {
     "duration": 0.025917,
     "end_time": "2024-03-20T16:33:03.208441",
     "exception": false,
     "start_time": "2024-03-20T16:33:03.182524",
     "status": "completed"
    },
    "tags": []
   },
   "source": [
    "**Training on Entire training data**"
   ]
  },
  {
   "cell_type": "code",
   "execution_count": 51,
   "id": "d5bf16e2",
   "metadata": {
    "execution": {
     "iopub.execute_input": "2024-03-20T16:33:03.264234Z",
     "iopub.status.busy": "2024-03-20T16:33:03.263777Z",
     "iopub.status.idle": "2024-03-20T16:33:03.270593Z",
     "shell.execute_reply": "2024-03-20T16:33:03.269549Z"
    },
    "papermill": {
     "duration": 0.037342,
     "end_time": "2024-03-20T16:33:03.272873",
     "exception": false,
     "start_time": "2024-03-20T16:33:03.235531",
     "status": "completed"
    },
    "tags": []
   },
   "outputs": [],
   "source": [
    "# preprocessing train_df\n",
    "#col=['ID', 'RecipeNumber', 'RecipeCode', 'RecipeName','UserID','UserName', 'UserReputation', 'CreationTimestamp' , 'ReplyCount', \n",
    "     #'ThumbsUpCount', 'ThumbsDownCount',  'BestScore', 'Recipe_Review']\n",
    "#X_train_df = train_df[col]\n",
    "#y_train_df = train_df['Rating']\n",
    "# ******************************************************************\n",
    "#X_train_df_num = X_train_df.select_dtypes(include='number')# data numerical columns\n",
    "#X_train_df_cat = X_train_df[['RecipeName','UserName']] # data categorical columns\n",
    "#X_train_df_text = X_train_df['Recipe_Review'] # data Textual\n",
    "#********************************************************************\n",
    "# numerical transformer\n",
    "#num_transformer = StandardScaler()\n",
    "#X_train_df_num_transformed = num_transformer.fit_transform(X_train_df_num)\n",
    "#X_train_df_num = pd.DataFrame(X_train_df_num_transformed,columns= X_train_df_num.columns)\n",
    "#*********************************************************************\n",
    "# categorical Transformation\n",
    "#cat_transformer = OneHotEncoder(sparse_output=False,handle_unknown='ignore')\n",
    "#X_train_df_cat_transformed = cat_transformer.fit_transform(X_train_df_cat)\n",
    "#features = cat_transformer.get_feature_names_out(X_train_df_cat.columns)\n",
    "#X_train_df_cat = pd.DataFrame(X_train_df_cat_transformed,columns=features)\n",
    "#X_train_df_cat.head(2)\n",
    "#*********************************************************************\n",
    "#X_train_df_text = X_train_df_text.fillna('No Comment')\n",
    "#X_train_df_text = X_train_df_text.apply(clean_recipe_review)\n",
    "# text transformer\n",
    "#text_transformer = TfidfVectorizer(ngram_range = (1,2),max_features=75000)\n",
    "#X_train_df_text_transformed = text_transformer.fit_transform(X_train_df_text)\n",
    "#features_name = text_transformer.get_feature_names_out()\n",
    "#X_train_df_text = pd.DataFrame(data=X_train_df_text_transformed.toarray(),columns=features_name)\n",
    "#X_train_text.shape\n",
    "#train_X_text.head(),train_X_text.shape\n",
    "#print(train_X_text[1220])\n",
    "#train_X_text.isna().sum()\n",
    "#***********************************************************************\n",
    "#X_train_df_encoded = pd.concat([X_train_df_num,X_train_df_cat,X_train_df_text],axis = 1)\n",
    "#X_train_df_encoded.shape"
   ]
  },
  {
   "cell_type": "markdown",
   "id": "a78993d5",
   "metadata": {
    "papermill": {
     "duration": 0.02588,
     "end_time": "2024-03-20T16:33:03.324739",
     "exception": false,
     "start_time": "2024-03-20T16:33:03.298859",
     "status": "completed"
    },
    "tags": []
   },
   "source": [
    "**3.2 : Preprocessing data_test**"
   ]
  },
  {
   "cell_type": "code",
   "execution_count": 52,
   "id": "0185d204",
   "metadata": {
    "execution": {
     "iopub.execute_input": "2024-03-20T16:33:03.380437Z",
     "iopub.status.busy": "2024-03-20T16:33:03.379187Z",
     "iopub.status.idle": "2024-03-20T16:33:03.383854Z",
     "shell.execute_reply": "2024-03-20T16:33:03.383080Z"
    },
    "papermill": {
     "duration": 0.034934,
     "end_time": "2024-03-20T16:33:03.386233",
     "exception": false,
     "start_time": "2024-03-20T16:33:03.351299",
     "status": "completed"
    },
    "tags": []
   },
   "outputs": [],
   "source": [
    "#test_df['CommentID_numeric_1'] = pd.to_numeric(test_df['CommentID_numeric_1'], errors='coerce')\n",
    "#median_value_1 = test_df['CommentID_numeric_1'].median()\n",
    "#test_df['CommentID_numeric_1'] = test_df['CommentID_numeric_1'].fillna(median_value_1)\n",
    "\n",
    "# Convert to integers\n",
    "#test_df['CommentID_numeric_1'] = test_df['CommentID_numeric_1'].astype(int)"
   ]
  },
  {
   "cell_type": "code",
   "execution_count": 53,
   "id": "9d8838ee",
   "metadata": {
    "execution": {
     "iopub.execute_input": "2024-03-20T16:33:03.445224Z",
     "iopub.status.busy": "2024-03-20T16:33:03.444766Z",
     "iopub.status.idle": "2024-03-20T16:33:03.451129Z",
     "shell.execute_reply": "2024-03-20T16:33:03.449958Z"
    },
    "papermill": {
     "duration": 0.040601,
     "end_time": "2024-03-20T16:33:03.453397",
     "exception": false,
     "start_time": "2024-03-20T16:33:03.412796",
     "status": "completed"
    },
    "tags": []
   },
   "outputs": [],
   "source": [
    "# preprocessing test_df\n",
    "#col=['ID', 'RecipeNumber', 'RecipeCode', 'RecipeName','UserID','UserName', 'UserReputation', 'CreationTimestamp', 'ReplyCount', \n",
    "     #'ThumbsUpCount', 'ThumbsDownCount',  'BestScore', 'Recipe_Review']\n",
    "#test_data = test_df[col]\n",
    "# ******************************************************************\n",
    "#test_data_num = test_data.select_dtypes(include='number')# data numerical columns\n",
    "#test_data_cat = test_data[['RecipeName','UserName']] # data categorical columns\n",
    "#test_data_text =test_data['Recipe_Review'] # data Textual\n",
    "#********************************************************************\n",
    "# numerical transformer\n",
    "#num_transformer = StandardScaler()\n",
    "#test_data_num_transformed = num_transformer.transform(test_data_num)\n",
    "#data_test_num = pd.DataFrame(test_data_num_transformed,columns= test_data_num.columns)\n",
    "#**********************************************************************\n",
    "# categorical Transformation\n",
    "#cat_transformer = OneHotEncoder(sparse_output=False,handle_unknown='ignore')\n",
    "#test_data_cat_transformed = cat_transformer.transform(test_data_cat)\n",
    "#features = cat_transformer.get_feature_names_out(test_data_cat.columns)\n",
    "#data_test_cat = pd.DataFrame(test_data_cat_transformed,columns=features)\n",
    "#data_test_cat.head(2)\n",
    "#************************************************************************\n",
    "#test_data_text = test_data_text.apply(clean_recipe_review)\n",
    "#test_data_text_transformed = text_transformer.transform(test_data_text)\n",
    "#features_name = text_transformer.get_feature_names_out()\n",
    "#data_test_text = pd.DataFrame(data=test_data_text_transformed.toarray(),columns=features_name)\n",
    "#data_test_text.shape\n",
    "#***********************************************************************\n",
    "#data_test = pd.concat([data_test_num,data_test_cat,data_test_text],axis=1)\n",
    "#data_test.shape"
   ]
  },
  {
   "cell_type": "code",
   "execution_count": 54,
   "id": "07b61022",
   "metadata": {
    "execution": {
     "iopub.execute_input": "2024-03-20T16:33:03.508640Z",
     "iopub.status.busy": "2024-03-20T16:33:03.508180Z",
     "iopub.status.idle": "2024-03-20T16:33:03.527491Z",
     "shell.execute_reply": "2024-03-20T16:33:03.526357Z"
    },
    "papermill": {
     "duration": 0.050744,
     "end_time": "2024-03-20T16:33:03.530355",
     "exception": false,
     "start_time": "2024-03-20T16:33:03.479611",
     "status": "completed"
    },
    "tags": []
   },
   "outputs": [],
   "source": [
    "train_X = train_df.drop((['Rating']),axis = 1)\n",
    "train_y = train_df['Rating']"
   ]
  },
  {
   "cell_type": "code",
   "execution_count": 55,
   "id": "854a4495",
   "metadata": {
    "execution": {
     "iopub.execute_input": "2024-03-20T16:33:03.586393Z",
     "iopub.status.busy": "2024-03-20T16:33:03.585793Z",
     "iopub.status.idle": "2024-03-20T16:33:03.599965Z",
     "shell.execute_reply": "2024-03-20T16:33:03.598751Z"
    },
    "papermill": {
     "duration": 0.045365,
     "end_time": "2024-03-20T16:33:03.602590",
     "exception": false,
     "start_time": "2024-03-20T16:33:03.557225",
     "status": "completed"
    },
    "tags": []
   },
   "outputs": [],
   "source": [
    "train_X['Recipe_Review'] = train_X['Recipe_Review'].fillna('No Comments')\n",
    "test_df['Recipe_Review']=test_df['Recipe_Review'].fillna('No Comments')"
   ]
  },
  {
   "cell_type": "code",
   "execution_count": 56,
   "id": "982fadda",
   "metadata": {
    "execution": {
     "iopub.execute_input": "2024-03-20T16:33:03.657473Z",
     "iopub.status.busy": "2024-03-20T16:33:03.657090Z",
     "iopub.status.idle": "2024-03-20T16:33:08.576204Z",
     "shell.execute_reply": "2024-03-20T16:33:08.575032Z"
    },
    "papermill": {
     "duration": 4.949645,
     "end_time": "2024-03-20T16:33:08.578918",
     "exception": false,
     "start_time": "2024-03-20T16:33:03.629273",
     "status": "completed"
    },
    "tags": []
   },
   "outputs": [],
   "source": [
    "# Define preprocessing pipelines for numerical, categorical, and text features\n",
    "numeric_pipeline = Pipeline([('ss', StandardScaler())])\n",
    "text_pipeline = Pipeline([('tfidf', TfidfVectorizer(max_features=80000, ngram_range=(1, 3)))])\n",
    "\n",
    "preprocessor = ColumnTransformer(\n",
    "    transformers=[\n",
    "        ('num', numeric_pipeline, train_X.select_dtypes(include='number').columns),\n",
    "        ('cat', OneHotEncoder(handle_unknown='ignore'), ['RecipeName', 'UserName']),  # Assuming these are the object columns\n",
    "        ('text', text_pipeline, 'Recipe_Review')\n",
    "    ])\n",
    "\n",
    "# Fit and transform preprocessing steps\n",
    "train_X_transformed = preprocessor.fit_transform(train_X)\n",
    "test_df_transformed = preprocessor.transform(test_df)\n"
   ]
  },
  {
   "cell_type": "code",
   "execution_count": 57,
   "id": "4227bc4b",
   "metadata": {
    "execution": {
     "iopub.execute_input": "2024-03-20T16:33:08.633814Z",
     "iopub.status.busy": "2024-03-20T16:33:08.633039Z",
     "iopub.status.idle": "2024-03-20T16:33:50.917844Z",
     "shell.execute_reply": "2024-03-20T16:33:50.916427Z"
    },
    "papermill": {
     "duration": 42.336402,
     "end_time": "2024-03-20T16:33:50.941761",
     "exception": false,
     "start_time": "2024-03-20T16:33:08.605359",
     "status": "completed"
    },
    "tags": []
   },
   "outputs": [
    {
     "name": "stdout",
     "output_type": "stream",
     "text": [
      "[LightGBM] [Info] Auto-choosing col-wise multi-threading, the overhead of testing was 0.491223 seconds.\n",
      "You can set `force_col_wise=true` to remove the overhead.\n",
      "[LightGBM] [Info] Total Bins 175607\n",
      "[LightGBM] [Info] Number of data points in the train set: 13636, number of used features: 5921\n",
      "[LightGBM] [Info] Start training from score -2.372123\n",
      "[LightGBM] [Info] Start training from score -4.173361\n",
      "[LightGBM] [Info] Start training from score -4.361413\n",
      "[LightGBM] [Info] Start training from score -3.612386\n",
      "[LightGBM] [Info] Start training from score -2.396796\n",
      "[LightGBM] [Info] Start training from score -0.273700\n"
     ]
    },
    {
     "data": {
      "text/html": [
       "<style>#sk-container-id-1 {color: black;background-color: white;}#sk-container-id-1 pre{padding: 0;}#sk-container-id-1 div.sk-toggleable {background-color: white;}#sk-container-id-1 label.sk-toggleable__label {cursor: pointer;display: block;width: 100%;margin-bottom: 0;padding: 0.3em;box-sizing: border-box;text-align: center;}#sk-container-id-1 label.sk-toggleable__label-arrow:before {content: \"▸\";float: left;margin-right: 0.25em;color: #696969;}#sk-container-id-1 label.sk-toggleable__label-arrow:hover:before {color: black;}#sk-container-id-1 div.sk-estimator:hover label.sk-toggleable__label-arrow:before {color: black;}#sk-container-id-1 div.sk-toggleable__content {max-height: 0;max-width: 0;overflow: hidden;text-align: left;background-color: #f0f8ff;}#sk-container-id-1 div.sk-toggleable__content pre {margin: 0.2em;color: black;border-radius: 0.25em;background-color: #f0f8ff;}#sk-container-id-1 input.sk-toggleable__control:checked~div.sk-toggleable__content {max-height: 200px;max-width: 100%;overflow: auto;}#sk-container-id-1 input.sk-toggleable__control:checked~label.sk-toggleable__label-arrow:before {content: \"▾\";}#sk-container-id-1 div.sk-estimator input.sk-toggleable__control:checked~label.sk-toggleable__label {background-color: #d4ebff;}#sk-container-id-1 div.sk-label input.sk-toggleable__control:checked~label.sk-toggleable__label {background-color: #d4ebff;}#sk-container-id-1 input.sk-hidden--visually {border: 0;clip: rect(1px 1px 1px 1px);clip: rect(1px, 1px, 1px, 1px);height: 1px;margin: -1px;overflow: hidden;padding: 0;position: absolute;width: 1px;}#sk-container-id-1 div.sk-estimator {font-family: monospace;background-color: #f0f8ff;border: 1px dotted black;border-radius: 0.25em;box-sizing: border-box;margin-bottom: 0.5em;}#sk-container-id-1 div.sk-estimator:hover {background-color: #d4ebff;}#sk-container-id-1 div.sk-parallel-item::after {content: \"\";width: 100%;border-bottom: 1px solid gray;flex-grow: 1;}#sk-container-id-1 div.sk-label:hover label.sk-toggleable__label {background-color: #d4ebff;}#sk-container-id-1 div.sk-serial::before {content: \"\";position: absolute;border-left: 1px solid gray;box-sizing: border-box;top: 0;bottom: 0;left: 50%;z-index: 0;}#sk-container-id-1 div.sk-serial {display: flex;flex-direction: column;align-items: center;background-color: white;padding-right: 0.2em;padding-left: 0.2em;position: relative;}#sk-container-id-1 div.sk-item {position: relative;z-index: 1;}#sk-container-id-1 div.sk-parallel {display: flex;align-items: stretch;justify-content: center;background-color: white;position: relative;}#sk-container-id-1 div.sk-item::before, #sk-container-id-1 div.sk-parallel-item::before {content: \"\";position: absolute;border-left: 1px solid gray;box-sizing: border-box;top: 0;bottom: 0;left: 50%;z-index: -1;}#sk-container-id-1 div.sk-parallel-item {display: flex;flex-direction: column;z-index: 1;position: relative;background-color: white;}#sk-container-id-1 div.sk-parallel-item:first-child::after {align-self: flex-end;width: 50%;}#sk-container-id-1 div.sk-parallel-item:last-child::after {align-self: flex-start;width: 50%;}#sk-container-id-1 div.sk-parallel-item:only-child::after {width: 0;}#sk-container-id-1 div.sk-dashed-wrapped {border: 1px dashed gray;margin: 0 0.4em 0.5em 0.4em;box-sizing: border-box;padding-bottom: 0.4em;background-color: white;}#sk-container-id-1 div.sk-label label {font-family: monospace;font-weight: bold;display: inline-block;line-height: 1.2em;}#sk-container-id-1 div.sk-label-container {text-align: center;}#sk-container-id-1 div.sk-container {/* jupyter's `normalize.less` sets `[hidden] { display: none; }` but bootstrap.min.css set `[hidden] { display: none !important; }` so we also need the `!important` here to be able to override the default hidden behavior on the sphinx rendered scikit-learn.org. See: https://github.com/scikit-learn/scikit-learn/issues/21755 */display: inline-block !important;position: relative;}#sk-container-id-1 div.sk-text-repr-fallback {display: none;}</style><div id=\"sk-container-id-1\" class=\"sk-top-container\"><div class=\"sk-text-repr-fallback\"><pre>LGBMClassifier(num_class=6, objective=&#x27;multiclass&#x27;, random_state=42)</pre><b>In a Jupyter environment, please rerun this cell to show the HTML representation or trust the notebook. <br />On GitHub, the HTML representation is unable to render, please try loading this page with nbviewer.org.</b></div><div class=\"sk-container\" hidden><div class=\"sk-item\"><div class=\"sk-estimator sk-toggleable\"><input class=\"sk-toggleable__control sk-hidden--visually\" id=\"sk-estimator-id-1\" type=\"checkbox\" checked><label for=\"sk-estimator-id-1\" class=\"sk-toggleable__label sk-toggleable__label-arrow\">LGBMClassifier</label><div class=\"sk-toggleable__content\"><pre>LGBMClassifier(num_class=6, objective=&#x27;multiclass&#x27;, random_state=42)</pre></div></div></div></div></div>"
      ],
      "text/plain": [
       "LGBMClassifier(num_class=6, objective='multiclass', random_state=42)"
      ]
     },
     "execution_count": 57,
     "metadata": {},
     "output_type": "execute_result"
    }
   ],
   "source": [
    "model = LGBMClassifier(objective='multiclass', num_class=len(train_y.unique()), random_state=42)\n",
    "model.fit(train_X_transformed, train_y)"
   ]
  },
  {
   "cell_type": "code",
   "execution_count": 58,
   "id": "fe55455a",
   "metadata": {
    "execution": {
     "iopub.execute_input": "2024-03-20T16:33:50.997509Z",
     "iopub.status.busy": "2024-03-20T16:33:50.997105Z",
     "iopub.status.idle": "2024-03-20T16:33:51.002420Z",
     "shell.execute_reply": "2024-03-20T16:33:51.000954Z"
    },
    "papermill": {
     "duration": 0.036357,
     "end_time": "2024-03-20T16:33:51.005540",
     "exception": false,
     "start_time": "2024-03-20T16:33:50.969183",
     "status": "completed"
    },
    "tags": []
   },
   "outputs": [],
   "source": [
    "#dtest = xgb.DMatrix(data_test)"
   ]
  },
  {
   "cell_type": "code",
   "execution_count": 59,
   "id": "2d476da7",
   "metadata": {
    "execution": {
     "iopub.execute_input": "2024-03-20T16:33:51.060431Z",
     "iopub.status.busy": "2024-03-20T16:33:51.059992Z",
     "iopub.status.idle": "2024-03-20T16:33:51.064965Z",
     "shell.execute_reply": "2024-03-20T16:33:51.063733Z"
    },
    "papermill": {
     "duration": 0.035258,
     "end_time": "2024-03-20T16:33:51.067395",
     "exception": false,
     "start_time": "2024-03-20T16:33:51.032137",
     "status": "completed"
    },
    "tags": []
   },
   "outputs": [],
   "source": [
    "#sanity check\n",
    "#X_train_df_encoded.shape,y_train_df.shape,data_test.shape"
   ]
  },
  {
   "cell_type": "code",
   "execution_count": 60,
   "id": "9f9c21c1",
   "metadata": {
    "execution": {
     "iopub.execute_input": "2024-03-20T16:33:51.122286Z",
     "iopub.status.busy": "2024-03-20T16:33:51.121549Z",
     "iopub.status.idle": "2024-03-20T16:33:51.126380Z",
     "shell.execute_reply": "2024-03-20T16:33:51.125401Z"
    },
    "papermill": {
     "duration": 0.034869,
     "end_time": "2024-03-20T16:33:51.128561",
     "exception": false,
     "start_time": "2024-03-20T16:33:51.093692",
     "status": "completed"
    },
    "tags": []
   },
   "outputs": [],
   "source": [
    "#clf=XGBClassifier(random_state=7)\n",
    "#clf.fit(X_train_df_encoded,y_train_df)"
   ]
  },
  {
   "cell_type": "code",
   "execution_count": 61,
   "id": "049c6395",
   "metadata": {
    "execution": {
     "iopub.execute_input": "2024-03-20T16:33:51.183739Z",
     "iopub.status.busy": "2024-03-20T16:33:51.182797Z",
     "iopub.status.idle": "2024-03-20T16:33:51.537552Z",
     "shell.execute_reply": "2024-03-20T16:33:51.536493Z"
    },
    "papermill": {
     "duration": 0.384851,
     "end_time": "2024-03-20T16:33:51.539883",
     "exception": false,
     "start_time": "2024-03-20T16:33:51.155032",
     "status": "completed"
    },
    "tags": []
   },
   "outputs": [
    {
     "data": {
      "text/plain": [
       "4546"
      ]
     },
     "execution_count": 61,
     "metadata": {},
     "output_type": "execute_result"
    }
   ],
   "source": [
    "prediction = model.predict(test_df_transformed)\n",
    "len(prediction)"
   ]
  },
  {
   "cell_type": "code",
   "execution_count": 62,
   "id": "32321b70",
   "metadata": {
    "execution": {
     "iopub.execute_input": "2024-03-20T16:33:51.595845Z",
     "iopub.status.busy": "2024-03-20T16:33:51.595083Z",
     "iopub.status.idle": "2024-03-20T16:33:51.600123Z",
     "shell.execute_reply": "2024-03-20T16:33:51.598733Z"
    },
    "papermill": {
     "duration": 0.03649,
     "end_time": "2024-03-20T16:33:51.602865",
     "exception": false,
     "start_time": "2024-03-20T16:33:51.566375",
     "status": "completed"
    },
    "tags": []
   },
   "outputs": [],
   "source": [
    "#prediction"
   ]
  },
  {
   "cell_type": "code",
   "execution_count": 63,
   "id": "624e86bf",
   "metadata": {
    "execution": {
     "iopub.execute_input": "2024-03-20T16:33:51.659864Z",
     "iopub.status.busy": "2024-03-20T16:33:51.658973Z",
     "iopub.status.idle": "2024-03-20T16:33:51.683882Z",
     "shell.execute_reply": "2024-03-20T16:33:51.682636Z"
    },
    "papermill": {
     "duration": 0.056738,
     "end_time": "2024-03-20T16:33:51.686928",
     "exception": false,
     "start_time": "2024-03-20T16:33:51.630190",
     "status": "completed"
    },
    "tags": []
   },
   "outputs": [],
   "source": [
    "submission = pd.DataFrame(columns=['ID', 'Rating'])\n",
    "submission['ID']= [i for i in range(1,4547)]\n",
    "submission['Rating']= prediction\n",
    "submission.to_csv('submission.csv',index=False)"
   ]
  }
 ],
 "metadata": {
  "kaggle": {
   "accelerator": "none",
   "dataSources": [
    {
     "databundleVersionId": 7452256,
     "sourceId": 67079,
     "sourceType": "competition"
    }
   ],
   "dockerImageVersionId": 30646,
   "isGpuEnabled": false,
   "isInternetEnabled": true,
   "language": "python",
   "sourceType": "notebook"
  },
  "kernelspec": {
   "display_name": "Python 3",
   "language": "python",
   "name": "python3"
  },
  "language_info": {
   "codemirror_mode": {
    "name": "ipython",
    "version": 3
   },
   "file_extension": ".py",
   "mimetype": "text/x-python",
   "name": "python",
   "nbconvert_exporter": "python",
   "pygments_lexer": "ipython3",
   "version": "3.10.13"
  },
  "papermill": {
   "default_parameters": {},
   "duration": 62.975805,
   "end_time": "2024-03-20T16:33:52.636885",
   "environment_variables": {},
   "exception": null,
   "input_path": "__notebook__.ipynb",
   "output_path": "__notebook__.ipynb",
   "parameters": {},
   "start_time": "2024-03-20T16:32:49.661080",
   "version": "2.5.0"
  }
 },
 "nbformat": 4,
 "nbformat_minor": 5
}

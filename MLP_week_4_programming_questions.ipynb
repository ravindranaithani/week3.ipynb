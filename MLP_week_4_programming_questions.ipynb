{
  "nbformat": 4,
  "nbformat_minor": 0,
  "metadata": {
    "colab": {
      "provenance": [],
      "include_colab_link": true
    },
    "kernelspec": {
      "name": "python3",
      "display_name": "Python 3"
    },
    "language_info": {
      "name": "python"
    }
  },
  "cells": [
    {
      "cell_type": "markdown",
      "metadata": {
        "id": "view-in-github",
        "colab_type": "text"
      },
      "source": [
        "<a href=\"https://colab.research.google.com/github/ravindranaithani/week3.ipynb/blob/main/MLP_week_4_programming_questions.ipynb\" target=\"_parent\"><img src=\"https://colab.research.google.com/assets/colab-badge.svg\" alt=\"Open In Colab\"/></a>"
      ]
    },
    {
      "cell_type": "markdown",
      "source": [
        "#Question 1- Practice\n",
        "\n",
        "\n",
        "Write the function `compute_explained_variance(y_true, y_pred)` for calculating the explained variance score for a linear regression dataset\n",
        "Here `y_true` is the true (actual) label and `y_pred` is the predicted label. The function should return the explained variance score`evs`.\n",
        "Consider,\n",
        "``\n",
        "y_true = [7, 4, 9, 4] and\n",
        "y_pred = [8, 7, 12, 5]\n",
        "``\n",
        "For these labels, what is the output of the function 'compute_explained_variance'? (Enter your answer in four decimal places)\n",
        "\n",
        "(NAT)\n",
        "\n",
        "**Answer: 0.7777 (Range: 0.7-0.8)**"
      ],
      "metadata": {
        "id": "rMYoc1Y1bFs7"
      }
    },
    {
      "cell_type": "markdown",
      "source": [
        "**Solution**"
      ],
      "metadata": {
        "id": "69-14N_6Hn0U"
      }
    },
    {
      "cell_type": "code",
      "source": [
        "def compute_explained_variance(y_true, y_pred):\n",
        "  from sklearn.metrics import explained_variance_score\n",
        "  evs=explained_variance_score(y_true, y_pred)\n",
        "  return evs"
      ],
      "metadata": {
        "id": "QUBl_uzeHQQT"
      },
      "execution_count": null,
      "outputs": []
    },
    {
      "cell_type": "code",
      "source": [
        "from sklearn.metrics import explained_variance_score\n",
        "y_true = [7, 4, 9, 4]\n",
        "y_pred = [8, 7, 12, 5]\n",
        "print(compute_explained_variance(y_true, y_pred))"
      ],
      "metadata": {
        "colab": {
          "base_uri": "https://localhost:8080/"
        },
        "id": "6ICbC4S1HTcr",
        "outputId": "c360ef03-6057-40f1-eae9-c89151afb0cb"
      },
      "execution_count": null,
      "outputs": [
        {
          "output_type": "stream",
          "name": "stdout",
          "text": [
            "0.7777777777777778\n"
          ]
        }
      ]
    },
    {
      "cell_type": "markdown",
      "source": [
        "# Question 2- Practice\n",
        "Write a function compute_score(X_train, y_train, X_test, y_test) to compute the score of SGDRegressor for predicting the house price of\n",
        "California Housing dataset.\n",
        "Write your code based on the following keypoints:\n",
        "- Split the California housing dataset into train and test set with 70:30 ratio and `random_state = 1`\n",
        "- Import StandardScaler for scaling X_train and X_test to X_train_norm and X_test_norm `with_mean = True` and `with_std = True`\n",
        "- Import SGDRegressor as 'model' with hyperparamters `loss` as 'squared_error', `penalty` as 'l1' and `alpha` as 0.01 and `random_state = 1`\n",
        "- Train the 'model' and compute the 'score' on test data\n",
        "\n",
        "Enter the value of the 'score' computed from the function 'compute_score'. (Enter your answer in four decimal places)\n",
        "\n",
        "(NAT)\n",
        "\n",
        "**Answer: 0.5951 (Range: 0.59 - 0.6)**"
      ],
      "metadata": {
        "id": "7e0-aOkCm_Hj"
      }
    },
    {
      "cell_type": "code",
      "source": [
        "import pandas as pd\n",
        "from sklearn.datasets import fetch_california_housing\n",
        "from sklearn.model_selection import train_test_split\n",
        "from sklearn.preprocessing import StandardScaler\n",
        "from sklearn.linear_model import SGDRegressor"
      ],
      "metadata": {
        "id": "bfjasM4D7fHY"
      },
      "execution_count": 9,
      "outputs": []
    },
    {
      "cell_type": "code",
      "source": [
        "X,y = fetch_california_housing(return_X_y=True,as_frame= True)\n",
        "X.shape,y.shape"
      ],
      "metadata": {
        "colab": {
          "base_uri": "https://localhost:8080/"
        },
        "id": "jcHAj3IF75A-",
        "outputId": "06631442-84da-4eac-87be-8fd4eff731b4"
      },
      "execution_count": 10,
      "outputs": [
        {
          "output_type": "execute_result",
          "data": {
            "text/plain": [
              "((20640, 8), (20640,))"
            ]
          },
          "metadata": {},
          "execution_count": 10
        }
      ]
    },
    {
      "cell_type": "code",
      "source": [
        "X_train,X_test,y_train,y_test = train_test_split(X,y,test_size=0.3,random_state =1)\n",
        "X_train.shape,y_train.shape,X_test.shape,y_test.shape"
      ],
      "metadata": {
        "colab": {
          "base_uri": "https://localhost:8080/"
        },
        "id": "MpXQ0XW58or5",
        "outputId": "de759304-6ed0-4749-fe27-f19b9314b9c7"
      },
      "execution_count": 11,
      "outputs": [
        {
          "output_type": "execute_result",
          "data": {
            "text/plain": [
              "((14448, 8), (14448,), (6192, 8), (6192,))"
            ]
          },
          "metadata": {},
          "execution_count": 11
        }
      ]
    },
    {
      "cell_type": "code",
      "source": [
        "reg = SGDRegressor(loss='squared_error',penalty ='l1',alpha = 0.01,random_state = 1)\n",
        "scaler = StandardScaler(with_mean= True,with_std = True)\n",
        "X_train_scaled = scaler.fit_transform(X_train)\n",
        "X_test_scaled = scaler.transform(X_test)"
      ],
      "metadata": {
        "id": "0r1qmT439TQU"
      },
      "execution_count": 13,
      "outputs": []
    },
    {
      "cell_type": "code",
      "source": [
        "reg.fit(X_train_scaled,y_train)\n",
        "reg.score(X_test_scaled,y_test)"
      ],
      "metadata": {
        "colab": {
          "base_uri": "https://localhost:8080/"
        },
        "id": "fQbPeVKg-aib",
        "outputId": "edd19e98-ad6f-4e66-8059-54adae750351"
      },
      "execution_count": 14,
      "outputs": [
        {
          "output_type": "execute_result",
          "data": {
            "text/plain": [
              "0.5951040704728553"
            ]
          },
          "metadata": {},
          "execution_count": 14
        }
      ]
    },
    {
      "cell_type": "markdown",
      "source": [
        "**Solution**"
      ],
      "metadata": {
        "id": "ej21Ud-XMyDz"
      }
    },
    {
      "cell_type": "code",
      "source": [
        "import numpy as np\n",
        "import sklearn\n",
        "\n",
        "from sklearn.datasets import fetch_california_housing\n",
        "housing = fetch_california_housing()\n",
        "\n",
        "from sklearn.model_selection import train_test_split\n",
        "X_train, X_test, y_train, y_test = train_test_split(housing.data, housing.target, test_size=0.3, random_state = 1)"
      ],
      "metadata": {
        "id": "2ESJOhxeRpSv"
      },
      "execution_count": null,
      "outputs": []
    },
    {
      "cell_type": "code",
      "source": [
        "def compute_score(X_train, y_train, X_test, y_test):\n",
        "\n",
        "  #Your code starts here:\n",
        "  from sklearn.preprocessing import StandardScaler\n",
        "  from sklearn.linear_model import SGDRegressor\n",
        "\n",
        "  scaler = StandardScaler(with_mean=True, with_std=True)\n",
        "  X_train_norm =scaler.fit_transform(X_train)\n",
        "  X_test_norm = scaler.transform(X_test)\n",
        "\n",
        "  model = SGDRegressor(loss = 'squared_error', penalty = 'l1', alpha = 0.01, random_state = 1 )\n",
        "  model.fit(X_train_norm,y_train)\n",
        "\n",
        "  score = model.score(X_test_norm, y_test)\n",
        "  return score\n",
        "  #Your code ends here\n",
        "  pass\n"
      ],
      "metadata": {
        "id": "tGdxK9bJnB2O"
      },
      "execution_count": null,
      "outputs": []
    },
    {
      "cell_type": "code",
      "source": [
        "score = compute_score(X_train, y_train, X_test, y_test)\n",
        "print(score)"
      ],
      "metadata": {
        "colab": {
          "base_uri": "https://localhost:8080/"
        },
        "id": "xsiyV1eqMiLC",
        "outputId": "f04246d9-66fd-4ce2-ed50-ced252701c4e"
      },
      "execution_count": null,
      "outputs": [
        {
          "output_type": "stream",
          "name": "stdout",
          "text": [
            "0.5951040704728554\n"
          ]
        }
      ]
    },
    {
      "cell_type": "markdown",
      "source": [],
      "metadata": {
        "id": "bX4YHXftOZCq"
      }
    },
    {
      "cell_type": "markdown",
      "source": [
        "#Question 1-Graded\n",
        "\n",
        "Write a function `k_fold_cv(X)` to run 2-fold cross validation repeated 2 times for the array `X = [[1, 2], [3, 4], [1, 2], [3, 4]]` which will return a concatenated array combining the training and testing dataset. Set `random_state=1` in your code. Which of the following options denote the concatenated array?\n",
        "\n",
        "\n",
        "(a) [0 2 1 3]\n",
        "\n",
        "(b) [1 0 3 2]\n",
        "\n",
        "(c) [2 3 0 1]\n",
        "\n",
        "(d) [1 3 1 2]\n",
        "\n",
        "(MCQ)\n",
        "**Option 1**"
      ],
      "metadata": {
        "id": "vMJXGfTpwQ4F"
      }
    },
    {
      "cell_type": "code",
      "source": [
        "from sklearn.model_selection import RepeatedKFold"
      ],
      "metadata": {
        "id": "0XSZlpUcHGcQ"
      },
      "execution_count": 23,
      "outputs": []
    },
    {
      "cell_type": "code",
      "source": [
        "rkf = RepeatedKFold(n_splits = 2 ,n_repeats = 2  ,random_state=1)\n",
        "split = 1\n",
        "for train,test in rkf.split(X):\n",
        "  print(f'split:{split},{train},{test}')\n",
        "  split +=1"
      ],
      "metadata": {
        "colab": {
          "base_uri": "https://localhost:8080/"
        },
        "id": "nOAv1Za9FeS7",
        "outputId": "389c5ccf-b9d2-4dc3-c29e-9996d0c0ab07"
      },
      "execution_count": 29,
      "outputs": [
        {
          "output_type": "stream",
          "name": "stdout",
          "text": [
            "split:1,[0 1],[2 3]\n",
            "split:2,[2 3],[0 1]\n",
            "split:3,[1 3],[0 2]\n",
            "split:4,[0 2],[1 3]\n"
          ]
        }
      ]
    },
    {
      "cell_type": "markdown",
      "source": [
        "**Solution**"
      ],
      "metadata": {
        "id": "r-foABwHdo2l"
      }
    },
    {
      "cell_type": "code",
      "source": [
        "import numpy as np\n",
        "import random\n",
        "from sklearn.model_selection import RepeatedKFold"
      ],
      "metadata": {
        "id": "pHhOkz8z3RBG"
      },
      "execution_count": 26,
      "outputs": []
    },
    {
      "cell_type": "code",
      "source": [
        "X = np.array([[1, 2], [3, 4], [1, 2], [3, 4]])\n",
        "\n",
        "def k_fold_cv(X,random_state):\n",
        "  ans = RepeatedKFold(n_splits=2, n_repeats=2, random_state=1)\n",
        "  split = 1\n",
        "  for train, test in ans.split(X):\n",
        "    print(\"split #%d, %s %s\" % (split, train, test))\n",
        "\n",
        "    split += 1\n",
        "  array1=np.append(train, test)\n",
        "  return array1\n",
        "pass\n",
        "EOP = str(k_fold_cv(X,random_state))\n",
        "print(EOP)\n",
        "\n"
      ],
      "metadata": {
        "id": "tEKFw-9k31DH"
      },
      "execution_count": null,
      "outputs": []
    },
    {
      "cell_type": "markdown",
      "source": [],
      "metadata": {
        "id": "a4FEO_j-fULf"
      }
    },
    {
      "cell_type": "markdown",
      "source": [
        "#Question 2- Graded\n",
        "\n",
        "Write a code to predict the house price of California Housing dataset using GridSearchCV.\n",
        "\n",
        "Write your code based on the following keypoints:\n",
        "- Split the California housing dataset into train and test set with 70:30 ratio with `random_state = 1`.\n",
        "- Import StandardScaler for scaling X_train and X_test to X_train_norm and X_test_norm `with_mean = True` and `with_std = True`\n",
        "- Import SGDRegressor with `random_state = 1`\n",
        "- Pass SGDRegressor through GridSearchCV\n",
        "- Hyperparamter tuning to be done over\n",
        "  - `loss` as 'squared_error' or 'huber'\n",
        "  - `penalty` as 'l1' or 'l2'\n",
        "  - `alpha` as 0.1, 0.01, 0.001\n",
        "  - maximum number of passes as [1000,2000,5000]\n",
        "- Cross Validation = 4\n",
        "- Train the 'model' and compute the 'score' on test data\n",
        "\n",
        "Question 1: Enter the value of the 'score'. (Enter your answer in four decimal places)\n",
        "\n",
        "(NAT) **Answer: 0.5951 (Range : 0.589-0.599)**\n",
        "\n",
        "Question 2: Enter the value of the best `alpha` obtained.\n",
        "\n",
        "(NAT) **Answer: 0.01**\n",
        "\n",
        "Question 3: Enter the value of the best maximum number of passes obtained.\n",
        "\n",
        "(NAT)  **Answer: 1000**"
      ],
      "metadata": {
        "id": "vXUeJCwUnVZB"
      }
    },
    {
      "cell_type": "code",
      "source": [
        "from sklearn.model_selection import GridSearchCV"
      ],
      "metadata": {
        "id": "IRzADxMzNmLW"
      },
      "execution_count": 30,
      "outputs": []
    },
    {
      "cell_type": "code",
      "source": [
        "sgd = SGDRegressor(random_state = 1)\n",
        "param_grid = {'loss':['squared_error','huber'],'penalty':['l1','l2'],\n",
        "              'alpha':[0.1,0.01,0.001],'max_iter':[1000,2000,5000]}\n",
        "sgd_model = GridSearchCV(sgd,param_grid,cv =4,return_train_score = True)"
      ],
      "metadata": {
        "id": "nDyWVtdvODjM"
      },
      "execution_count": 33,
      "outputs": []
    },
    {
      "cell_type": "code",
      "source": [
        "sgd_model.fit(X_train_scaled,y_train)"
      ],
      "metadata": {
        "colab": {
          "base_uri": "https://localhost:8080/",
          "height": 117
        },
        "id": "b-A_MQKnN56F",
        "outputId": "bbf1d1fa-5e3d-448a-9a91-8d2fcbf3d102"
      },
      "execution_count": 34,
      "outputs": [
        {
          "output_type": "execute_result",
          "data": {
            "text/plain": [
              "GridSearchCV(cv=4, estimator=SGDRegressor(random_state=1),\n",
              "             param_grid={'alpha': [0.1, 0.01, 0.001],\n",
              "                         'loss': ['squared_error', 'huber'],\n",
              "                         'max_iter': [1000, 2000, 5000],\n",
              "                         'penalty': ['l1', 'l2']},\n",
              "             return_train_score=True)"
            ],
            "text/html": [
              "<style>#sk-container-id-1 {color: black;background-color: white;}#sk-container-id-1 pre{padding: 0;}#sk-container-id-1 div.sk-toggleable {background-color: white;}#sk-container-id-1 label.sk-toggleable__label {cursor: pointer;display: block;width: 100%;margin-bottom: 0;padding: 0.3em;box-sizing: border-box;text-align: center;}#sk-container-id-1 label.sk-toggleable__label-arrow:before {content: \"▸\";float: left;margin-right: 0.25em;color: #696969;}#sk-container-id-1 label.sk-toggleable__label-arrow:hover:before {color: black;}#sk-container-id-1 div.sk-estimator:hover label.sk-toggleable__label-arrow:before {color: black;}#sk-container-id-1 div.sk-toggleable__content {max-height: 0;max-width: 0;overflow: hidden;text-align: left;background-color: #f0f8ff;}#sk-container-id-1 div.sk-toggleable__content pre {margin: 0.2em;color: black;border-radius: 0.25em;background-color: #f0f8ff;}#sk-container-id-1 input.sk-toggleable__control:checked~div.sk-toggleable__content {max-height: 200px;max-width: 100%;overflow: auto;}#sk-container-id-1 input.sk-toggleable__control:checked~label.sk-toggleable__label-arrow:before {content: \"▾\";}#sk-container-id-1 div.sk-estimator input.sk-toggleable__control:checked~label.sk-toggleable__label {background-color: #d4ebff;}#sk-container-id-1 div.sk-label input.sk-toggleable__control:checked~label.sk-toggleable__label {background-color: #d4ebff;}#sk-container-id-1 input.sk-hidden--visually {border: 0;clip: rect(1px 1px 1px 1px);clip: rect(1px, 1px, 1px, 1px);height: 1px;margin: -1px;overflow: hidden;padding: 0;position: absolute;width: 1px;}#sk-container-id-1 div.sk-estimator {font-family: monospace;background-color: #f0f8ff;border: 1px dotted black;border-radius: 0.25em;box-sizing: border-box;margin-bottom: 0.5em;}#sk-container-id-1 div.sk-estimator:hover {background-color: #d4ebff;}#sk-container-id-1 div.sk-parallel-item::after {content: \"\";width: 100%;border-bottom: 1px solid gray;flex-grow: 1;}#sk-container-id-1 div.sk-label:hover label.sk-toggleable__label {background-color: #d4ebff;}#sk-container-id-1 div.sk-serial::before {content: \"\";position: absolute;border-left: 1px solid gray;box-sizing: border-box;top: 0;bottom: 0;left: 50%;z-index: 0;}#sk-container-id-1 div.sk-serial {display: flex;flex-direction: column;align-items: center;background-color: white;padding-right: 0.2em;padding-left: 0.2em;position: relative;}#sk-container-id-1 div.sk-item {position: relative;z-index: 1;}#sk-container-id-1 div.sk-parallel {display: flex;align-items: stretch;justify-content: center;background-color: white;position: relative;}#sk-container-id-1 div.sk-item::before, #sk-container-id-1 div.sk-parallel-item::before {content: \"\";position: absolute;border-left: 1px solid gray;box-sizing: border-box;top: 0;bottom: 0;left: 50%;z-index: -1;}#sk-container-id-1 div.sk-parallel-item {display: flex;flex-direction: column;z-index: 1;position: relative;background-color: white;}#sk-container-id-1 div.sk-parallel-item:first-child::after {align-self: flex-end;width: 50%;}#sk-container-id-1 div.sk-parallel-item:last-child::after {align-self: flex-start;width: 50%;}#sk-container-id-1 div.sk-parallel-item:only-child::after {width: 0;}#sk-container-id-1 div.sk-dashed-wrapped {border: 1px dashed gray;margin: 0 0.4em 0.5em 0.4em;box-sizing: border-box;padding-bottom: 0.4em;background-color: white;}#sk-container-id-1 div.sk-label label {font-family: monospace;font-weight: bold;display: inline-block;line-height: 1.2em;}#sk-container-id-1 div.sk-label-container {text-align: center;}#sk-container-id-1 div.sk-container {/* jupyter's `normalize.less` sets `[hidden] { display: none; }` but bootstrap.min.css set `[hidden] { display: none !important; }` so we also need the `!important` here to be able to override the default hidden behavior on the sphinx rendered scikit-learn.org. See: https://github.com/scikit-learn/scikit-learn/issues/21755 */display: inline-block !important;position: relative;}#sk-container-id-1 div.sk-text-repr-fallback {display: none;}</style><div id=\"sk-container-id-1\" class=\"sk-top-container\"><div class=\"sk-text-repr-fallback\"><pre>GridSearchCV(cv=4, estimator=SGDRegressor(random_state=1),\n",
              "             param_grid={&#x27;alpha&#x27;: [0.1, 0.01, 0.001],\n",
              "                         &#x27;loss&#x27;: [&#x27;squared_error&#x27;, &#x27;huber&#x27;],\n",
              "                         &#x27;max_iter&#x27;: [1000, 2000, 5000],\n",
              "                         &#x27;penalty&#x27;: [&#x27;l1&#x27;, &#x27;l2&#x27;]},\n",
              "             return_train_score=True)</pre><b>In a Jupyter environment, please rerun this cell to show the HTML representation or trust the notebook. <br />On GitHub, the HTML representation is unable to render, please try loading this page with nbviewer.org.</b></div><div class=\"sk-container\" hidden><div class=\"sk-item sk-dashed-wrapped\"><div class=\"sk-label-container\"><div class=\"sk-label sk-toggleable\"><input class=\"sk-toggleable__control sk-hidden--visually\" id=\"sk-estimator-id-1\" type=\"checkbox\" ><label for=\"sk-estimator-id-1\" class=\"sk-toggleable__label sk-toggleable__label-arrow\">GridSearchCV</label><div class=\"sk-toggleable__content\"><pre>GridSearchCV(cv=4, estimator=SGDRegressor(random_state=1),\n",
              "             param_grid={&#x27;alpha&#x27;: [0.1, 0.01, 0.001],\n",
              "                         &#x27;loss&#x27;: [&#x27;squared_error&#x27;, &#x27;huber&#x27;],\n",
              "                         &#x27;max_iter&#x27;: [1000, 2000, 5000],\n",
              "                         &#x27;penalty&#x27;: [&#x27;l1&#x27;, &#x27;l2&#x27;]},\n",
              "             return_train_score=True)</pre></div></div></div><div class=\"sk-parallel\"><div class=\"sk-parallel-item\"><div class=\"sk-item\"><div class=\"sk-label-container\"><div class=\"sk-label sk-toggleable\"><input class=\"sk-toggleable__control sk-hidden--visually\" id=\"sk-estimator-id-2\" type=\"checkbox\" ><label for=\"sk-estimator-id-2\" class=\"sk-toggleable__label sk-toggleable__label-arrow\">estimator: SGDRegressor</label><div class=\"sk-toggleable__content\"><pre>SGDRegressor(random_state=1)</pre></div></div></div><div class=\"sk-serial\"><div class=\"sk-item\"><div class=\"sk-estimator sk-toggleable\"><input class=\"sk-toggleable__control sk-hidden--visually\" id=\"sk-estimator-id-3\" type=\"checkbox\" ><label for=\"sk-estimator-id-3\" class=\"sk-toggleable__label sk-toggleable__label-arrow\">SGDRegressor</label><div class=\"sk-toggleable__content\"><pre>SGDRegressor(random_state=1)</pre></div></div></div></div></div></div></div></div></div></div>"
            ]
          },
          "metadata": {},
          "execution_count": 34
        }
      ]
    },
    {
      "cell_type": "code",
      "source": [
        "sgd_model.score(X_test_scaled,y_test)"
      ],
      "metadata": {
        "colab": {
          "base_uri": "https://localhost:8080/"
        },
        "id": "TWjKTqFuQUMm",
        "outputId": "eaed32a8-110a-4a2f-80a1-68460cd9308e"
      },
      "execution_count": 35,
      "outputs": [
        {
          "output_type": "execute_result",
          "data": {
            "text/plain": [
              "0.5951040704728553"
            ]
          },
          "metadata": {},
          "execution_count": 35
        }
      ]
    },
    {
      "cell_type": "code",
      "source": [
        "sgd_model.best_params_"
      ],
      "metadata": {
        "colab": {
          "base_uri": "https://localhost:8080/"
        },
        "id": "--HhoT-VQgfk",
        "outputId": "48ddd22a-72ba-4cb8-a847-7eedb2f9126f"
      },
      "execution_count": 36,
      "outputs": [
        {
          "output_type": "execute_result",
          "data": {
            "text/plain": [
              "{'alpha': 0.01, 'loss': 'squared_error', 'max_iter': 1000, 'penalty': 'l1'}"
            ]
          },
          "metadata": {},
          "execution_count": 36
        }
      ]
    },
    {
      "cell_type": "code",
      "source": [
        "sgd_model.best_estimator_"
      ],
      "metadata": {
        "colab": {
          "base_uri": "https://localhost:8080/",
          "height": 75
        },
        "id": "z8cv2R-DRkUi",
        "outputId": "c8324156-bb12-4db8-e42f-4aec37cfbed5"
      },
      "execution_count": 37,
      "outputs": [
        {
          "output_type": "execute_result",
          "data": {
            "text/plain": [
              "SGDRegressor(alpha=0.01, penalty='l1', random_state=1)"
            ],
            "text/html": [
              "<style>#sk-container-id-2 {color: black;background-color: white;}#sk-container-id-2 pre{padding: 0;}#sk-container-id-2 div.sk-toggleable {background-color: white;}#sk-container-id-2 label.sk-toggleable__label {cursor: pointer;display: block;width: 100%;margin-bottom: 0;padding: 0.3em;box-sizing: border-box;text-align: center;}#sk-container-id-2 label.sk-toggleable__label-arrow:before {content: \"▸\";float: left;margin-right: 0.25em;color: #696969;}#sk-container-id-2 label.sk-toggleable__label-arrow:hover:before {color: black;}#sk-container-id-2 div.sk-estimator:hover label.sk-toggleable__label-arrow:before {color: black;}#sk-container-id-2 div.sk-toggleable__content {max-height: 0;max-width: 0;overflow: hidden;text-align: left;background-color: #f0f8ff;}#sk-container-id-2 div.sk-toggleable__content pre {margin: 0.2em;color: black;border-radius: 0.25em;background-color: #f0f8ff;}#sk-container-id-2 input.sk-toggleable__control:checked~div.sk-toggleable__content {max-height: 200px;max-width: 100%;overflow: auto;}#sk-container-id-2 input.sk-toggleable__control:checked~label.sk-toggleable__label-arrow:before {content: \"▾\";}#sk-container-id-2 div.sk-estimator input.sk-toggleable__control:checked~label.sk-toggleable__label {background-color: #d4ebff;}#sk-container-id-2 div.sk-label input.sk-toggleable__control:checked~label.sk-toggleable__label {background-color: #d4ebff;}#sk-container-id-2 input.sk-hidden--visually {border: 0;clip: rect(1px 1px 1px 1px);clip: rect(1px, 1px, 1px, 1px);height: 1px;margin: -1px;overflow: hidden;padding: 0;position: absolute;width: 1px;}#sk-container-id-2 div.sk-estimator {font-family: monospace;background-color: #f0f8ff;border: 1px dotted black;border-radius: 0.25em;box-sizing: border-box;margin-bottom: 0.5em;}#sk-container-id-2 div.sk-estimator:hover {background-color: #d4ebff;}#sk-container-id-2 div.sk-parallel-item::after {content: \"\";width: 100%;border-bottom: 1px solid gray;flex-grow: 1;}#sk-container-id-2 div.sk-label:hover label.sk-toggleable__label {background-color: #d4ebff;}#sk-container-id-2 div.sk-serial::before {content: \"\";position: absolute;border-left: 1px solid gray;box-sizing: border-box;top: 0;bottom: 0;left: 50%;z-index: 0;}#sk-container-id-2 div.sk-serial {display: flex;flex-direction: column;align-items: center;background-color: white;padding-right: 0.2em;padding-left: 0.2em;position: relative;}#sk-container-id-2 div.sk-item {position: relative;z-index: 1;}#sk-container-id-2 div.sk-parallel {display: flex;align-items: stretch;justify-content: center;background-color: white;position: relative;}#sk-container-id-2 div.sk-item::before, #sk-container-id-2 div.sk-parallel-item::before {content: \"\";position: absolute;border-left: 1px solid gray;box-sizing: border-box;top: 0;bottom: 0;left: 50%;z-index: -1;}#sk-container-id-2 div.sk-parallel-item {display: flex;flex-direction: column;z-index: 1;position: relative;background-color: white;}#sk-container-id-2 div.sk-parallel-item:first-child::after {align-self: flex-end;width: 50%;}#sk-container-id-2 div.sk-parallel-item:last-child::after {align-self: flex-start;width: 50%;}#sk-container-id-2 div.sk-parallel-item:only-child::after {width: 0;}#sk-container-id-2 div.sk-dashed-wrapped {border: 1px dashed gray;margin: 0 0.4em 0.5em 0.4em;box-sizing: border-box;padding-bottom: 0.4em;background-color: white;}#sk-container-id-2 div.sk-label label {font-family: monospace;font-weight: bold;display: inline-block;line-height: 1.2em;}#sk-container-id-2 div.sk-label-container {text-align: center;}#sk-container-id-2 div.sk-container {/* jupyter's `normalize.less` sets `[hidden] { display: none; }` but bootstrap.min.css set `[hidden] { display: none !important; }` so we also need the `!important` here to be able to override the default hidden behavior on the sphinx rendered scikit-learn.org. See: https://github.com/scikit-learn/scikit-learn/issues/21755 */display: inline-block !important;position: relative;}#sk-container-id-2 div.sk-text-repr-fallback {display: none;}</style><div id=\"sk-container-id-2\" class=\"sk-top-container\"><div class=\"sk-text-repr-fallback\"><pre>SGDRegressor(alpha=0.01, penalty=&#x27;l1&#x27;, random_state=1)</pre><b>In a Jupyter environment, please rerun this cell to show the HTML representation or trust the notebook. <br />On GitHub, the HTML representation is unable to render, please try loading this page with nbviewer.org.</b></div><div class=\"sk-container\" hidden><div class=\"sk-item\"><div class=\"sk-estimator sk-toggleable\"><input class=\"sk-toggleable__control sk-hidden--visually\" id=\"sk-estimator-id-4\" type=\"checkbox\" checked><label for=\"sk-estimator-id-4\" class=\"sk-toggleable__label sk-toggleable__label-arrow\">SGDRegressor</label><div class=\"sk-toggleable__content\"><pre>SGDRegressor(alpha=0.01, penalty=&#x27;l1&#x27;, random_state=1)</pre></div></div></div></div></div>"
            ]
          },
          "metadata": {},
          "execution_count": 37
        }
      ]
    },
    {
      "cell_type": "code",
      "source": [
        "sgd_model.best_score_"
      ],
      "metadata": {
        "colab": {
          "base_uri": "https://localhost:8080/"
        },
        "id": "VVwRMrZwRv1K",
        "outputId": "1deb2317-0d2e-438a-9c08-0af53b52f680"
      },
      "execution_count": 38,
      "outputs": [
        {
          "output_type": "execute_result",
          "data": {
            "text/plain": [
              "0.5940759016568921"
            ]
          },
          "metadata": {},
          "execution_count": 38
        }
      ]
    },
    {
      "cell_type": "code",
      "source": [
        "sgd_model.cv_results_"
      ],
      "metadata": {
        "colab": {
          "base_uri": "https://localhost:8080/"
        },
        "id": "7Wq2E5_SR5Rr",
        "outputId": "f29c8447-b957-4d4f-fa6c-f2b30925bc0f"
      },
      "execution_count": 39,
      "outputs": [
        {
          "output_type": "execute_result",
          "data": {
            "text/plain": [
              "{'mean_fit_time': array([0.06540275, 0.04826838, 0.06767708, 0.06208426, 0.05329585,\n",
              "        0.05471921, 0.08168429, 0.06653172, 0.08697122, 0.03320163,\n",
              "        0.04619777, 0.03942287, 0.0448516 , 0.02791411, 0.04057527,\n",
              "        0.02662349, 0.03311467, 0.02125823, 0.0271889 , 0.01832783,\n",
              "        0.02882713, 0.01825917, 0.02831638, 0.01850826, 0.03030169,\n",
              "        0.0232957 , 0.02928793, 0.02129501, 0.02928168, 0.02210081,\n",
              "        0.02520567, 0.01903886, 0.02516305, 0.01930034, 0.02540648,\n",
              "        0.02206677]),\n",
              " 'std_fit_time': array([1.69896364e-02, 2.24695649e-02, 8.31745693e-03, 1.00557382e-02,\n",
              "        1.47799995e-02, 1.45485066e-02, 1.05263457e-02, 1.36853479e-02,\n",
              "        2.59400552e-02, 1.17844142e-02, 8.66994576e-03, 5.38621188e-03,\n",
              "        1.62863725e-02, 1.11360445e-02, 1.45380465e-03, 8.52737554e-03,\n",
              "        4.14696437e-03, 4.66802466e-03, 4.02364465e-05, 1.57423664e-04,\n",
              "        1.65092528e-03, 1.54433921e-04, 1.20650261e-03, 1.76377496e-04,\n",
              "        7.39322838e-03, 2.24496966e-03, 7.06539053e-03, 4.60749242e-03,\n",
              "        7.16063430e-03, 5.26063392e-03, 4.07090085e-04, 5.96858125e-04,\n",
              "        1.49285875e-04, 1.21002635e-03, 2.96097758e-04, 6.27405845e-03]),\n",
              " 'mean_score_time': array([0.00752521, 0.00458407, 0.0058049 , 0.0045895 , 0.00603509,\n",
              "        0.00436139, 0.00528198, 0.00411719, 0.00404221, 0.00115418,\n",
              "        0.00247782, 0.0049994 , 0.00348163, 0.00343287, 0.00122184,\n",
              "        0.00125366, 0.0009281 , 0.00076914, 0.00076133, 0.00078964,\n",
              "        0.00080073, 0.00078565, 0.00087601, 0.00094008, 0.00098366,\n",
              "        0.00211656, 0.00084925, 0.000772  , 0.00081432, 0.00078297,\n",
              "        0.00084949, 0.0008167 , 0.000808  , 0.00078779, 0.00095403,\n",
              "        0.00082511]),\n",
              " 'std_score_time': array([3.61642327e-03, 2.64532359e-03, 5.20819154e-03, 3.13379779e-03,\n",
              "        3.97036958e-03, 3.02889930e-03, 1.72614185e-03, 1.97839422e-03,\n",
              "        1.71910007e-03, 3.67871369e-04, 1.30071632e-03, 2.99061484e-03,\n",
              "        1.59256994e-03, 2.27845914e-03, 2.14135483e-04, 4.36653307e-04,\n",
              "        2.28412737e-04, 6.35956701e-06, 8.25454394e-06, 4.18021954e-05,\n",
              "        3.38161687e-05, 2.36457718e-05, 4.49048514e-05, 1.69342072e-04,\n",
              "        9.88799739e-05, 2.11568748e-03, 1.04918939e-04, 2.49001926e-05,\n",
              "        4.47711433e-05, 9.24006575e-06, 8.61224210e-05, 3.89559105e-05,\n",
              "        3.84929731e-05, 2.85721441e-05, 1.09872493e-04, 5.68152962e-05]),\n",
              " 'param_alpha': masked_array(data=[0.1, 0.1, 0.1, 0.1, 0.1, 0.1, 0.1, 0.1, 0.1, 0.1, 0.1,\n",
              "                    0.1, 0.01, 0.01, 0.01, 0.01, 0.01, 0.01, 0.01, 0.01,\n",
              "                    0.01, 0.01, 0.01, 0.01, 0.001, 0.001, 0.001, 0.001,\n",
              "                    0.001, 0.001, 0.001, 0.001, 0.001, 0.001, 0.001, 0.001],\n",
              "              mask=[False, False, False, False, False, False, False, False,\n",
              "                    False, False, False, False, False, False, False, False,\n",
              "                    False, False, False, False, False, False, False, False,\n",
              "                    False, False, False, False, False, False, False, False,\n",
              "                    False, False, False, False],\n",
              "        fill_value='?',\n",
              "             dtype=object),\n",
              " 'param_loss': masked_array(data=['squared_error', 'squared_error', 'squared_error',\n",
              "                    'squared_error', 'squared_error', 'squared_error',\n",
              "                    'huber', 'huber', 'huber', 'huber', 'huber', 'huber',\n",
              "                    'squared_error', 'squared_error', 'squared_error',\n",
              "                    'squared_error', 'squared_error', 'squared_error',\n",
              "                    'huber', 'huber', 'huber', 'huber', 'huber', 'huber',\n",
              "                    'squared_error', 'squared_error', 'squared_error',\n",
              "                    'squared_error', 'squared_error', 'squared_error',\n",
              "                    'huber', 'huber', 'huber', 'huber', 'huber', 'huber'],\n",
              "              mask=[False, False, False, False, False, False, False, False,\n",
              "                    False, False, False, False, False, False, False, False,\n",
              "                    False, False, False, False, False, False, False, False,\n",
              "                    False, False, False, False, False, False, False, False,\n",
              "                    False, False, False, False],\n",
              "        fill_value='?',\n",
              "             dtype=object),\n",
              " 'param_max_iter': masked_array(data=[1000, 1000, 2000, 2000, 5000, 5000, 1000, 1000, 2000,\n",
              "                    2000, 5000, 5000, 1000, 1000, 2000, 2000, 5000, 5000,\n",
              "                    1000, 1000, 2000, 2000, 5000, 5000, 1000, 1000, 2000,\n",
              "                    2000, 5000, 5000, 1000, 1000, 2000, 2000, 5000, 5000],\n",
              "              mask=[False, False, False, False, False, False, False, False,\n",
              "                    False, False, False, False, False, False, False, False,\n",
              "                    False, False, False, False, False, False, False, False,\n",
              "                    False, False, False, False, False, False, False, False,\n",
              "                    False, False, False, False],\n",
              "        fill_value='?',\n",
              "             dtype=object),\n",
              " 'param_penalty': masked_array(data=['l1', 'l2', 'l1', 'l2', 'l1', 'l2', 'l1', 'l2', 'l1',\n",
              "                    'l2', 'l1', 'l2', 'l1', 'l2', 'l1', 'l2', 'l1', 'l2',\n",
              "                    'l1', 'l2', 'l1', 'l2', 'l1', 'l2', 'l1', 'l2', 'l1',\n",
              "                    'l2', 'l1', 'l2', 'l1', 'l2', 'l1', 'l2', 'l1', 'l2'],\n",
              "              mask=[False, False, False, False, False, False, False, False,\n",
              "                    False, False, False, False, False, False, False, False,\n",
              "                    False, False, False, False, False, False, False, False,\n",
              "                    False, False, False, False, False, False, False, False,\n",
              "                    False, False, False, False],\n",
              "        fill_value='?',\n",
              "             dtype=object),\n",
              " 'params': [{'alpha': 0.1,\n",
              "   'loss': 'squared_error',\n",
              "   'max_iter': 1000,\n",
              "   'penalty': 'l1'},\n",
              "  {'alpha': 0.1, 'loss': 'squared_error', 'max_iter': 1000, 'penalty': 'l2'},\n",
              "  {'alpha': 0.1, 'loss': 'squared_error', 'max_iter': 2000, 'penalty': 'l1'},\n",
              "  {'alpha': 0.1, 'loss': 'squared_error', 'max_iter': 2000, 'penalty': 'l2'},\n",
              "  {'alpha': 0.1, 'loss': 'squared_error', 'max_iter': 5000, 'penalty': 'l1'},\n",
              "  {'alpha': 0.1, 'loss': 'squared_error', 'max_iter': 5000, 'penalty': 'l2'},\n",
              "  {'alpha': 0.1, 'loss': 'huber', 'max_iter': 1000, 'penalty': 'l1'},\n",
              "  {'alpha': 0.1, 'loss': 'huber', 'max_iter': 1000, 'penalty': 'l2'},\n",
              "  {'alpha': 0.1, 'loss': 'huber', 'max_iter': 2000, 'penalty': 'l1'},\n",
              "  {'alpha': 0.1, 'loss': 'huber', 'max_iter': 2000, 'penalty': 'l2'},\n",
              "  {'alpha': 0.1, 'loss': 'huber', 'max_iter': 5000, 'penalty': 'l1'},\n",
              "  {'alpha': 0.1, 'loss': 'huber', 'max_iter': 5000, 'penalty': 'l2'},\n",
              "  {'alpha': 0.01, 'loss': 'squared_error', 'max_iter': 1000, 'penalty': 'l1'},\n",
              "  {'alpha': 0.01, 'loss': 'squared_error', 'max_iter': 1000, 'penalty': 'l2'},\n",
              "  {'alpha': 0.01, 'loss': 'squared_error', 'max_iter': 2000, 'penalty': 'l1'},\n",
              "  {'alpha': 0.01, 'loss': 'squared_error', 'max_iter': 2000, 'penalty': 'l2'},\n",
              "  {'alpha': 0.01, 'loss': 'squared_error', 'max_iter': 5000, 'penalty': 'l1'},\n",
              "  {'alpha': 0.01, 'loss': 'squared_error', 'max_iter': 5000, 'penalty': 'l2'},\n",
              "  {'alpha': 0.01, 'loss': 'huber', 'max_iter': 1000, 'penalty': 'l1'},\n",
              "  {'alpha': 0.01, 'loss': 'huber', 'max_iter': 1000, 'penalty': 'l2'},\n",
              "  {'alpha': 0.01, 'loss': 'huber', 'max_iter': 2000, 'penalty': 'l1'},\n",
              "  {'alpha': 0.01, 'loss': 'huber', 'max_iter': 2000, 'penalty': 'l2'},\n",
              "  {'alpha': 0.01, 'loss': 'huber', 'max_iter': 5000, 'penalty': 'l1'},\n",
              "  {'alpha': 0.01, 'loss': 'huber', 'max_iter': 5000, 'penalty': 'l2'},\n",
              "  {'alpha': 0.001, 'loss': 'squared_error', 'max_iter': 1000, 'penalty': 'l1'},\n",
              "  {'alpha': 0.001, 'loss': 'squared_error', 'max_iter': 1000, 'penalty': 'l2'},\n",
              "  {'alpha': 0.001, 'loss': 'squared_error', 'max_iter': 2000, 'penalty': 'l1'},\n",
              "  {'alpha': 0.001, 'loss': 'squared_error', 'max_iter': 2000, 'penalty': 'l2'},\n",
              "  {'alpha': 0.001, 'loss': 'squared_error', 'max_iter': 5000, 'penalty': 'l1'},\n",
              "  {'alpha': 0.001, 'loss': 'squared_error', 'max_iter': 5000, 'penalty': 'l2'},\n",
              "  {'alpha': 0.001, 'loss': 'huber', 'max_iter': 1000, 'penalty': 'l1'},\n",
              "  {'alpha': 0.001, 'loss': 'huber', 'max_iter': 1000, 'penalty': 'l2'},\n",
              "  {'alpha': 0.001, 'loss': 'huber', 'max_iter': 2000, 'penalty': 'l1'},\n",
              "  {'alpha': 0.001, 'loss': 'huber', 'max_iter': 2000, 'penalty': 'l2'},\n",
              "  {'alpha': 0.001, 'loss': 'huber', 'max_iter': 5000, 'penalty': 'l1'},\n",
              "  {'alpha': 0.001, 'loss': 'huber', 'max_iter': 5000, 'penalty': 'l2'}],\n",
              " 'split0_test_score': array([ 0.50596671,  0.58620166,  0.50596671,  0.58620166,  0.50596671,\n",
              "         0.58620166, -0.06035327,  0.35929025, -0.06035327,  0.35929025,\n",
              "        -0.06035327,  0.35929025,  0.61670706,  0.61897856,  0.61670706,\n",
              "         0.61897856,  0.61670706,  0.61897856,  0.48201634,  0.55135878,\n",
              "         0.48201634,  0.55135878,  0.48201634,  0.55135878,  0.61964486,\n",
              "         0.61941098,  0.61964486,  0.61941098,  0.61964486,  0.61941098,\n",
              "         0.55847737,  0.56847387,  0.55847737,  0.56847387,  0.55847737,\n",
              "         0.56847387]),\n",
              " 'split1_test_score': array([ 0.46986956,  0.54216062,  0.46986956,  0.54216062,  0.46986956,\n",
              "         0.54216062, -0.05379977,  0.34581072, -0.05379977,  0.34581072,\n",
              "        -0.05379977,  0.34581072,  0.57047782,  0.57688244,  0.57047782,\n",
              "         0.57688244,  0.57047782,  0.57688244,  0.45049813,  0.52394593,\n",
              "         0.45049813,  0.52394593,  0.45049813,  0.52394593,  0.57353224,\n",
              "         0.57278449,  0.57353224,  0.57278449,  0.57353224,  0.57278449,\n",
              "         0.52980367,  0.5402148 ,  0.52980367,  0.5402148 ,  0.52980367,\n",
              "         0.5402148 ]),\n",
              " 'split2_test_score': array([ 5.00787817e-01, -6.37418710e+00,  5.00787817e-01, -6.37418710e+00,\n",
              "         5.00787817e-01, -6.37418710e+00, -6.60593614e-02,  3.60473781e-01,\n",
              "        -6.60593614e-02,  3.60473781e-01, -6.60593614e-02,  3.60473781e-01,\n",
              "         5.93724034e-01, -3.93717553e+05,  5.93724034e-01, -3.93717553e+05,\n",
              "         5.93724034e-01, -3.93717553e+05,  4.78223846e-01,  5.45076406e-01,\n",
              "         4.78223846e-01,  5.45076406e-01,  4.78223846e-01,  5.45076406e-01,\n",
              "        -8.15319614e+05, -1.22637669e+06, -8.15319614e+05, -1.22637669e+06,\n",
              "        -8.15319614e+05, -1.22637669e+06,  5.49648984e-01,  5.60161430e-01,\n",
              "         5.49648984e-01,  5.60161430e-01,  5.49648984e-01,  5.60161430e-01]),\n",
              " 'split3_test_score': array([ 0.49627052,  0.57301751,  0.49627052,  0.57301751,  0.49627052,\n",
              "         0.57301751, -0.05595233,  0.35670199, -0.05595233,  0.35670199,\n",
              "        -0.05595233,  0.35670199,  0.59539469,  0.59376422,  0.59539469,\n",
              "         0.59376422,  0.59539469,  0.59376422,  0.47544452,  0.53862693,\n",
              "         0.47544452,  0.53862693,  0.47544452,  0.53862693,  0.5907668 ,\n",
              "         0.59011628,  0.5907668 ,  0.59011628,  0.5907668 ,  0.59011628,\n",
              "         0.54700107,  0.55566353,  0.54700107,  0.55566353,  0.54700107,\n",
              "         0.55566353]),\n",
              " 'mean_test_score': array([ 4.93223652e-01, -1.16820183e+00,  4.93223652e-01, -1.16820183e+00,\n",
              "         4.93223652e-01, -1.16820183e+00, -5.90411827e-02,  3.55569187e-01,\n",
              "        -5.90411827e-02,  3.55569187e-01, -5.90411827e-02,  3.55569187e-01,\n",
              "         5.94075902e-01, -9.84289408e+04,  5.94075902e-01, -9.84289408e+04,\n",
              "         5.94075902e-01, -9.84289408e+04,  4.71545708e-01,  5.39752010e-01,\n",
              "         4.71545708e-01,  5.39752010e-01,  4.71545708e-01,  5.39752010e-01,\n",
              "        -2.03829457e+05, -3.06593727e+05, -2.03829457e+05, -3.06593727e+05,\n",
              "        -2.03829457e+05, -3.06593727e+05,  5.46232777e-01,  5.56128405e-01,\n",
              "         5.46232777e-01,  5.56128405e-01,  5.46232777e-01,  5.56128405e-01]),\n",
              " 'std_test_score': array([1.39131147e-02, 3.00571950e+00, 1.39131147e-02, 3.00571950e+00,\n",
              "        1.39131147e-02, 3.00571950e+00, 4.69014356e-03, 5.79681577e-03,\n",
              "        4.69014356e-03, 5.79681577e-03, 4.69014356e-03, 5.79681577e-03,\n",
              "        1.63623190e-02, 1.70484960e+05, 1.63623190e-02, 1.70484960e+05,\n",
              "        1.63623190e-02, 1.70484960e+05, 1.23736910e-02, 1.01755151e-02,\n",
              "        1.23736910e-02, 1.01755151e-02, 1.23736910e-02, 1.01755151e-02,\n",
              "        3.53044006e+05, 5.31036941e+05, 3.53044006e+05, 5.31036941e+05,\n",
              "        3.53044006e+05, 5.31036941e+05, 1.03935837e-02, 1.02729589e-02,\n",
              "        1.03935837e-02, 1.02729589e-02, 1.03935837e-02, 1.02729589e-02]),\n",
              " 'rank_test_score': array([13, 25, 13, 25, 13, 25, 22, 19, 22, 19, 22, 19,  1, 28,  1, 28,  1,\n",
              "        28, 16, 10, 16, 10, 16, 10, 31, 34, 31, 34, 31, 34,  7,  4,  7,  4,\n",
              "         7,  4], dtype=int32),\n",
              " 'split0_train_score': array([ 0.48983279,  0.56593522,  0.48983279,  0.56593522,  0.48983279,\n",
              "         0.56593522, -0.05763591,  0.34981158, -0.05763591,  0.34981158,\n",
              "        -0.05763591,  0.34981158,  0.59327613,  0.59266626,  0.59327613,\n",
              "         0.59266626,  0.59327613,  0.59266626,  0.46714175,  0.53517128,\n",
              "         0.46714175,  0.53517128,  0.46714175,  0.53517128,  0.59205243,\n",
              "         0.5915611 ,  0.59205243,  0.5915611 ,  0.59205243,  0.5915611 ,\n",
              "         0.54148798,  0.55147524,  0.54148798,  0.55147524,  0.54148798,\n",
              "         0.55147524]),\n",
              " 'split1_train_score': array([ 0.49781132,  0.56131147,  0.49781132,  0.56131147,  0.49781132,\n",
              "         0.56131147, -0.05883008,  0.36443095, -0.05883008,  0.36443095,\n",
              "        -0.05883008,  0.36443095,  0.58347195,  0.58448783,  0.58347195,\n",
              "         0.58448783,  0.58347195,  0.58448783,  0.4794474 ,  0.54681469,\n",
              "         0.4794474 ,  0.54681469,  0.4794474 ,  0.54681469,  0.58060926,\n",
              "         0.57857827,  0.58060926,  0.57857827,  0.58060926,  0.57857827,\n",
              "         0.55329805,  0.56299888,  0.55329805,  0.56299888,  0.55329805,\n",
              "         0.56299888]),\n",
              " 'split2_train_score': array([ 4.95041911e-01, -5.48405617e+00,  4.95041911e-01, -5.48405617e+00,\n",
              "         4.95041911e-01, -5.48405617e+00, -6.12965019e-02,  3.51638113e-01,\n",
              "        -6.12965019e-02,  3.51638113e-01, -6.12965019e-02,  3.51638113e-01,\n",
              "         5.99129041e-01, -3.37117221e+05,  5.99129041e-01, -3.37117221e+05,\n",
              "         5.99129041e-01, -3.37117221e+05,  4.71448780e-01,  5.39762719e-01,\n",
              "         4.71448780e-01,  5.39762719e-01,  4.71448780e-01,  5.39762719e-01,\n",
              "        -6.98087162e+05, -1.05002185e+06, -6.98087162e+05, -1.05002185e+06,\n",
              "        -6.98087162e+05, -1.05002185e+06,  5.46917795e-01,  5.57419308e-01,\n",
              "         5.46917795e-01,  5.57419308e-01,  5.46917795e-01,  5.57419308e-01]),\n",
              " 'split3_train_score': array([ 0.49235008,  0.57714311,  0.49235008,  0.57714311,  0.49235008,\n",
              "         0.57714311, -0.05801421,  0.35801322, -0.05801421,  0.35801322,\n",
              "        -0.05801421,  0.35801322,  0.60957528,  0.61332092,  0.60957528,\n",
              "         0.61332092,  0.60957528,  0.61332092,  0.46942387,  0.54020516,\n",
              "         0.46942387,  0.54020516,  0.46942387,  0.54020516,  0.61452067,\n",
              "         0.61459361,  0.61452067,  0.61459361,  0.61452067,  0.61459361,\n",
              "         0.54569705,  0.557823  ,  0.54569705,  0.557823  ,  0.54569705,\n",
              "         0.557823  ]),\n",
              " 'mean_train_score': array([ 4.93759027e-01, -9.44916590e-01,  4.93759027e-01, -9.44916590e-01,\n",
              "         4.93759027e-01, -9.44916590e-01, -5.89441748e-02,  3.55973468e-01,\n",
              "        -5.89441748e-02,  3.55973468e-01, -5.89441748e-02,  3.55973468e-01,\n",
              "         5.96363100e-01, -8.42788577e+04,  5.96363100e-01, -8.42788577e+04,\n",
              "         5.96363100e-01, -8.42788577e+04,  4.71865449e-01,  5.40488459e-01,\n",
              "         4.71865449e-01,  5.40488459e-01,  4.71865449e-01,  5.40488459e-01,\n",
              "        -1.74521344e+05, -2.62505017e+05, -1.74521344e+05, -2.62505017e+05,\n",
              "        -1.74521344e+05, -2.62505017e+05,  5.46850220e-01,  5.57429109e-01,\n",
              "         5.46850220e-01,  5.57429109e-01,  5.46850220e-01,  5.57429109e-01]),\n",
              " 'std_train_score': array([2.97772386e-03, 2.62067978e+00, 2.97772386e-03, 2.62067978e+00,\n",
              "        2.97772386e-03, 2.62067978e+00, 1.42503066e-03, 5.75442799e-03,\n",
              "        1.42503066e-03, 5.75442799e-03, 1.42503066e-03, 5.75442799e-03,\n",
              "        9.45943217e-03, 1.45976297e+05, 9.45943217e-03, 1.45976297e+05,\n",
              "        9.45943217e-03, 1.45976297e+05, 4.63503512e-03, 4.15031718e-03,\n",
              "        4.63503512e-03, 4.15031718e-03, 4.63503512e-03, 4.15031718e-03,\n",
              "        3.02280866e+05, 4.54673057e+05, 3.02280866e+05, 4.54673057e+05,\n",
              "        3.02280866e+05, 4.54673057e+05, 4.23268403e-03, 4.08124053e-03,\n",
              "        4.23268403e-03, 4.08124053e-03, 4.23268403e-03, 4.08124053e-03])}"
            ]
          },
          "metadata": {},
          "execution_count": 39
        }
      ]
    },
    {
      "cell_type": "markdown",
      "source": [
        "**Solution**"
      ],
      "metadata": {
        "id": "Ihxz3quCfglk"
      }
    },
    {
      "cell_type": "code",
      "source": [
        "import numpy as np\n",
        "import sklearn\n",
        "\n",
        "from sklearn.datasets import fetch_california_housing\n",
        "housing = fetch_california_housing()\n",
        "\n",
        "from sklearn.model_selection import train_test_split\n",
        "X_train, X_test, y_train, y_test = train_test_split(housing.data, housing.target, test_size=0.3, random_state = 1)"
      ],
      "metadata": {
        "id": "E8yp8LNDnVZG"
      },
      "execution_count": null,
      "outputs": []
    },
    {
      "cell_type": "code",
      "source": [
        "from sklearn.preprocessing import StandardScaler\n",
        "\n",
        "scaler = StandardScaler(with_mean=True, with_std=True)\n",
        "X_train_norm =scaler.fit_transform(X_train)\n",
        "X_test_norm = scaler.transform(X_test)\n",
        "\n",
        "from sklearn.model_selection import GridSearchCV\n",
        "from sklearn.linear_model import SGDRegressor\n",
        "\n",
        "sgdregressor = SGDRegressor(random_state = 1)\n",
        "\n",
        "sgdr_model = GridSearchCV(sgdregressor,\n",
        "                        {'loss':['squared_error', 'huber'],\n",
        "                          'penalty':['l2','l1'],\n",
        "                          'alpha':[0.1,0.01,0.001],\n",
        "                          'max_iter':[1000,2000,5000]\n",
        "                          } ,\n",
        "                        cv = 4,\n",
        "                        return_train_score = True)\n",
        "sgdr_model.fit(X_train_norm, y_train)\n",
        "score = sgdr_model.score(X_test_norm,y_test)\n",
        "score"
      ],
      "metadata": {
        "colab": {
          "base_uri": "https://localhost:8080/"
        },
        "id": "uJeSEDcwmuut",
        "outputId": "d330934a-0cf4-43ec-b1b1-acdd0f7849d8"
      },
      "execution_count": null,
      "outputs": [
        {
          "output_type": "execute_result",
          "data": {
            "text/plain": [
              "0.5951040704728554"
            ]
          },
          "metadata": {},
          "execution_count": 7
        }
      ]
    },
    {
      "cell_type": "code",
      "source": [
        "sgdr_model.best_params_"
      ],
      "metadata": {
        "colab": {
          "base_uri": "https://localhost:8080/"
        },
        "id": "GSbfrGiMq3E5",
        "outputId": "6162813b-1111-4e35-afa2-98cf39ce23b9"
      },
      "execution_count": null,
      "outputs": [
        {
          "output_type": "execute_result",
          "data": {
            "text/plain": [
              "{'alpha': 0.01, 'loss': 'squared_error', 'max_iter': 1000, 'penalty': 'l1'}"
            ]
          },
          "metadata": {},
          "execution_count": 8
        }
      ]
    },
    {
      "cell_type": "markdown",
      "source": [
        "#Question 3- Graded\n",
        "\n",
        "Write a code to predict the house price of California Housing dataset using GridSearchCV.\n",
        "\n",
        "Write your code based on the following keypoints:\n",
        "- Split the California housing dataset into train and test set with 70:30 ratio with `random_state = 1`.\n",
        "- Import StandardScaler for scaling X_train and X_test to X_train_norm and X_test_norm `with_mean = True` and `with_std = True`\n",
        "- Pass Ridge Regression Model through GridSearchCV\n",
        "- Hyperparamter tuning to be done over\n",
        "  - `alpha` as 0.5,0.1,0.05,0.01,0.005,0.001\n",
        "  - With or without intercept\n",
        "- Cross Validation = 4\n",
        "- Train the 'model' and compute the 'score' on test data\n",
        "\n",
        "Question 1: Enter the value of the 'score'. (Enter your answer in four decimal places)\n",
        "\n",
        "(NAT) **Answer: 0.5971 (Range: 0.5970-0.5980)**\n",
        "\n",
        "Question 2: Enter the value of the best `alpha` obtained.\n",
        "\n",
        "(NAT) **Answer: 0.5**"
      ],
      "metadata": {
        "id": "TC8f0QounWCM"
      }
    },
    {
      "cell_type": "markdown",
      "source": [
        "**Solution**"
      ],
      "metadata": {
        "id": "VHwwXS_siCIt"
      }
    },
    {
      "cell_type": "code",
      "source": [
        "import numpy as np\n",
        "import sklearn\n",
        "\n",
        "from sklearn.datasets import fetch_california_housing\n",
        "housing = fetch_california_housing()\n",
        "\n",
        "from sklearn.model_selection import train_test_split\n",
        "X_train, X_test, y_train, y_test = train_test_split(housing.data, housing.target, test_size=0.3, random_state = 1)"
      ],
      "metadata": {
        "id": "BLXU6jTPnWCO"
      },
      "execution_count": null,
      "outputs": []
    },
    {
      "cell_type": "code",
      "source": [
        "def compute_score(X_train, y_train, X_test, y_test):\n",
        "  #Your code starts here:\n",
        "  from sklearn.preprocessing import StandardScaler\n",
        "\n",
        "  scaler = StandardScaler(with_mean=True, with_std=True)\n",
        "  X_train_norm =scaler.fit_transform(X_train)\n",
        "  X_test_norm = scaler.transform(X_test)\n",
        "\n",
        "  from sklearn.model_selection import GridSearchCV\n",
        "  from sklearn.linear_model import Ridge\n",
        "\n",
        "  ridge = Ridge()\n",
        "\n",
        "  ridge_model = GridSearchCV(ridge,\n",
        "                        {'fit_intercept':[True,False],\n",
        "                          'alpha':[0.5,0.1,0.05,0.01,0.005,0.001]\n",
        "                         } ,\n",
        "                        cv = 4,\n",
        "                        )\n",
        "  ridge_model.fit(X_train_norm, y_train)\n",
        "  score = ridge_model.score(X_test_norm,y_test)\n",
        "  print(ridge_model.best_params_)\n",
        "  return score\n",
        "  #Your code ends here\n",
        "\n",
        "  #pass"
      ],
      "metadata": {
        "id": "r8SRd_NbnWCP"
      },
      "execution_count": null,
      "outputs": []
    },
    {
      "cell_type": "code",
      "source": [
        "score = compute_score(X_train, y_train, X_test, y_test)\n",
        "print(score)"
      ],
      "metadata": {
        "colab": {
          "base_uri": "https://localhost:8080/"
        },
        "id": "VtjcNGSEifYV",
        "outputId": "02490a5b-e5f2-4a16-e331-e77c37872726"
      },
      "execution_count": null,
      "outputs": [
        {
          "output_type": "stream",
          "name": "stdout",
          "text": [
            "{'alpha': 0.5, 'fit_intercept': True}\n",
            "0.5971450612248769\n"
          ]
        }
      ]
    },
    {
      "cell_type": "markdown",
      "source": [
        "#Question 4- Graded\n",
        "\n",
        "Write a code to predict the house price of California Housing dataset using GridSearchCV.\n",
        "\n",
        "Write your code based on the following keypoints:\n",
        "- Split the California housing dataset into train and test set with 60:40 ratio with `random_state = 1`.\n",
        "- Import StandardScaler for scaling X_train and X_test to X_train_norm and X_test_norm `with_mean = True` and `with_std = True`\n",
        "- Pass Lasso Model through GridSearchCV\n",
        "- Hyperparamter tuning to be done over\n",
        "  - `alpha` as 0.5,0.1,0.05,0.01,0.005,0.001\n",
        "  - With or without intercept\n",
        "- Cross Validation = 6\n",
        "- Train the 'model' and compute the 'score' on test data\n",
        "\n",
        "Question 1: (Multiple select)\n",
        "\n",
        "Which of the following is the 'score' computed by your code?\n",
        "\n",
        "(a) 0.6065831805608592\n",
        "\n",
        "(b) 0.806583116745592\n",
        "\n",
        "(c) 0.1224876959714506\n",
        "\n",
        "(d) 0.1214876325845632\n",
        "\n",
        "(MCQ) **Answer: (Option a)**\n",
        "\n",
        "Question 2: Enter the value of the best `alpha` obtained.\n",
        "\n",
        "(NAT) **Answer: 0.001**\n"
      ],
      "metadata": {
        "id": "q3Bt5c2BnWQ3"
      }
    },
    {
      "cell_type": "markdown",
      "source": [
        "**Solution**"
      ],
      "metadata": {
        "id": "6iuPwhncjJN0"
      }
    },
    {
      "cell_type": "code",
      "source": [
        "import numpy as np\n",
        "import sklearn\n",
        "\n",
        "from sklearn.datasets import fetch_california_housing\n",
        "housing = fetch_california_housing()\n",
        "\n",
        "from sklearn.model_selection import train_test_split\n",
        "X_train, X_test, y_train, y_test = train_test_split(housing.data, housing.target, test_size=0.4, random_state = 1)"
      ],
      "metadata": {
        "id": "JSheW7HrnWQ6"
      },
      "execution_count": null,
      "outputs": []
    },
    {
      "cell_type": "code",
      "source": [
        "def compute_score(X_train, y_train, X_test, y_test):\n",
        "  #Your code starts here:\n",
        "  from sklearn.preprocessing import StandardScaler\n",
        "\n",
        "  scaler = StandardScaler(with_mean=True, with_std=True)\n",
        "  X_train_norm =scaler.fit_transform(X_train)\n",
        "  X_test_norm = scaler.transform(X_test)\n",
        "\n",
        "  from sklearn.model_selection import RandomizedSearchCV\n",
        "  from sklearn.linear_model import Lasso\n",
        "\n",
        "  lasso_model = Lasso()\n",
        "\n",
        "  lasso_model = RandomizedSearchCV(lasso_model,\n",
        "                        {'fit_intercept':[True,False],\n",
        "                          'alpha':[1,0.1,0.01,0.001]\n",
        "                          } ,\n",
        "                        cv = 6,\n",
        "                        )\n",
        "  lasso_model.fit(X_train_norm, y_train)\n",
        "  score = lasso_model.score(X_test_norm,y_test)\n",
        "  print(lasso_model.best_params_)\n",
        "  return score\n",
        "  #Your code ends here\n",
        "\n",
        "  pass"
      ],
      "metadata": {
        "id": "NBvfzeWunWQ8"
      },
      "execution_count": null,
      "outputs": []
    },
    {
      "cell_type": "code",
      "source": [
        "score = compute_score(X_train, y_train, X_test, y_test)\n",
        "print(score)"
      ],
      "metadata": {
        "colab": {
          "base_uri": "https://localhost:8080/"
        },
        "id": "OcYaKOglkUVW",
        "outputId": "08d8f4ce-b6f4-4e0f-c443-7e08b99378ac"
      },
      "execution_count": null,
      "outputs": [
        {
          "output_type": "stream",
          "name": "stderr",
          "text": [
            "/usr/local/lib/python3.7/dist-packages/sklearn/model_selection/_search.py:296: UserWarning: The total space of parameters 8 is smaller than n_iter=10. Running 8 iterations. For exhaustive searches, use GridSearchCV.\n",
            "  UserWarning,\n"
          ]
        },
        {
          "output_type": "stream",
          "name": "stdout",
          "text": [
            "{'fit_intercept': True, 'alpha': 0.001}\n",
            "0.6065831805608592\n"
          ]
        }
      ]
    }
  ]
}